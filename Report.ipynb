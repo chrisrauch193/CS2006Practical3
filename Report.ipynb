{
 "cells": [
  {
   "cell_type": "markdown",
   "metadata": {},
   "source": [
    "This is the Import statements required for the data"
   ]
  },
  {
   "cell_type": "code",
   "execution_count": 1,
   "metadata": {
    "collapsed": true
   },
   "outputs": [],
   "source": [
    "%matplotlib inline\n",
    "%config InlineBackend.figure_format = 'retina'\n",
    "import pandas as pd\n",
    "import matplotlib as mpl\n",
    "import matplotlib.pyplot as plt\n",
    "plt.style.use('ggplot')\n",
    "pd.Series.__unicode__ = pd.Series.to_string\n",
    "import numpy as np\n",
    "from __future__ import print_function\n",
    "from ipywidgets import interact, interactive, fixed, interact_manual\n",
    "import ipywidgets as widgets"
   ]
  },
  {
   "cell_type": "code",
   "execution_count": 2,
   "metadata": {
    "collapsed": true
   },
   "outputs": [],
   "source": [
    "import plotting"
   ]
  },
  {
   "cell_type": "code",
   "execution_count": 3,
   "metadata": {
    "collapsed": true
   },
   "outputs": [],
   "source": [
    "import copy"
   ]
  },
  {
   "cell_type": "code",
   "execution_count": 4,
   "metadata": {
    "collapsed": true
   },
   "outputs": [],
   "source": [
    "import getDataFrameExtended as getdata"
   ]
  },
  {
   "cell_type": "code",
   "execution_count": 5,
   "metadata": {
    "collapsed": true
   },
   "outputs": [],
   "source": [
    "import utils"
   ]
  },
  {
   "cell_type": "code",
   "execution_count": 6,
   "metadata": {},
   "outputs": [
    {
     "name": "stdout",
     "output_type": "stream",
     "text": [
      "1683\n",
      "11.611489942038869\n",
      "41.932281059063136\n",
      "11.611489942038869\n",
      "41.932281059063136\n",
      "cats\n"
     ]
    }
   ],
   "source": [
    "import StudentAnalysis"
   ]
  },
  {
   "cell_type": "code",
   "execution_count": 7,
   "metadata": {
    "collapsed": true
   },
   "outputs": [],
   "source": [
    "df=pd.read_csv(\"./census2011.csv\")"
   ]
  },
  {
   "cell_type": "code",
   "execution_count": 8,
   "metadata": {},
   "outputs": [
    {
     "data": {
      "text/html": [
       "<div>\n",
       "<table border=\"1\" class=\"dataframe\">\n",
       "  <thead>\n",
       "    <tr style=\"text-align: right;\">\n",
       "      <th></th>\n",
       "      <th>Person ID</th>\n",
       "      <th>Region</th>\n",
       "      <th>Residence Type</th>\n",
       "      <th>Family Composition</th>\n",
       "      <th>Population Base</th>\n",
       "      <th>Sex</th>\n",
       "      <th>Age</th>\n",
       "      <th>Marital Status</th>\n",
       "      <th>Student</th>\n",
       "      <th>Country of Birth</th>\n",
       "      <th>Health</th>\n",
       "      <th>Ethnic Group</th>\n",
       "      <th>Religion</th>\n",
       "      <th>Economic Activity</th>\n",
       "      <th>Occupation</th>\n",
       "      <th>Industry</th>\n",
       "      <th>Hours worked per week</th>\n",
       "      <th>Approximated Social Grade</th>\n",
       "    </tr>\n",
       "  </thead>\n",
       "  <tbody>\n",
       "    <tr>\n",
       "      <th>0</th>\n",
       "      <td>7394816</td>\n",
       "      <td>E12000001</td>\n",
       "      <td>H</td>\n",
       "      <td>2</td>\n",
       "      <td>1</td>\n",
       "      <td>2</td>\n",
       "      <td>6</td>\n",
       "      <td>2</td>\n",
       "      <td>2</td>\n",
       "      <td>1</td>\n",
       "      <td>2</td>\n",
       "      <td>1</td>\n",
       "      <td>2</td>\n",
       "      <td>5</td>\n",
       "      <td>8</td>\n",
       "      <td>2</td>\n",
       "      <td>-9</td>\n",
       "      <td>4</td>\n",
       "    </tr>\n",
       "    <tr>\n",
       "      <th>1</th>\n",
       "      <td>7394745</td>\n",
       "      <td>E12000001</td>\n",
       "      <td>H</td>\n",
       "      <td>5</td>\n",
       "      <td>1</td>\n",
       "      <td>1</td>\n",
       "      <td>4</td>\n",
       "      <td>1</td>\n",
       "      <td>2</td>\n",
       "      <td>1</td>\n",
       "      <td>1</td>\n",
       "      <td>1</td>\n",
       "      <td>2</td>\n",
       "      <td>1</td>\n",
       "      <td>8</td>\n",
       "      <td>6</td>\n",
       "      <td>4</td>\n",
       "      <td>3</td>\n",
       "    </tr>\n",
       "    <tr>\n",
       "      <th>2</th>\n",
       "      <td>7395066</td>\n",
       "      <td>E12000001</td>\n",
       "      <td>H</td>\n",
       "      <td>3</td>\n",
       "      <td>1</td>\n",
       "      <td>2</td>\n",
       "      <td>4</td>\n",
       "      <td>1</td>\n",
       "      <td>2</td>\n",
       "      <td>1</td>\n",
       "      <td>1</td>\n",
       "      <td>1</td>\n",
       "      <td>1</td>\n",
       "      <td>1</td>\n",
       "      <td>6</td>\n",
       "      <td>11</td>\n",
       "      <td>3</td>\n",
       "      <td>4</td>\n",
       "    </tr>\n",
       "    <tr>\n",
       "      <th>3</th>\n",
       "      <td>7395329</td>\n",
       "      <td>E12000001</td>\n",
       "      <td>H</td>\n",
       "      <td>3</td>\n",
       "      <td>1</td>\n",
       "      <td>2</td>\n",
       "      <td>2</td>\n",
       "      <td>1</td>\n",
       "      <td>2</td>\n",
       "      <td>1</td>\n",
       "      <td>2</td>\n",
       "      <td>1</td>\n",
       "      <td>2</td>\n",
       "      <td>1</td>\n",
       "      <td>7</td>\n",
       "      <td>7</td>\n",
       "      <td>3</td>\n",
       "      <td>2</td>\n",
       "    </tr>\n",
       "    <tr>\n",
       "      <th>4</th>\n",
       "      <td>7394712</td>\n",
       "      <td>E12000001</td>\n",
       "      <td>H</td>\n",
       "      <td>3</td>\n",
       "      <td>1</td>\n",
       "      <td>1</td>\n",
       "      <td>5</td>\n",
       "      <td>4</td>\n",
       "      <td>2</td>\n",
       "      <td>1</td>\n",
       "      <td>1</td>\n",
       "      <td>1</td>\n",
       "      <td>2</td>\n",
       "      <td>1</td>\n",
       "      <td>1</td>\n",
       "      <td>4</td>\n",
       "      <td>3</td>\n",
       "      <td>2</td>\n",
       "    </tr>\n",
       "  </tbody>\n",
       "</table>\n",
       "</div>"
      ],
      "text/plain": [
       "   Person ID     Region Residence Type  Family Composition  Population Base  \\\n",
       "0    7394816  E12000001              H                   2                1   \n",
       "1    7394745  E12000001              H                   5                1   \n",
       "2    7395066  E12000001              H                   3                1   \n",
       "3    7395329  E12000001              H                   3                1   \n",
       "4    7394712  E12000001              H                   3                1   \n",
       "\n",
       "   Sex  Age  Marital Status  Student  Country of Birth  Health  Ethnic Group  \\\n",
       "0    2    6               2        2                 1       2             1   \n",
       "1    1    4               1        2                 1       1             1   \n",
       "2    2    4               1        2                 1       1             1   \n",
       "3    2    2               1        2                 1       2             1   \n",
       "4    1    5               4        2                 1       1             1   \n",
       "\n",
       "   Religion  Economic Activity  Occupation  Industry  Hours worked per week  \\\n",
       "0         2                  5           8         2                     -9   \n",
       "1         2                  1           8         6                      4   \n",
       "2         1                  1           6        11                      3   \n",
       "3         2                  1           7         7                      3   \n",
       "4         2                  1           1         4                      3   \n",
       "\n",
       "   Approximated Social Grade  \n",
       "0                          4  \n",
       "1                          3  \n",
       "2                          4  \n",
       "3                          2  \n",
       "4                          2  "
      ]
     },
     "execution_count": 8,
     "metadata": {},
     "output_type": "execute_result"
    }
   ],
   "source": [
    "df.head()"
   ]
  },
  {
   "cell_type": "markdown",
   "metadata": {},
   "source": [
    "This takes the dataset, and then runs a function which translates all of the codes in the dataset to their corresponding values, as defined in MicroDataTeachingVariables pdf."
   ]
  },
  {
   "cell_type": "code",
   "execution_count": 9,
   "metadata": {
    "collapsed": true
   },
   "outputs": [],
   "source": [
    "newdf = copy.deepcopy(df)\n",
    "utils.translate(newdf)"
   ]
  },
  {
   "cell_type": "code",
   "execution_count": 10,
   "metadata": {},
   "outputs": [
    {
     "data": {
      "text/html": [
       "<div>\n",
       "<table border=\"1\" class=\"dataframe\">\n",
       "  <thead>\n",
       "    <tr style=\"text-align: right;\">\n",
       "      <th></th>\n",
       "      <th>Person ID</th>\n",
       "      <th>Region</th>\n",
       "      <th>Residence Type</th>\n",
       "      <th>Family Composition</th>\n",
       "      <th>Population Base</th>\n",
       "      <th>Sex</th>\n",
       "      <th>Age</th>\n",
       "      <th>Marital Status</th>\n",
       "      <th>Student</th>\n",
       "      <th>Country of Birth</th>\n",
       "      <th>Health</th>\n",
       "      <th>Ethnic Group</th>\n",
       "      <th>Religion</th>\n",
       "      <th>Economic Activity</th>\n",
       "      <th>Occupation</th>\n",
       "      <th>Industry</th>\n",
       "      <th>Hours worked per week</th>\n",
       "      <th>Approximated Social Grade</th>\n",
       "    </tr>\n",
       "  </thead>\n",
       "  <tbody>\n",
       "    <tr>\n",
       "      <th>0</th>\n",
       "      <td>7394816</td>\n",
       "      <td>North East</td>\n",
       "      <td>Not Resident</td>\n",
       "      <td>Married/Civil Partnership</td>\n",
       "      <td>Usual Resident</td>\n",
       "      <td>Female</td>\n",
       "      <td>55 to 64</td>\n",
       "      <td>Married/Civil Partnership</td>\n",
       "      <td>False</td>\n",
       "      <td>UK</td>\n",
       "      <td>Good Health</td>\n",
       "      <td>White</td>\n",
       "      <td>Christian</td>\n",
       "      <td>Retired</td>\n",
       "      <td>Process, Plant and Machine Operatives</td>\n",
       "      <td>Mining and Quarrying</td>\n",
       "      <td>No Code Required</td>\n",
       "      <td>DE</td>\n",
       "    </tr>\n",
       "    <tr>\n",
       "      <th>1</th>\n",
       "      <td>7394745</td>\n",
       "      <td>North East</td>\n",
       "      <td>Not Resident</td>\n",
       "      <td>Lone Parent Family (Female)</td>\n",
       "      <td>Usual Resident</td>\n",
       "      <td>Male</td>\n",
       "      <td>35 to 44</td>\n",
       "      <td>Single (Never Married/Civil Partnership)</td>\n",
       "      <td>False</td>\n",
       "      <td>UK</td>\n",
       "      <td>Very Good Health</td>\n",
       "      <td>White</td>\n",
       "      <td>Christian</td>\n",
       "      <td>Employee</td>\n",
       "      <td>Process, Plant and Machine Operatives</td>\n",
       "      <td>Transport and Storage</td>\n",
       "      <td>49 or More Hours</td>\n",
       "      <td>C2</td>\n",
       "    </tr>\n",
       "    <tr>\n",
       "      <th>2</th>\n",
       "      <td>7395066</td>\n",
       "      <td>North East</td>\n",
       "      <td>Not Resident</td>\n",
       "      <td>Cohabiting Couple Family</td>\n",
       "      <td>Usual Resident</td>\n",
       "      <td>Female</td>\n",
       "      <td>35 to 44</td>\n",
       "      <td>Single (Never Married/Civil Partnership)</td>\n",
       "      <td>False</td>\n",
       "      <td>UK</td>\n",
       "      <td>Very Good Health</td>\n",
       "      <td>White</td>\n",
       "      <td>No Religion</td>\n",
       "      <td>Employee</td>\n",
       "      <td>Caring, Leisure and Other Service</td>\n",
       "      <td>Human Health and Social Work</td>\n",
       "      <td>31 to 48 Hours</td>\n",
       "      <td>DE</td>\n",
       "    </tr>\n",
       "    <tr>\n",
       "      <th>3</th>\n",
       "      <td>7395329</td>\n",
       "      <td>North East</td>\n",
       "      <td>Not Resident</td>\n",
       "      <td>Cohabiting Couple Family</td>\n",
       "      <td>Usual Resident</td>\n",
       "      <td>Female</td>\n",
       "      <td>16 to 24</td>\n",
       "      <td>Single (Never Married/Civil Partnership)</td>\n",
       "      <td>False</td>\n",
       "      <td>UK</td>\n",
       "      <td>Good Health</td>\n",
       "      <td>White</td>\n",
       "      <td>Christian</td>\n",
       "      <td>Employee</td>\n",
       "      <td>Sales and Customer Service</td>\n",
       "      <td>Financial and Insurance</td>\n",
       "      <td>31 to 48 Hours</td>\n",
       "      <td>C1</td>\n",
       "    </tr>\n",
       "    <tr>\n",
       "      <th>4</th>\n",
       "      <td>7394712</td>\n",
       "      <td>North East</td>\n",
       "      <td>Not Resident</td>\n",
       "      <td>Cohabiting Couple Family</td>\n",
       "      <td>Usual Resident</td>\n",
       "      <td>Male</td>\n",
       "      <td>45 to 54</td>\n",
       "      <td>Divorced or Formerly in a Civil Partnership</td>\n",
       "      <td>False</td>\n",
       "      <td>UK</td>\n",
       "      <td>Very Good Health</td>\n",
       "      <td>White</td>\n",
       "      <td>Christian</td>\n",
       "      <td>Employee</td>\n",
       "      <td>Managers, Directors and Senior Officials</td>\n",
       "      <td>Wholesale and Retail Trade</td>\n",
       "      <td>31 to 48 Hours</td>\n",
       "      <td>C1</td>\n",
       "    </tr>\n",
       "  </tbody>\n",
       "</table>\n",
       "</div>"
      ],
      "text/plain": [
       "   Person ID      Region Residence Type           Family Composition  \\\n",
       "0    7394816  North East   Not Resident    Married/Civil Partnership   \n",
       "1    7394745  North East   Not Resident  Lone Parent Family (Female)   \n",
       "2    7395066  North East   Not Resident     Cohabiting Couple Family   \n",
       "3    7395329  North East   Not Resident     Cohabiting Couple Family   \n",
       "4    7394712  North East   Not Resident     Cohabiting Couple Family   \n",
       "\n",
       "  Population Base     Sex       Age  \\\n",
       "0  Usual Resident  Female  55 to 64   \n",
       "1  Usual Resident    Male  35 to 44   \n",
       "2  Usual Resident  Female  35 to 44   \n",
       "3  Usual Resident  Female  16 to 24   \n",
       "4  Usual Resident    Male  45 to 54   \n",
       "\n",
       "                                Marital Status Student Country of Birth  \\\n",
       "0                    Married/Civil Partnership   False               UK   \n",
       "1     Single (Never Married/Civil Partnership)   False               UK   \n",
       "2     Single (Never Married/Civil Partnership)   False               UK   \n",
       "3     Single (Never Married/Civil Partnership)   False               UK   \n",
       "4  Divorced or Formerly in a Civil Partnership   False               UK   \n",
       "\n",
       "             Health Ethnic Group     Religion Economic Activity  \\\n",
       "0       Good Health        White    Christian           Retired   \n",
       "1  Very Good Health        White    Christian          Employee   \n",
       "2  Very Good Health        White  No Religion          Employee   \n",
       "3       Good Health        White    Christian          Employee   \n",
       "4  Very Good Health        White    Christian          Employee   \n",
       "\n",
       "                                 Occupation                      Industry  \\\n",
       "0     Process, Plant and Machine Operatives          Mining and Quarrying   \n",
       "1     Process, Plant and Machine Operatives         Transport and Storage   \n",
       "2         Caring, Leisure and Other Service  Human Health and Social Work   \n",
       "3                Sales and Customer Service       Financial and Insurance   \n",
       "4  Managers, Directors and Senior Officials    Wholesale and Retail Trade   \n",
       "\n",
       "  Hours worked per week Approximated Social Grade  \n",
       "0      No Code Required                        DE  \n",
       "1      49 or More Hours                        C2  \n",
       "2        31 to 48 Hours                        DE  \n",
       "3        31 to 48 Hours                        C1  \n",
       "4        31 to 48 Hours                        C1  "
      ]
     },
     "execution_count": 10,
     "metadata": {},
     "output_type": "execute_result"
    }
   ],
   "source": [
    "newdf.head()"
   ]
  },
  {
   "cell_type": "markdown",
   "metadata": {},
   "source": [
    "Basic Requirement Number 2"
   ]
  },
  {
   "cell_type": "markdown",
   "metadata": {},
   "source": [
    "This returns the number of records in the dataset by counting the number of rows."
   ]
  },
  {
   "cell_type": "code",
   "execution_count": null,
   "metadata": {
    "collapsed": true
   },
   "outputs": [],
   "source": [
    "#Basic Requirement 2.1\n",
    "print(\"The number of records is \" + str(len(df)))"
   ]
  },
  {
   "cell_type": "markdown",
   "metadata": {},
   "source": [
    "This gets all of the data types for all of the columns in the dataset"
   ]
  },
  {
   "cell_type": "code",
   "execution_count": null,
   "metadata": {
    "collapsed": true
   },
   "outputs": [],
   "source": [
    "#Basic Requirement 2.2\n",
    "print(\"All Data Types:\\n\" + str(df.dtypes))"
   ]
  },
  {
   "cell_type": "markdown",
   "metadata": {},
   "source": [
    "To find all of the values in all of the columns, apart from the PersonID column, and the number of occurrences for each of the values, a value_counts was run across all of the columns, which got all of the unique values ion each column and the count of how many times each value occurred. "
   ]
  },
  {
   "cell_type": "code",
   "execution_count": null,
   "metadata": {
    "collapsed": true,
    "scrolled": true
   },
   "outputs": [],
   "source": [
    "#Basic Requirement 2.3\n",
    "for column in newdf:\n",
    "    if (column != \"Person ID\"):\n",
    "        print(str(column)+ \" Counts\\n\" +str(newdf[column].value_counts()) + \"\\n\")"
   ]
  },
  {
   "cell_type": "markdown",
   "metadata": {},
   "source": [
    "Plotting Graph Basic Requirements 3"
   ]
  },
  {
   "cell_type": "markdown",
   "metadata": {},
   "source": [
    "Examining a sample of the consensus, it appears that the regions of the South East of England and London have the highest populations, and Wales and the North East of England have the smallest population by region in the UK."
   ]
  },
  {
   "cell_type": "code",
   "execution_count": null,
   "metadata": {
    "collapsed": true
   },
   "outputs": [],
   "source": [
    "# Number of Records per region\n",
    "plt.figure(figsize=(12, 9))\n",
    "plotting.plot_bar_group_count(\n",
    "    newdf,\n",
    "    'Region',\n",
    "    'Frequencies of Resident Regions in 2011 Census',\n",
    ");"
   ]
  },
  {
   "cell_type": "markdown",
   "metadata": {},
   "source": [
    "Examining the graph, it appears that the largest Employment group has no code for it in the census data which means that the largest group of people are people aged under 16, people who have never worked and students or schoolchildren living away during term-time. Amongst the rest of the data, The largest groups are elementary occupations or professional groups. The smallest group is the Process, Plant, and Machine Operatives."
   ]
  },
  {
   "cell_type": "code",
   "execution_count": null,
   "metadata": {
    "collapsed": true
   },
   "outputs": [],
   "source": [
    "# Number of records per occupation\n",
    "plt.figure(figsize=(15, 9))\n",
    "plotting.plot_bar_group_count(\n",
    "    newdf,\n",
    "    'Occupation',\n",
    "    'Frequencies of Resident Occupations in 2011 Census',\n",
    ");"
   ]
  },
  {
   "cell_type": "markdown",
   "metadata": {},
   "source": [
    "With regards to age, the largest group are children under the age of 15. The smallest group are people over the age of 75. However an interesting point to note is that between the ages of 16 and 64, the group sizes are very similar. "
   ]
  },
  {
   "cell_type": "code",
   "execution_count": null,
   "metadata": {
    "collapsed": true
   },
   "outputs": [],
   "source": [
    "#Pie Chart for Distrubition of the sample by age\n",
    "plt.figure(figsize=(12, 9))\n",
    "plotting.plot_pie_group_count(\n",
    "    newdf,\n",
    "    'Age',\n",
    "    'Proportions of Resident Ages in 2011 Census',\n",
    ")"
   ]
  },
  {
   "cell_type": "markdown",
   "metadata": {},
   "source": [
    "Examining the Distrubution by economic activity, by far the largest group is the group of people who are employed. The second biggest group is the group or which there is no code, which means that they are either children under the age of 16, full time students, or schoolchildren who live elsewhere during termtime. There is also a large group of people who are retired, which contributes to the idea of an aging population in the UK. Apart from that, the group sizes are fairly similar, in that they range from around 2% of the total to around 7 % of the total. "
   ]
  },
  {
   "cell_type": "code",
   "execution_count": null,
   "metadata": {
    "collapsed": true
   },
   "outputs": [],
   "source": [
    "#Pie Chart for Distrubition of the sample by economic activity\n",
    "plt.figure(figsize=(12, 9))\n",
    "plotting.plot_pie_group_count(\n",
    "    newdf,\n",
    "    'Economic Activity',\n",
    "    'Proportions of Resident Economic Activity in 2011 Census',\n",
    ")"
   ]
  },
  {
   "cell_type": "markdown",
   "metadata": {},
   "source": [
    "Easy Extension 1"
   ]
  },
  {
   "cell_type": "markdown",
   "metadata": {},
   "source": [
    "For all Industries apart from agriculture, London has a far higher number of people working in all industries than the rest of the regions, especially the north east of England, which has significantly lower number of people working in all industries than the rest of the country\n",
    "Also, agriculture is the lowest industry in terms of numbers anywhere in the country, which suggests that a significantly smaller number of people work in agriculture than any other industry. "
   ]
  },
  {
   "cell_type": "code",
   "execution_count": null,
   "metadata": {
    "collapsed": true
   },
   "outputs": [],
   "source": [
    "#Easy Extension 1 part 1 Using crosstab\n",
    "dfeasy11 = pd.crosstab(newdf['Region'], newdf['Industry'])\n",
    "dfeasy11"
   ]
  },
  {
   "cell_type": "markdown",
   "metadata": {},
   "source": [
    "Examining, the approximated social grade and occuption, by far the largest cell is the no code required cell for both of the parameters. As the social grades change, the largest occupation in that group also changes, for example in the social group AB, the highest social code, the highest numbers of people are employed in Managerial/Professional occupations, generally high paying jobs, whereas, in the social code of DE, the lowest social code, the highest numbers of people seen to be employed in the Elementary/Process Operatives occupations, which tends to be a lower paid occupation than Managers or professionals. Furthermore, the no code required is significantly higher for the slightly lower social codes than for the highest social code."
   ]
  },
  {
   "cell_type": "code",
   "execution_count": null,
   "metadata": {
    "collapsed": true
   },
   "outputs": [],
   "source": [
    "#Easy Extension 1 part 2 using crosstab\n",
    "dfeasy12 = pd.crosstab(newdf['Occupation'], newdf['Approximated Social Grade'])\n",
    "dfeasy12"
   ]
  },
  {
   "cell_type": "code",
   "execution_count": null,
   "metadata": {
    "collapsed": true
   },
   "outputs": [],
   "source": [
    "#Easy 1 part 1 using GroupBy\n",
    "easy11 = newdf.groupby(['Region','Industry'])['Person ID'].count()\n",
    "easy11 = pd.Series.to_frame(easy11)\n",
    "easy11.columns.values[0] = 'Counts'\n",
    "easy11"
   ]
  },
  {
   "cell_type": "code",
   "execution_count": null,
   "metadata": {
    "collapsed": true
   },
   "outputs": [],
   "source": [
    "#Easy 1 part 2 using GroupBy\n",
    "easy12 = newdf.groupby(['Occupation','Approximated Social Grade'])['Person ID'].count()\n",
    "easy12 = pd.Series.to_frame(easy12)\n",
    "easy12.columns.values[0] = 'Counts'\n",
    "easy12"
   ]
  },
  {
   "cell_type": "markdown",
   "metadata": {},
   "source": [
    "Easy Extension 2 Parts 1 and 2 -Part 3 was filtered in the Dataset to begin with"
   ]
  },
  {
   "cell_type": "code",
   "execution_count": null,
   "metadata": {
    "collapsed": true
   },
   "outputs": [],
   "source": [
    "#Filtering the Dataset to be economic code from 1-4\n",
    "ea = df[df[\"Economic Activity\"].isin(range(1, 5))]\n",
    "ea = copy.deepcopy(ea)\n",
    "utils.translate(ea)"
   ]
  },
  {
   "cell_type": "markdown",
   "metadata": {},
   "source": [
    "Analysing the number of economically active people by region, we find that that the largest number of people are in the south west and London, an explanation could be that there are more people living in those regions of the UK, than the other regions on the UK, and they could be the highest number of economically active people for any region, contrasted with the North East, and Wales, which both have significantly lower number of economically active people than the other regions of the UK."
   ]
  },
  {
   "cell_type": "code",
   "execution_count": null,
   "metadata": {
    "collapsed": true
   },
   "outputs": [],
   "source": [
    "# Easy 2 Part 1 using CrossTab\n",
    "easy21 = pd.crosstab(index = (ea)['Region'], columns = 'count')\n",
    "easy21 = easy21.sort_values(['count'],ascending = 0)\n",
    "easy21"
   ]
  },
  {
   "cell_type": "code",
   "execution_count": null,
   "metadata": {
    "collapsed": true
   },
   "outputs": [],
   "source": [
    "EconomicallyActivePeopleGraphRegion = easy21.plot(kind = \"barh\",legend = False,title = \"Count of Economically Active People By Region\",figsize=(7,4))\n",
    "EconomicallyActivePeopleGraphRegion.set_xlabel(\"Region\")\n",
    "EconomicallyActivePeopleGraphRegion.set_ylabel(\"Count\")\n",
    "EconomicallyActivePeopleGraphRegion;"
   ]
  },
  {
   "cell_type": "markdown",
   "metadata": {},
   "source": [
    "Examining the number of economically active people by age, the largest groups are the groups of 25 to 44, which would be logical, due to the largest number of people being in those categories. Furthermore, the numbers of economically people over the age of 65 is significantly lower, one of the reasons being perhaps that a lot of those people are retired and thus not economically active."
   ]
  },
  {
   "cell_type": "code",
   "execution_count": null,
   "metadata": {
    "collapsed": true
   },
   "outputs": [],
   "source": [
    "# Easy 2 Part 2 using CrossTab\n",
    "easy22 = pd.crosstab(index = (ea)['Age'], columns = 'count')\n",
    "easy22 = easy22.sort_values(['count'],ascending = 0)\n",
    "easy22"
   ]
  },
  {
   "cell_type": "code",
   "execution_count": null,
   "metadata": {
    "collapsed": true
   },
   "outputs": [],
   "source": [
    "EconomicallyActivePeopleGraphAge = easy22.plot(kind = \"barh\",legend = False,title = \"Count of Economically Active People By Age\",figsize=(7,4))\n",
    "EconomicallyActivePeopleGraphAge.set_xlabel(\"Age\")\n",
    "EconomicallyActivePeopleGraphAge.set_ylabel(\"Count\")\n",
    "EconomicallyActivePeopleGraphAge;"
   ]
  },
  {
   "cell_type": "code",
   "execution_count": null,
   "metadata": {
    "collapsed": true
   },
   "outputs": [],
   "source": [
    "plt.figure(figsize=(10, 10))\n",
    "plotting.plot_3d_table_count(\n",
    "        newdf,\n",
    "        'Region',\n",
    "        'Industry',\n",
    "        'Frequencies Residents by Region and Industry in 2011 Census',\n",
    "        'Region',\n",
    "        'Industry',\n",
    ");"
   ]
  },
  {
   "cell_type": "markdown",
   "metadata": {},
   "source": [
    "ipywidgets to analyse the number of people working in industry for different regions and ages. Age had to be a drop down box as opposed to a slider due to the fact that in the amended dataframe, the age is no londer a code, but is instead a string. "
   ]
  },
  {
   "cell_type": "code",
   "execution_count": null,
   "metadata": {
    "collapsed": true
   },
   "outputs": [],
   "source": [
    "def industryfunc(Region,Age):\n",
    "    temp = newdf[(newdf['Region'] == Region) & (newdf['Age'] == Age)]\n",
    "    name = \"Industry count of ages \" + Age +\" in \" + Region\n",
    "    plt.figure(figsize=(10, 10))\n",
    "    plotting.plot_bar_group_count(\n",
    "        temp, \n",
    "        'Industry', \n",
    "        name,\n",
    "        wrap_chars = 20\n",
    "    )\n",
    "regionvalues = newdf.Region.unique()\n",
    "regionvalues = regionvalues.tolist()\n",
    "\n",
    "agevalues = newdf.Age.unique()\n",
    "agevalues = agevalues.tolist()\n",
    "\n",
    "interact(industryfunc, Region=regionvalues,Age=(agevalues));"
   ]
  },
  {
   "cell_type": "markdown",
   "metadata": {},
   "source": [
    "Extension analysis of the dataset"
   ]
  },
  {
   "cell_type": "markdown",
   "metadata": {},
   "source": [
    "The data set which we chose to analyse for our extension was the dataset of all of the balls bowled in the Group Stages of the Indian Premier League cricket competition in 2016. The data was sourced from the following website: http://cricsheet.org/downloads/ in the IPL competition section of the page. All of the .csv files not from the group stages were filtered out and then the remaining files were parsed into the program."
   ]
  },
  {
   "cell_type": "code",
   "execution_count": 11,
   "metadata": {
    "collapsed": true
   },
   "outputs": [],
   "source": [
    "IPLData = getdata.getData()"
   ]
  },
  {
   "cell_type": "markdown",
   "metadata": {},
   "source": [
    "Sample of how the dataset looks after being parsed into the program. "
   ]
  },
  {
   "cell_type": "code",
   "execution_count": 12,
   "metadata": {},
   "outputs": [
    {
     "data": {
      "text/html": [
       "<div>\n",
       "<table border=\"1\" class=\"dataframe\">\n",
       "  <thead>\n",
       "    <tr style=\"text-align: right;\">\n",
       "      <th></th>\n",
       "      <th>Match Number</th>\n",
       "      <th>Winner</th>\n",
       "      <th>Venue</th>\n",
       "      <th>Innings</th>\n",
       "      <th>Bowling Team</th>\n",
       "      <th>Ball No.</th>\n",
       "      <th>Batting Team</th>\n",
       "      <th>Striker</th>\n",
       "      <th>Non - Striker</th>\n",
       "      <th>Bowler</th>\n",
       "      <th>Runs</th>\n",
       "      <th>Extras</th>\n",
       "      <th>How Out</th>\n",
       "      <th>Batsman Out</th>\n",
       "    </tr>\n",
       "  </thead>\n",
       "  <tbody>\n",
       "    <tr>\n",
       "      <th>1115</th>\n",
       "      <td>1</td>\n",
       "      <td>Rising Pune Supergiants</td>\n",
       "      <td>Wankhede Stadium</td>\n",
       "      <td>1</td>\n",
       "      <td>Rising Pune Supergiants</td>\n",
       "      <td>0.1</td>\n",
       "      <td>Mumbai Indians</td>\n",
       "      <td>LMP Simmons</td>\n",
       "      <td>RG Sharma</td>\n",
       "      <td>RP Singh</td>\n",
       "      <td>1</td>\n",
       "      <td>0</td>\n",
       "      <td>-</td>\n",
       "      <td>-</td>\n",
       "    </tr>\n",
       "    <tr>\n",
       "      <th>1116</th>\n",
       "      <td>1</td>\n",
       "      <td>Rising Pune Supergiants</td>\n",
       "      <td>Wankhede Stadium</td>\n",
       "      <td>1</td>\n",
       "      <td>Rising Pune Supergiants</td>\n",
       "      <td>0.2</td>\n",
       "      <td>Mumbai Indians</td>\n",
       "      <td>RG Sharma</td>\n",
       "      <td>LMP Simmons</td>\n",
       "      <td>RP Singh</td>\n",
       "      <td>0</td>\n",
       "      <td>0</td>\n",
       "      <td>-</td>\n",
       "      <td>-</td>\n",
       "    </tr>\n",
       "    <tr>\n",
       "      <th>1117</th>\n",
       "      <td>1</td>\n",
       "      <td>Rising Pune Supergiants</td>\n",
       "      <td>Wankhede Stadium</td>\n",
       "      <td>1</td>\n",
       "      <td>Rising Pune Supergiants</td>\n",
       "      <td>0.3</td>\n",
       "      <td>Mumbai Indians</td>\n",
       "      <td>RG Sharma</td>\n",
       "      <td>LMP Simmons</td>\n",
       "      <td>RP Singh</td>\n",
       "      <td>2</td>\n",
       "      <td>0</td>\n",
       "      <td>-</td>\n",
       "      <td>-</td>\n",
       "    </tr>\n",
       "    <tr>\n",
       "      <th>1118</th>\n",
       "      <td>1</td>\n",
       "      <td>Rising Pune Supergiants</td>\n",
       "      <td>Wankhede Stadium</td>\n",
       "      <td>1</td>\n",
       "      <td>Rising Pune Supergiants</td>\n",
       "      <td>0.4</td>\n",
       "      <td>Mumbai Indians</td>\n",
       "      <td>RG Sharma</td>\n",
       "      <td>LMP Simmons</td>\n",
       "      <td>RP Singh</td>\n",
       "      <td>4</td>\n",
       "      <td>0</td>\n",
       "      <td>-</td>\n",
       "      <td>-</td>\n",
       "    </tr>\n",
       "    <tr>\n",
       "      <th>1119</th>\n",
       "      <td>1</td>\n",
       "      <td>Rising Pune Supergiants</td>\n",
       "      <td>Wankhede Stadium</td>\n",
       "      <td>1</td>\n",
       "      <td>Rising Pune Supergiants</td>\n",
       "      <td>0.5</td>\n",
       "      <td>Mumbai Indians</td>\n",
       "      <td>RG Sharma</td>\n",
       "      <td>LMP Simmons</td>\n",
       "      <td>RP Singh</td>\n",
       "      <td>1</td>\n",
       "      <td>0</td>\n",
       "      <td>-</td>\n",
       "      <td>-</td>\n",
       "    </tr>\n",
       "  </tbody>\n",
       "</table>\n",
       "</div>"
      ],
      "text/plain": [
       "      Match Number                   Winner             Venue  Innings  \\\n",
       "1115             1  Rising Pune Supergiants  Wankhede Stadium        1   \n",
       "1116             1  Rising Pune Supergiants  Wankhede Stadium        1   \n",
       "1117             1  Rising Pune Supergiants  Wankhede Stadium        1   \n",
       "1118             1  Rising Pune Supergiants  Wankhede Stadium        1   \n",
       "1119             1  Rising Pune Supergiants  Wankhede Stadium        1   \n",
       "\n",
       "                 Bowling Team  Ball No.    Batting Team      Striker  \\\n",
       "1115  Rising Pune Supergiants       0.1  Mumbai Indians  LMP Simmons   \n",
       "1116  Rising Pune Supergiants       0.2  Mumbai Indians    RG Sharma   \n",
       "1117  Rising Pune Supergiants       0.3  Mumbai Indians    RG Sharma   \n",
       "1118  Rising Pune Supergiants       0.4  Mumbai Indians    RG Sharma   \n",
       "1119  Rising Pune Supergiants       0.5  Mumbai Indians    RG Sharma   \n",
       "\n",
       "     Non - Striker    Bowler  Runs  Extras How Out Batsman Out  \n",
       "1115     RG Sharma  RP Singh     1       0       -           -  \n",
       "1116   LMP Simmons  RP Singh     0       0       -           -  \n",
       "1117   LMP Simmons  RP Singh     2       0       -           -  \n",
       "1118   LMP Simmons  RP Singh     4       0       -           -  \n",
       "1119   LMP Simmons  RP Singh     1       0       -           -  "
      ]
     },
     "execution_count": 12,
     "metadata": {},
     "output_type": "execute_result"
    }
   ],
   "source": [
    "IPLData.head()"
   ]
  },
  {
   "cell_type": "code",
   "execution_count": 13,
   "metadata": {},
   "outputs": [
    {
     "data": {
      "text/html": [
       "<div>\n",
       "<table border=\"1\" class=\"dataframe\">\n",
       "  <thead>\n",
       "    <tr style=\"text-align: right;\">\n",
       "      <th>No. Of Runs on Ball</th>\n",
       "      <th>0</th>\n",
       "      <th>1</th>\n",
       "      <th>2</th>\n",
       "      <th>3</th>\n",
       "      <th>4</th>\n",
       "      <th>5</th>\n",
       "      <th>6</th>\n",
       "    </tr>\n",
       "    <tr>\n",
       "      <th>Venue</th>\n",
       "      <th></th>\n",
       "      <th></th>\n",
       "      <th></th>\n",
       "      <th></th>\n",
       "      <th></th>\n",
       "      <th></th>\n",
       "      <th></th>\n",
       "    </tr>\n",
       "  </thead>\n",
       "  <tbody>\n",
       "    <tr>\n",
       "      <th>Dr. Y.S. Rajasekhara Reddy ACA-VDCA Cricket Stadium</th>\n",
       "      <td>90</td>\n",
       "      <td>92</td>\n",
       "      <td>12</td>\n",
       "      <td>1</td>\n",
       "      <td>23</td>\n",
       "      <td>0</td>\n",
       "      <td>10</td>\n",
       "    </tr>\n",
       "    <tr>\n",
       "      <th>Eden Gardens</th>\n",
       "      <td>76</td>\n",
       "      <td>91</td>\n",
       "      <td>16</td>\n",
       "      <td>0</td>\n",
       "      <td>25</td>\n",
       "      <td>1</td>\n",
       "      <td>10</td>\n",
       "    </tr>\n",
       "    <tr>\n",
       "      <th>Feroz Shah Kotla</th>\n",
       "      <td>75</td>\n",
       "      <td>107</td>\n",
       "      <td>17</td>\n",
       "      <td>0</td>\n",
       "      <td>25</td>\n",
       "      <td>0</td>\n",
       "      <td>10</td>\n",
       "    </tr>\n",
       "    <tr>\n",
       "      <th>Green Park</th>\n",
       "      <td>82</td>\n",
       "      <td>93</td>\n",
       "      <td>7</td>\n",
       "      <td>0</td>\n",
       "      <td>30</td>\n",
       "      <td>1</td>\n",
       "      <td>10</td>\n",
       "    </tr>\n",
       "    <tr>\n",
       "      <th>M Chinnaswamy Stadium</th>\n",
       "      <td>73</td>\n",
       "      <td>100</td>\n",
       "      <td>13</td>\n",
       "      <td>0</td>\n",
       "      <td>30</td>\n",
       "      <td>0</td>\n",
       "      <td>18</td>\n",
       "    </tr>\n",
       "    <tr>\n",
       "      <th>Maharashtra Cricket Association Stadium</th>\n",
       "      <td>66</td>\n",
       "      <td>118</td>\n",
       "      <td>21</td>\n",
       "      <td>1</td>\n",
       "      <td>28</td>\n",
       "      <td>0</td>\n",
       "      <td>11</td>\n",
       "    </tr>\n",
       "    <tr>\n",
       "      <th>Punjab Cricket Association IS Bindra Stadium, Mohali</th>\n",
       "      <td>67</td>\n",
       "      <td>107</td>\n",
       "      <td>24</td>\n",
       "      <td>0</td>\n",
       "      <td>32</td>\n",
       "      <td>0</td>\n",
       "      <td>7</td>\n",
       "    </tr>\n",
       "    <tr>\n",
       "      <th>Rajiv Gandhi International Stadium, Uppal</th>\n",
       "      <td>83</td>\n",
       "      <td>97</td>\n",
       "      <td>18</td>\n",
       "      <td>1</td>\n",
       "      <td>23</td>\n",
       "      <td>0</td>\n",
       "      <td>8</td>\n",
       "    </tr>\n",
       "    <tr>\n",
       "      <th>Saurashtra Cricket Association Stadium</th>\n",
       "      <td>70</td>\n",
       "      <td>103</td>\n",
       "      <td>24</td>\n",
       "      <td>1</td>\n",
       "      <td>28</td>\n",
       "      <td>0</td>\n",
       "      <td>6</td>\n",
       "    </tr>\n",
       "    <tr>\n",
       "      <th>Shaheed Veer Narayan Singh International Stadium</th>\n",
       "      <td>78</td>\n",
       "      <td>107</td>\n",
       "      <td>23</td>\n",
       "      <td>0</td>\n",
       "      <td>25</td>\n",
       "      <td>1</td>\n",
       "      <td>5</td>\n",
       "    </tr>\n",
       "    <tr>\n",
       "      <th>Wankhede Stadium</th>\n",
       "      <td>87</td>\n",
       "      <td>90</td>\n",
       "      <td>16</td>\n",
       "      <td>1</td>\n",
       "      <td>27</td>\n",
       "      <td>0</td>\n",
       "      <td>11</td>\n",
       "    </tr>\n",
       "  </tbody>\n",
       "</table>\n",
       "</div>"
      ],
      "text/plain": [
       "No. Of Runs on Ball                                  0    1   2  3   4  5   6\n",
       "Venue                                                                        \n",
       "Dr. Y.S. Rajasekhara Reddy ACA-VDCA Cricket Sta...  90   92  12  1  23  0  10\n",
       "Eden Gardens                                        76   91  16  0  25  1  10\n",
       "Feroz Shah Kotla                                    75  107  17  0  25  0  10\n",
       "Green Park                                          82   93   7  0  30  1  10\n",
       "M Chinnaswamy Stadium                               73  100  13  0  30  0  18\n",
       "Maharashtra Cricket Association Stadium             66  118  21  1  28  0  11\n",
       "Punjab Cricket Association IS Bindra Stadium, M...  67  107  24  0  32  0   7\n",
       "Rajiv Gandhi International Stadium, Uppal           83   97  18  1  23  0   8\n",
       "Saurashtra Cricket Association Stadium              70  103  24  1  28  0   6\n",
       "Shaheed Veer Narayan Singh International Stadium    78  107  23  0  25  1   5\n",
       "Wankhede Stadium                                    87   90  16  1  27  0  11"
      ]
     },
     "execution_count": 13,
     "metadata": {},
     "output_type": "execute_result"
    }
   ],
   "source": [
    "#Number of each type of Runs by ball for each venue\n",
    "numGameAtVenue = IPLData.drop_duplicates('Match Number')['Venue'].value_counts()\n",
    "numGameAtVenue\n",
    "def getNoGames(row):\n",
    "    venueCount = numGameAtVenue.index == row.name\n",
    "    venueCount = numGameAtVenue[list(venueCount).index(True)]\n",
    "    temp = (row / venueCount)\n",
    "    return temp.astype(int)\n",
    "\n",
    "Total_Runs = IPLData['Runs'] + IPLData['Extras']\n",
    "Total_Runs = Total_Runs.rename('No. Of Runs on Ball')\n",
    "Total_Runs = pd.crosstab(IPLData['Venue'],Total_Runs)\n",
    "Total_Runs = Total_Runs.apply(getNoGames,axis =1)\n",
    "del Total_Runs[7]\n",
    "Total_Runs"
   ]
  },
  {
   "cell_type": "markdown",
   "metadata": {},
   "source": [
    "When analysing the stadia, the data had to be edited to account for the fact that not equal numbers of matches were played at all of the grounds, thus to make the data fair, all values were averaged out to for each mat\n",
    "Looking at the number of each ball appearing at each venue The two most common values for balls at any ground were dot balls and 1's, which is logical as they are the type of runs which are the easiest to score for both the batting and the bowling side. \n"
   ]
  },
  {
   "cell_type": "code",
   "execution_count": 14,
   "metadata": {},
   "outputs": [
    {
     "data": {
      "application/vnd.jupyter.widget-view+json": {
       "model_id": "ff273345ba794d6bbb7741f16468f7e2"
      }
     },
     "metadata": {},
     "output_type": "display_data"
    },
    {
     "data": {
      "image/png": "[encoded data removed]",
      "text/plain": [
       "<matplotlib.figure.Figure at 0x7fd815cfc2e8>"
      ]
     },
     "metadata": {
      "image/png": {
       "height": 360,
       "width": 501
      }
     },
     "output_type": "display_data"
    },
    {
     "data": {
      "image/png": "[encoded data removed]",
      "text/plain": [
       "<matplotlib.figure.Figure at 0x7fd815d133c8>"
      ]
     },
     "metadata": {
      "image/png": {
       "height": 360,
       "width": 501
      }
     },
     "output_type": "display_data"
    }
   ],
   "source": [
    "def FrequencyOfRunsStadiumFunc(Balls_Per_Venue):\n",
    "    stadia = Total_Runs.loc[Balls_Per_Venue]\n",
    "    stadia = pd.DataFrame(stadia)\n",
    "    BallStadiumGraph = stadia.plot(kind =\"Barh\",legend = False,figsize=(8,5),title = \"Averge number of times all runs were made per game \\nat \"+ Balls_Per_Venue)\n",
    "    BallStadiumGraph.set_xlabel(\"Average Number of Occurrences per Game\")\n",
    "    BallStadiumGraph.set_ylabel(\"Runs\")\n",
    "    \n",
    "stadiaRuns = list(Total_Runs.index)\n",
    "interact(FrequencyOfRunsStadiumFunc, Balls_Per_Venue=stadiaRuns);"
   ]
  },
  {
   "cell_type": "markdown",
   "metadata": {},
   "source": [
    "Examining the data, the ground at which the most number of sixes was the M Chinnaswamy stadium, a ground which has a reputation for being one of the highest scoring grounds in the country."
   ]
  },
  {
   "cell_type": "code",
   "execution_count": null,
   "metadata": {
    "collapsed": true
   },
   "outputs": [],
   "source": [
    "def stadiumFunc(Runs_Per_Ball_Per_Game):\n",
    "    stadiumsBall = Total_Runs[int(Runs_Per_Ball_Per_Game)]\n",
    "    stadiumsBallGraph = stadiumsBall.plot(kind =\"Barh\",figsize=(11,7),title = \"Averge number of times \" + Runs_Per_Ball_Per_Game + \" runs were made per game in every stadium\")\n",
    "    stadiumsBallGraph.set_xlabel(\"Average Occurrence per Game\")\n",
    "    stadiumsBallGraph.set_ylabel(\"Stadium\")\n",
    "    \n",
    "stadiaRuns = list(Total_Runs.columns.values)\n",
    "interact(stadiumFunc, Runs_Per_Ball_Per_Game=stadiaRuns);"
   ]
  },
  {
   "cell_type": "code",
   "execution_count": null,
   "metadata": {
    "collapsed": true
   },
   "outputs": [],
   "source": [
    "#Number of each type of Runs by ball for each ball\n",
    "totalRuns = IPLData['Runs'] + IPLData['Extras']\n",
    "totalRuns = totalRuns.rename('No. Of Runs on Ball')\n",
    "NumberRunsByBall = pd.crosstab(IPLData['Ball No.'],totalRuns)\n",
    "NumberRunsByBall"
   ]
  },
  {
   "cell_type": "markdown",
   "metadata": {},
   "source": [
    "Analysing the type and number of runs scored in each over, as the number of the over goes up, the frequency of boundaries also goes up. Furthermore, in the middle overs, i.e. between overs 7-15, the number of 1's and 2's goes up significantly as the batsmen looked to try and rotate strike. In the powerplay, there is an increased number of dots and an increased number of boundaries as compared to the middle overs as the batsmen look to try and score in the fielding restrictions. "
   ]
  },
  {
   "cell_type": "code",
   "execution_count": null,
   "metadata": {
    "collapsed": true
   },
   "outputs": [],
   "source": [
    "def OverNum(Over_Number):\n",
    "    OverRuns = NumberRunsByBall[(NumberRunsByBall.index < Over_Number) & (NumberRunsByBall.index>(Over_Number-1))]\n",
    "    del OverRuns[7]\n",
    "    OverRunsGraph = OverRuns.plot(kind =\"Barh\",figsize=(12,12),title = \"Count of Run Type for each Ball in Over Number \"+ str(Over_Number))\n",
    "    OverRunsGraph.set_xlabel(\"Totals\")\n",
    "    OverRunsGraph.set_ylabel(\"Balls in Over \"+ str(Over_Number))\n",
    "    OverRunsGraph.legend([\"Dot Ball\",\"One Run\",\"Two Runs\",\"Three Runs\", \"Four Runs\", \"Five Runs\",\"Six Runs\"],loc='center left', bbox_to_anchor=(1.0, 0.5))\n",
    "    OverRunsGraph\n",
    "interact(OverNum, Over_Number=(1,20));"
   ]
  },
  {
   "cell_type": "markdown",
   "metadata": {},
   "source": [
    "Comparing runs per innings, there is significantly more runs in the first innings overall, this makes sense due to the large number of wins, when the winning team was batting first ~ under half the time."
   ]
  },
  {
   "cell_type": "code",
   "execution_count": null,
   "metadata": {
    "collapsed": true
   },
   "outputs": [],
   "source": [
    "# Runs by innings\n",
    "InningsRuns = IPLData.groupby(['Innings'])['Runs'].sum()\n",
    "InningsRuns = pd.Series.to_frame(InningsRuns)\n",
    "InningsRuns"
   ]
  },
  {
   "cell_type": "code",
   "execution_count": null,
   "metadata": {
    "collapsed": true
   },
   "outputs": [],
   "source": [
    "InningRunsGraph = InningsRuns.plot(kind = \"Barh\",legend = False, figsize=(8,3),title = \"Total Runs per Innings\")\n",
    "InningRunsGraph.set_xlabel(\"Innings Number\")\n",
    "InningRunsGraph.set_ylabel(\"Runs\")\n",
    "InningRunsGraph;"
   ]
  },
  {
   "cell_type": "markdown",
   "metadata": {},
   "source": [
    "Comparing extras by Innings, there are far more extras in the second innings than the first innings, this would make sense as there would be far more pressure on the bowling team in the second innings which would lead to more mistakes than the (relatively) pressure free first innings"
   ]
  },
  {
   "cell_type": "code",
   "execution_count": null,
   "metadata": {
    "collapsed": true
   },
   "outputs": [],
   "source": [
    "# Extras by innings\n",
    "InningsExtras = IPLData.groupby(['Innings'])['Extras'].sum()\n",
    "InningsExtras = pd.Series.to_frame(InningsExtras)\n",
    "InningsExtras"
   ]
  },
  {
   "cell_type": "code",
   "execution_count": null,
   "metadata": {
    "collapsed": true
   },
   "outputs": [],
   "source": [
    "InningExtrasGraph = InningsExtras.plot(kind = \"Barh\",legend = False, figsize=(8,3),title = \"Total Extras per Innings\")\n",
    "InningExtrasGraph.set_xlabel(\"Innings Number\")\n",
    "InningExtrasGraph.set_ylabel(\"Extras\")\n",
    "InningExtrasGraph;"
   ]
  },
  {
   "cell_type": "code",
   "execution_count": null,
   "metadata": {
    "collapsed": true
   },
   "outputs": [],
   "source": [
    "# Type of Runs by Teams\n",
    "teamRuns = IPLData['Runs'] + IPLData['Extras']\n",
    "teamRuns = teamRuns.rename('Count of Run Type')\n",
    "teamsRunTypes = pd.crosstab(IPLData['Batting Team'], teamRuns)\n",
    "teamsRunTypes"
   ]
  },
  {
   "cell_type": "code",
   "execution_count": null,
   "metadata": {
    "collapsed": true
   },
   "outputs": [],
   "source": [
    "def frequencyRunTypeFunc(TeamName):\n",
    "    teamRunsFrequency = teamsRunTypes.loc[TeamName]\n",
    "    teamRunsFrequency = pd.DataFrame(teamRunsFrequency)\n",
    "    TeamRunsFrequencyGraph = teamRunsFrequency.plot(kind =\"Barh\",legend = False,figsize=(8,5),title = \"Averge number of times all runs were made by \\n \"+ TeamName)\n",
    "    TeamRunsFrequencyGraph.set_xlabel(\"Total Occurrences\")\n",
    "    TeamRunsFrequencyGraph.set_ylabel(\"Runs\")\n",
    "    \n",
    "teamNames = list(teamsRunTypes.index)\n",
    "interact(frequencyRunTypeFunc, TeamName=teamNames)"
   ]
  },
  {
   "cell_type": "code",
   "execution_count": null,
   "metadata": {
    "collapsed": true
   },
   "outputs": [],
   "source": [
    "def runTypeFunc(RunType):\n",
    "    teamRunTypes = teamsRunTypes[int(RunType)]\n",
    "    teamRunTypesGraph = teamRunTypes.plot(kind =\"Barh\",figsize=(12,7),title = \"Number of times \" + RunType + \" was scored by each team\")\n",
    "    teamRunTypesGraph.set_xlabel(\"Total Occurrences\")\n",
    "    teamRunTypesGraph.set_ylabel(\"Team\")\n",
    "    \n",
    "TeamRunsTypesList = list(teamsRunTypes.columns.values)\n",
    "interact(runTypeFunc, RunType=TeamRunsTypesList)"
   ]
  },
  {
   "cell_type": "code",
   "execution_count": null,
   "metadata": {
    "collapsed": true
   },
   "outputs": [],
   "source": [
    "# Top Wicket Takers in the IPL\n",
    "def getBowlingTeam(row):\n",
    "    record = allBowlers[allBowlers['Bowler'] == row.name]\n",
    "    temp = record['Bowling Team']\n",
    "    temp = temp.values \n",
    "    return temp\n",
    "allBowlers = IPLData.drop_duplicates(subset = 'Bowler')\n",
    "bowlerswickets = IPLData[((IPLData['How Out'] != '-') & (IPLData['How Out'] != 'run out'))]\n",
    "allwickets = bowlerswickets['Bowler'].value_counts()\n",
    "allwickets = pd.Series.to_frame(allwickets)\n",
    "allwickets.insert(1,'Team',None)\n",
    "allwickets = allwickets.sort_values('Bowler',ascending = 0)\n",
    "allwickets['Team'] = allwickets.apply(getBowlingTeam, axis=1)\n",
    "allwickets"
   ]
  },
  {
   "cell_type": "markdown",
   "metadata": {},
   "source": [
    "Analysing the highest wicket takers, there appear to be 2 major groups, number of wickets over 16, and number of wickets under 16, and the  "
   ]
  },
  {
   "cell_type": "code",
   "execution_count": null,
   "metadata": {
    "collapsed": true
   },
   "outputs": [],
   "source": [
    "Top10WicketTakersGraph = allwickets.ix[:10].plot(kind = \"Barh\",figsize=(10,6),sort_columns = True,title =(\"Highest Wicket Takers\"),legend = False)\n",
    "Top10WicketTakersGraph.set_xlabel(\"Number of Wickets Taken\")\n",
    "Top10WicketTakersGraph.set_ylabel(\"Bowler Name\")\n",
    "Top10WicketTakersGraph;"
   ]
  },
  {
   "cell_type": "code",
   "execution_count": null,
   "metadata": {
    "collapsed": true
   },
   "outputs": [],
   "source": [
    "def bowlingfunc(Team):\n",
    "    teamNameWickets = bowlerswickets[bowlerswickets['Bowling Team'] == Team]\n",
    "    name = \"Total Wickets in \" + Team\n",
    "    plt.figure(figsize=(10, 7))\n",
    "    plotting.plot_bar_group_count(\n",
    "        teamNameWickets, \n",
    "        'Bowler', \n",
    "        name,\n",
    "        wrap_chars = 20\n",
    "    )\n",
    "wickets = allwickets.Team.unique()\n",
    "wickets = wickets.tolist()\n",
    "\n",
    "interact(bowlingfunc, Team=wickets)"
   ]
  },
  {
   "cell_type": "code",
   "execution_count": null,
   "metadata": {
    "collapsed": true
   },
   "outputs": [],
   "source": [
    "# Top Run Scorers\n",
    "def getBattingTeam(row):\n",
    "    record = allBatsmen[allBatsmen['Striker'] == row.name]\n",
    "    temp = record['Batting Team']\n",
    "    temp = temp.values \n",
    "    return temp\n",
    "\n",
    "allBatsmen = IPLData.drop_duplicates(subset = 'Striker')\n",
    "allruns = IPLData.groupby(['Striker'])['Runs'].sum()\n",
    "allruns = pd.Series.to_frame(allruns)\n",
    "allruns = allruns\n",
    "allruns.insert(1,'Team',None)\n",
    "allruns = allruns.sort_values('Runs',ascending =0)\n",
    "allruns['Team'] = allruns.apply(getBattingTeam, axis=1)\n",
    "allruns"
   ]
  },
  {
   "cell_type": "markdown",
   "metadata": {},
   "source": [
    "The top 10 run scorers for the IPL in 2016 were mainly in three categories, the top player was V Kohli, an RCB player, who had an excellent IPL season when he scored far more runs than any other player, then there were 2 players who also had good seasons, AB de Villiers and David Warner, who were among the highest scorers. Then you have the other players in the top 10 who scored similar numbers of runs and had a good IPL."
   ]
  },
  {
   "cell_type": "code",
   "execution_count": null,
   "metadata": {
    "collapsed": true
   },
   "outputs": [],
   "source": [
    "Top10RunScorersGraph = allruns.ix[:10].plot(kind = \"Barh\",figsize=(10,6),sort_columns = True,title =(\"Highest Run Scorers\"),legend = False)\n",
    "Top10RunScorersGraph.set_xlabel(\"Number of Runs Scored\")\n",
    "Top10RunScorersGraph.set_ylabel(\"Bastmen Name\")\n",
    "Top10RunScorersGraph;"
   ]
  },
  {
   "cell_type": "markdown",
   "metadata": {},
   "source": [
    "The main type of run scoring in a team across a season, there are some batsmen who score more than any other batsmen in the team, and the rest of the team scores slightly lower amount of runs. This ratio differs significantly depending on the team. There are teams in which a few individuals scored significntly more runs than all of the other people in the team. In teams such as Royal Challangers Bangalore and the Sunrisers Hyderabad, 2 or 3 batsmen scored many more runs than any other people in the team. There are some teams which didn't make the playoffs in which a single batsmen scored the majority of the runs, for example the Rising Pune Supergiants and the Mumbai Indians, which suggests that to make more runs and win more games, a number of batsmen need to scoree a lot of runs for the team. "
   ]
  },
  {
   "cell_type": "code",
   "execution_count": null,
   "metadata": {
    "collapsed": true
   },
   "outputs": [],
   "source": [
    "def runscorers(Team):\n",
    "    teamNameRuns = allruns[allruns['Team'] == Team]\n",
    "    temp = teamNameRuns.plot(kind = \"Barh\",figsize=(7,7),sort_columns = True,title =(\"Highest Run Scorers for \" + Team),legend = False)\n",
    "    temp.set_xlabel(\"Number of Runs Scored\")\n",
    "    temp.set_ylabel(\"Bastmen Name\")\n",
    "    temp\n",
    "    \n",
    "runs = allruns.Team.unique()\n",
    "runs = runs.tolist()\n",
    "\n",
    "interact(runscorers, Team=runs);"
   ]
  },
  {
   "cell_type": "markdown",
   "metadata": {},
   "source": [
    "Checking the number of runs each team scored, we find that the RCB scored significantly more runs than all of the other teams, this could have been due to the fact that they played all of their home games at the M Chinnaswamy stadium, a significantly smaller ground which has higher scores on it, in addition to the RCB having 2 of the world's best batsmen playing for them. All of the other teams are relatively closer together in terms of runs, which further exaggerates the number of runs which the RCB made. "
   ]
  },
  {
   "cell_type": "code",
   "execution_count": null,
   "metadata": {
    "collapsed": true
   },
   "outputs": [],
   "source": [
    "# Total Team Runs\n",
    "teamruns = IPLData.groupby(['Batting Team'])['Runs'].sum()\n",
    "teamruns = pd.Series.to_frame(teamruns)\n",
    "teamruns = teamruns.sort_values('Runs',ascending = 0)\n",
    "teamruns"
   ]
  },
  {
   "cell_type": "code",
   "execution_count": null,
   "metadata": {
    "collapsed": true
   },
   "outputs": [],
   "source": [
    "teamRunsGraph = teamruns.plot(kind = \"barh\",legend = False,title = \"Total Number of Runs by Team\",figsize=(7,4))\n",
    "teamRunsGraph.set_xlabel(\"Number of Runs\")\n",
    "teamRunsGraph.set_ylabel(\"Team\")\n",
    "teamRunsGraph;"
   ]
  },
  {
   "cell_type": "markdown",
   "metadata": {},
   "source": [
    "The team which had the most number of extras was the Kolkata Knight Riders, and the other teams were spread until the Kings XI Punjab, who had the lowest number of extras throughout the season."
   ]
  },
  {
   "cell_type": "code",
   "execution_count": null,
   "metadata": {
    "collapsed": true
   },
   "outputs": [],
   "source": [
    "# Total Team Extras\n",
    "teamextras = IPLData.groupby(['Batting Team'])['Extras'].sum()\n",
    "teamextras = pd.Series.to_frame(teamextras)\n",
    "teamextras = teamextras.sort_values('Extras',ascending = 0)\n",
    "teamextras"
   ]
  },
  {
   "cell_type": "code",
   "execution_count": null,
   "metadata": {
    "collapsed": true
   },
   "outputs": [],
   "source": [
    "teamExtrasGraph = teamextras.plot(kind = \"barh\",legend = False,title = \"Total Number of Extras by Team\",figsize=(7,4))\n",
    "teamExtrasGraph.set_xlabel(\"Number of Extras\")\n",
    "teamExtrasGraph.set_ylabel(\"Team\")\n",
    "teamExtrasGraph;"
   ]
  },
  {
   "cell_type": "markdown",
   "metadata": {},
   "source": [
    "Analysing the total number of wickets by team, the Team which took the most wickets was the Kolkata Knight Riders, followed by the RCB, both teams which made the playoffs. The teams which took thbe least number of wickets were Mumbai Indians and the Gujrat Lions, surprisingly the Gujrat Lions were the team which had the highest number of wins, showing that they were extremely reliant on their batting to win their games, something which was furthered by the fact that they only won 1 game batting first, which meant that their bowling lineup was not able to take wickets and win the game. "
   ]
  },
  {
   "cell_type": "code",
   "execution_count": null,
   "metadata": {
    "collapsed": true,
    "scrolled": true
   },
   "outputs": [],
   "source": [
    "# Total Team Wickets\n",
    "teamwickets = IPLData[((IPLData['How Out'] != '-'))]\n",
    "teamwickets = teamwickets['Bowling Team'].value_counts()\n",
    "teamwickets = pd.Series.to_frame(teamwickets)\n",
    "teamwickets = teamwickets.sort_values('Bowling Team',ascending = 0)\n",
    "teamwickets"
   ]
  },
  {
   "cell_type": "code",
   "execution_count": null,
   "metadata": {
    "collapsed": true
   },
   "outputs": [],
   "source": [
    "teamWicketsGraph = teamwickets.plot(kind = \"barh\",legend = False,title = \"Total Number of Wickets by Team\",figsize=(7,5))\n",
    "teamWicketsGraph.set_xlabel(\"Number of Wickets\")\n",
    "teamWicketsGraph.set_ylabel(\"Team\")\n",
    "teamWicketsGraph;"
   ]
  },
  {
   "cell_type": "markdown",
   "metadata": {},
   "source": [
    "Examining the total number of wins by team in the playoff stages, The 4 teams which were in the playoff stages were the 4 teams at the top of the number of wins ratio. The eventual winners however were not the Gujrat Lions as you might have expected with their highest tally of wins in the group stage, but rather the Sunrisers Hydrabad, who beat the Royal Challengers Bangalore, despite the fact that the match was played at the Home of the RCB. "
   ]
  },
  {
   "cell_type": "code",
   "execution_count": null,
   "metadata": {
    "collapsed": true
   },
   "outputs": [],
   "source": [
    "#number of wins per team \n",
    "allwins = IPLData.drop_duplicates(subset = 'Match Number')\n",
    "teamwins = allwins['Winner'].value_counts()\n",
    "teamwins = teamwins.rename('Wins')\n",
    "teamwins = pd.Series.to_frame(teamwins)\n",
    "teamwins = teamwins.rename(columns = {'Batting Team':'Wins'})\n",
    "teamwins"
   ]
  },
  {
   "cell_type": "code",
   "execution_count": null,
   "metadata": {
    "collapsed": true
   },
   "outputs": [],
   "source": [
    "teamWinsGraph = teamwins.plot(kind = \"Barh\",legend = False, title = \"Total Number of Wins by team\",figsize=(8,5))\n",
    "teamWinsGraph.set_xlabel(\"Number of Wins\")\n",
    "teamWinsGraph.set_ylabel(\"Team\");"
   ]
  },
  {
   "cell_type": "markdown",
   "metadata": {},
   "source": [
    "Examining the wins batting first or batting second, All teams apart from the Royal Challengers Bangalore have a higher win ratio batting second, thisb is probably due to the fact that you know the target you are chasing rather than having to set a target. Some teams had a significant difference in the number of wins that they got batting first vs batting second, for example the Gujrat Lions, which would suggest that those teams had very good battling lineups, or a weaker bowling lineup, or a combination of both. "
   ]
  },
  {
   "cell_type": "code",
   "execution_count": null,
   "metadata": {
    "collapsed": true
   },
   "outputs": [],
   "source": [
    "#Wins By Batting First or second \n",
    "allwins = IPLData.drop_duplicates(subset = 'Match Number')\n",
    "winsBatting = allwins[(allwins['Innings'] == 1 & (allwins['Winner'] == allwins['Batting Team'])) | (allwins['Innings'] == 2 & (allwins['Winner'] == allwins['Bowling Team']))]\n",
    "winsBatting = winsBatting['Winner'].value_counts()\n",
    "winsBatting = pd.Series.to_frame(winsBatting)\n",
    "winsBatting['Won Batting Second'] = allwins['Winner'][(allwins['Innings'] == 1 & (allwins['Winner'] == allwins['Bowling Team'])) | (allwins['Innings'] == 2 & (allwins['Winner'] == allwins['Batting Team']))].value_counts()\n",
    "winsBatting = winsBatting.rename(columns = {'Winner':'Won Batting First'})\n",
    "winsBatting"
   ]
  },
  {
   "cell_type": "code",
   "execution_count": null,
   "metadata": {
    "collapsed": true
   },
   "outputs": [],
   "source": [
    "winsBattingGraph = winsBatting.plot(kind = \"Barh\",legend = False,figsize=(10,8), title = \"Number of wins by Batting First Vs Batting Second\")\n",
    "winsBattingGraph.set_xlabel(\"Number of Wins\")\n",
    "winsBattingGraph.set_ylabel(\"Team\")\n",
    "winsBattingGraph.legend([\"Batting First Wins\",\"Batting Second Wins\"],loc='center left', bbox_to_anchor=(1.0, 0.5))\n",
    "winsBattingGraph;"
   ]
  },
  {
   "cell_type": "markdown",
   "metadata": {},
   "source": [
    "Here Follows Testing Code (ignore unless you notice snippets of code you want to use i.e ipywidgets): "
   ]
  },
  {
   "cell_type": "code",
   "execution_count": null,
   "metadata": {
    "collapsed": true
   },
   "outputs": [],
   "source": [
    "newdf = df\n",
    "newdf"
   ]
  },
  {
   "cell_type": "code",
   "execution_count": null,
   "metadata": {
    "collapsed": true
   },
   "outputs": [],
   "source": [
    "#for index, row in newdf.iterrows():\n",
    " #   newdf.set_value('Residence Type', index, 10)\n",
    "    #print(str(row['Residence Type']))\n",
    "#newdf\n",
    "newdf.loc[0,'Residence Type'] = 10"
   ]
  },
  {
   "cell_type": "code",
   "execution_count": null,
   "metadata": {
    "collapsed": true
   },
   "outputs": [],
   "source": [
    "newdf"
   ]
  },
  {
   "cell_type": "code",
   "execution_count": null,
   "metadata": {
    "collapsed": true
   },
   "outputs": [],
   "source": [
    "for column in newdf:\n",
    "    print(column)"
   ]
  },
  {
   "cell_type": "code",
   "execution_count": null,
   "metadata": {
    "collapsed": true
   },
   "outputs": [],
   "source": [
    "for index, row in newdf.iterrows():\n",
    "    #print(str(row))"
   ]
  },
  {
   "cell_type": "code",
   "execution_count": null,
   "metadata": {
    "collapsed": true
   },
   "outputs": [],
   "source": [
    "row = 0\n",
    "column = 'Residence Type'\n",
    "df.loc[row,column] = 10\n",
    "df"
   ]
  },
  {
   "cell_type": "code",
   "execution_count": null,
   "metadata": {
    "collapsed": true
   },
   "outputs": [],
   "source": [
    "#funcname = lambda x: x = 10\n",
    "\n",
    "df[\"Residence Type\"].apply(lambda x: str(x).lower())\n",
    "\n",
    "# for column in df:\n",
    "#     print(column)\n",
    "#     if (column == 'Residence Type'):\n",
    "        \n",
    "df"
   ]
  },
  {
   "cell_type": "code",
   "execution_count": null,
   "metadata": {
    "collapsed": true
   },
   "outputs": [],
   "source": [
    "easy11 = df.groupby(['Region','Industry'])['Person ID'].count()"
   ]
  },
  {
   "cell_type": "code",
   "execution_count": null,
   "metadata": {
    "collapsed": true
   },
   "outputs": [],
   "source": [
    "easy11 = df"
   ]
  },
  {
   "cell_type": "code",
   "execution_count": null,
   "metadata": {
    "collapsed": true
   },
   "outputs": [],
   "source": [
    "#easy11 = pd.Series.to_frame(easy11)\n",
    "#pd.crosstab(easy1['Region'], easy1['Industry'])\n",
    "easy11 = df.groupby('Region').agg({\"Industry\":})"
   ]
  },
  {
   "cell_type": "code",
   "execution_count": null,
   "metadata": {
    "collapsed": true
   },
   "outputs": [],
   "source": [
    "easy11"
   ]
  },
  {
   "cell_type": "code",
   "execution_count": null,
   "metadata": {
    "collapsed": true
   },
   "outputs": [],
   "source": [
    "easy11 = df.groupby(['Region','Industry'])['Person ID'].count()\n",
    "easy11 = pd.Series.to_frame(easy11)\n",
    "easy11.columns.values[0] = 'Counts'\n",
    "easy11"
   ]
  },
  {
   "cell_type": "code",
   "execution_count": null,
   "metadata": {
    "collapsed": true
   },
   "outputs": [],
   "source": [
    "easy12 = df.groupby(['Occupation','Approximated Social Grade'])['Person ID'].count()\n",
    "easy12 = pd.Series.to_frame(easy12)\n",
    "easy12.columns.values[0] = 'Counts'\n",
    "easy12"
   ]
  },
  {
   "cell_type": "code",
   "execution_count": null,
   "metadata": {
    "collapsed": true
   },
   "outputs": [],
   "source": [
    "pd.crosstab(df['Occupation'], df['Approximated Social Grade'])"
   ]
  },
  {
   "cell_type": "code",
   "execution_count": null,
   "metadata": {
    "collapsed": true
   },
   "outputs": [],
   "source": [
    "pd.crosstab(df['Region'], df['Industry'])"
   ]
  },
  {
   "cell_type": "code",
   "execution_count": null,
   "metadata": {
    "collapsed": true
   },
   "outputs": [],
   "source": [
    "from __future__ import print_function\n",
    "from ipywidgets import interact, interactive, fixed, interact_manual\n",
    "import ipywidgets as widgets"
   ]
  },
  {
   "cell_type": "code",
   "execution_count": null,
   "metadata": {
    "collapsed": true
   },
   "outputs": [],
   "source": [
    "def f(x):\n",
    "    return x"
   ]
  },
  {
   "cell_type": "code",
   "execution_count": null,
   "metadata": {
    "collapsed": true
   },
   "outputs": [],
   "source": [
    "interact(f, x=10)"
   ]
  },
  {
   "cell_type": "code",
   "execution_count": null,
   "metadata": {
    "collapsed": true
   },
   "outputs": [],
   "source": [
    "plt.figure(figsize=(12, 9))\n",
    "plotting.plot_bar_group_count(\n",
    "    newdf,\n",
    "    'Region',\n",
    "    'Frequencies of Resident Regions in 2011 Census',\n",
    ")\n",
    "plt.show()"
   ]
  },
  {
   "cell_type": "code",
   "execution_count": null,
   "metadata": {
    "collapsed": true
   },
   "outputs": [],
   "source": [
    "def f(n):\n",
    "    plt.plot([0,1,2],[0,1,n])\n",
    "interact(f,n=(0,10))"
   ]
  },
  {
   "cell_type": "code",
   "execution_count": null,
   "metadata": {
    "collapsed": true
   },
   "outputs": [],
   "source": [
    "interact(f, x=True)"
   ]
  },
  {
   "cell_type": "code",
   "execution_count": null,
   "metadata": {
    "collapsed": true
   },
   "outputs": [],
   "source": [
    "def industryfunc(x,y):\n",
    "    temp = newdf[(newdf['Region'] == x) & (newdf['Age'] == y)]\n",
    "    name = \"Industry count of ages \" + y +\" in \" + x\n",
    "    plt.figure(figsize=(10, 10))\n",
    "    plotting.plot_bar_group_count(\n",
    "        temp, \n",
    "        'Industry', \n",
    "        name,\n",
    "        wrap_chars = 20\n",
    "    )\n",
    "regionvalues = newdf.Region.unique()\n",
    "regionvalues = regionvalues.tolist()\n",
    "\n",
    "agevalues = newdf.Age.unique()\n",
    "agevalues = agevalues.tolist()\n",
    "\n",
    "interact(industryfunc, x=regionvalues,y=(agevalues))"
   ]
  },
  {
   "cell_type": "code",
   "execution_count": null,
   "metadata": {
    "collapsed": true
   },
   "outputs": [],
   "source": [
    "print(1)"
   ]
  },
  {
   "cell_type": "code",
   "execution_count": null,
   "metadata": {
    "collapsed": true
   },
   "outputs": [],
   "source": [
    "len(df)"
   ]
  },
  {
   "cell_type": "code",
   "execution_count": null,
   "metadata": {
    "collapsed": true
   },
   "outputs": [],
   "source": [
    "ea = df[df[\"Economic Activity\"].isin(range(0, 5))]"
   ]
  },
  {
   "cell_type": "code",
   "execution_count": null,
   "metadata": {
    "collapsed": true
   },
   "outputs": [],
   "source": [
    "easy21 = pd.crosstab(index = (ea)['Region'], columns = 'count')\n",
    "easy21"
   ]
  },
  {
   "cell_type": "code",
   "execution_count": null,
   "metadata": {
    "collapsed": true
   },
   "outputs": [],
   "source": [
    "easy22 = pd.crosstab(index = (ea)['Age'], columns = 'count')\n",
    "easy22"
   ]
  },
  {
   "cell_type": "code",
   "execution_count": null,
   "metadata": {
    "collapsed": true
   },
   "outputs": [],
   "source": [
    "#counting the number of records\n",
    "print(\"number of records = \" + str(df['Person ID'].count()))"
   ]
  },
  {
   "cell_type": "code",
   "execution_count": null,
   "metadata": {
    "collapsed": true
   },
   "outputs": [],
   "source": [
    "df['Residence Type'].value_counts()"
   ]
  },
  {
   "cell_type": "code",
   "execution_count": null,
   "metadata": {
    "collapsed": true
   },
   "outputs": [],
   "source": [
    "print(str(df.groupby('Economic Activity')))"
   ]
  }
 ],
 "metadata": {
  "anaconda-cloud": {},
  "kernelspec": {
   "display_name": "Python 3",
   "language": "python",
   "name": "python3"
  },
  "language_info": {
   "codemirror_mode": {
    "name": "ipython",
    "version": 3
   },
   "file_extension": ".py",
   "mimetype": "text/x-python",
   "name": "python",
   "nbconvert_exporter": "python",
   "pygments_lexer": "ipython3",
   "version": "3.5.3"
  },
  "widgets": {
   "state": {
    "3867e1007a064b309384d0aa38ae28f8": {
     "views": [
      {
       "cell_index": 52
      }
     ]
    },
    "ea7fe070e7a74f30be9a01450e4bc014": {
     "views": [
      {
       "cell_index": 58
      }
     ]
    },
    "f9336774a5954468a78200baf3454f16": {
     "views": [
      {
       "cell_index": 45
      }
     ]
    },
    "fa4a81a68c4f426fb2b9cf7b210918d3": {
     "views": [
      {
       "cell_index": 54
      }
     ]
    },
    "ff4671db41a542199e892e9339f05354": {
     "views": [
      {
       "cell_index": 75
      }
     ]
    }
   },
   "version": "1.2.0"
  }
 },
 "nbformat": 4,
 "nbformat_minor": 1
}
