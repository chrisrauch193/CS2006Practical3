{
 "cells": [
  {
   "cell_type": "markdown",
   "metadata": {
    "deletable": true,
    "editable": true
   },
   "source": [
    "This is the Import statements required for the data"
   ]
  },
  {
   "cell_type": "code",
   "execution_count": 1,
   "metadata": {
    "collapsed": true,
    "deletable": true,
    "editable": true
   },
   "outputs": [],
   "source": [
    "%matplotlib inline\n",
    "%config InlineBackend.figure_format = 'retina'\n",
    "import pandas as pd\n",
    "import matplotlib as mpl\n",
    "import matplotlib.pyplot as plt\n",
    "pd.Series.__unicode__ = pd.Series.to_string\n",
    "import numpy as np"
   ]
  },
  {
   "cell_type": "code",
   "execution_count": 2,
   "metadata": {
    "collapsed": false,
    "deletable": true,
    "editable": true
   },
   "outputs": [
    {
     "name": "stderr",
     "output_type": "stream",
     "text": [
      "/Users/Chris/anaconda/lib/python3.6/site-packages/matplotlib/__init__.py:1401: UserWarning:  This call to matplotlib.use() has no effect\n",
      "because the backend has already been chosen;\n",
      "matplotlib.use() must be called *before* pylab, matplotlib.pyplot,\n",
      "or matplotlib.backends is imported for the first time.\n",
      "\n",
      "  warnings.warn(_use_error_msg)\n"
     ]
    }
   ],
   "source": [
    "import plotting"
   ]
  },
  {
   "cell_type": "code",
   "execution_count": 3,
   "metadata": {
    "collapsed": true,
    "deletable": true,
    "editable": true
   },
   "outputs": [],
   "source": [
    "import copy"
   ]
  },
  {
   "cell_type": "code",
   "execution_count": 4,
   "metadata": {
    "collapsed": true,
    "deletable": true,
    "editable": true
   },
   "outputs": [],
   "source": [
    "import utils"
   ]
  },
  {
   "cell_type": "code",
   "execution_count": 5,
   "metadata": {
    "collapsed": false,
    "deletable": true,
    "editable": true
   },
   "outputs": [],
   "source": [
    "df=pd.read_csv(\"./census2011.csv\")"
   ]
  },
  {
   "cell_type": "code",
   "execution_count": 6,
   "metadata": {
    "collapsed": true,
    "deletable": true,
    "editable": true
   },
   "outputs": [],
   "source": [
    "newdf = copy.deepcopy(df)\n",
    "for field in newdf:\n",
    "    newdf[field] = newdf[field].apply(lambda value: utils.data_translation(field,value))"
   ]
  },
  {
   "cell_type": "markdown",
   "metadata": {
    "deletable": true,
    "editable": true
   },
   "source": [
    "Basic Requirement Number 2"
   ]
  },
  {
   "cell_type": "code",
   "execution_count": 7,
   "metadata": {
    "collapsed": false,
    "deletable": true,
    "editable": true
   },
   "outputs": [
    {
     "name": "stdout",
     "output_type": "stream",
     "text": [
      "The number of records is 569741\n"
     ]
    }
   ],
   "source": [
    "#Basic Requirement 2.1\n",
    "print(\"The number of records is \" + str(len(df)))"
   ]
  },
  {
   "cell_type": "code",
   "execution_count": 8,
   "metadata": {
    "collapsed": false,
    "deletable": true,
    "editable": true
   },
   "outputs": [
    {
     "name": "stdout",
     "output_type": "stream",
     "text": [
      "All Data Types:\n",
      "Person ID                     int64\n",
      "Region                       object\n",
      "Residence Type               object\n",
      "Family Composition            int64\n",
      "Population Base               int64\n",
      "Sex                           int64\n",
      "Age                           int64\n",
      "Marital Status                int64\n",
      "Student                       int64\n",
      "Country of Birth              int64\n",
      "Health                        int64\n",
      "Ethnic Group                  int64\n",
      "Religion                      int64\n",
      "Economic Activity             int64\n",
      "Occupation                    int64\n",
      "Industry                      int64\n",
      "Hours worked per week         int64\n",
      "Approximated Social Grade     int64\n"
     ]
    }
   ],
   "source": [
    "#Basic Requirement 2.2\n",
    "print(\"All Data Types:\\n\" + str(df.dtypes))"
   ]
  },
  {
   "cell_type": "code",
   "execution_count": 9,
   "metadata": {
    "collapsed": false,
    "deletable": true,
    "editable": true,
    "scrolled": true
   },
   "outputs": [
    {
     "name": "stdout",
     "output_type": "stream",
     "text": [
      "Region Counts\n",
      "South East                  88084\n",
      "London                      83582\n",
      "North West                  71436\n",
      "East of England             59411\n",
      "West Midlands               56875\n",
      "South West                  53774\n",
      "Yorkshire and the Humber    53471\n",
      "East Midlands               45782\n",
      "Wales                       30977\n",
      "North East                  26349\n",
      "\n",
      "Residence Type Counts\n",
      "Not Resident    559087\n",
      "Resident         10654\n",
      "\n",
      "Family Composition Counts\n",
      "Married/Civil Partnership      300962\n",
      "Not in Family                   96690\n",
      "Cohabiting Couple Family        72641\n",
      "Lone Parent Family (Female)     64519\n",
      "No Code Required                18851\n",
      "Lone Parent Family (Male)        9848\n",
      "Other Related Family             6230\n",
      "\n",
      "Population Base Counts\n",
      "Usual Resident                   561040\n",
      "Student Living Away From Home      6730\n",
      "Short-term Resident                1971\n",
      "\n",
      "Sex Counts\n",
      "Female    289172\n",
      "Male      280569\n",
      "\n",
      "Age Counts\n",
      "0 to 15        106832\n",
      "35 to 44        78641\n",
      "45 to 54        77388\n",
      "25 to 34        75948\n",
      "16 to 24        72785\n",
      "55 to 64        65666\n",
      "65 to 74        48777\n",
      "75 and Over     43704\n",
      "\n",
      "Marital Status Counts\n",
      "Single (Never Married/Civil Partnership)                 270999\n",
      "Married/Civil Partnership                                214180\n",
      "Divorced or Formerly in a Civil Partnership               40713\n",
      "Widowed                                                   31898\n",
      "Separated but Still Legally Married/Civil Partnership     11951\n",
      "\n",
      "Student Counts\n",
      "False    443204\n",
      "True     126537\n",
      "\n",
      "Country of Birth Counts\n",
      "UK                  485645\n",
      "Non-UK               77292\n",
      "No Code Required      6804\n",
      "\n",
      "Health Counts\n",
      "Very Good Health    264971\n",
      "Good Health         191744\n",
      "Fair Health          74480\n",
      "Bad Health           24558\n",
      "Very Bad Health       7184\n",
      "No Code Requried      6804\n",
      "\n",
      "Ethnic Group Counts\n",
      "White                     483477\n",
      "Asian or Asian British     42712\n",
      "Black or Black British     18786\n",
      "Mixed                      12209\n",
      "No Code Requried            6804\n",
      "Chinese or Other            5753\n",
      "\n",
      "Religion Counts\n",
      "Christian           333481\n",
      "No Religion         141658\n",
      "Not Stated           40613\n",
      "Muslim               27240\n",
      "Hindu                 8214\n",
      "No Code Required      6804\n",
      "Sikh                  4215\n",
      "Jewish                2572\n",
      "Buddhist              2538\n",
      "Other Religion        2406\n",
      "\n",
      "Economic Activity Counts\n",
      "Employee                        216025\n",
      "No Code Required                112618\n",
      "Retired                          97480\n",
      "Self-employed                    40632\n",
      "Student                          24756\n",
      "Unemployed                       18109\n",
      "Long-term Sick or Disabled       17991\n",
      "Looking After Home or Family     17945\n",
      "Full-time Student                14117\n",
      "Other                            10068\n",
      "\n",
      "Occupation Counts\n",
      "No Code Required                            149984\n",
      "Professional                                 64111\n",
      "Elementary                                   58483\n",
      "Administrative and Secretarial               53254\n",
      "Skilled Trades                               48546\n",
      "Associate Professional and Technical         44937\n",
      "Managers, Directors and Senior Officials     39788\n",
      "Sales and Customer Service                   38523\n",
      "Caring, Leisure and Other Service            37297\n",
      "Process, Plant and Machine Operatives        34818\n",
      "\n",
      "Industry Counts\n",
      "No Code Required                                149984\n",
      "Wholesale and Retail Trade                       68878\n",
      "Mining and Quarrying                             53433\n",
      "Real Estate                                      49960\n",
      "Human Health and Social Work                     49345\n",
      "Education                                        40560\n",
      "Transport and Storage                            35240\n",
      "Construction                                     30708\n",
      "Accommodation and Food Service                   25736\n",
      "Public Adminstration and Defence                 24908\n",
      "Other Community, Social and Personal Service     20256\n",
      "Financial and Insurance                          16776\n",
      "Agriculture, FOrestry adn Fishing                 3957\n",
      "\n",
      "Hours worked per week Counts\n",
      "No Code Required    302321\n",
      "31 to 48 Hours      153938\n",
      "16 to 30 Hours       52133\n",
      "49 or More Hours     35573\n",
      "15 or Less Hours     25776\n",
      "\n",
      "Approximated Social Grade Counts\n",
      "C1                  159642\n",
      "No Code Required    124103\n",
      "DE                  123740\n",
      "AB                   82320\n",
      "C2                   79936\n",
      "\n"
     ]
    }
   ],
   "source": [
    "#Basic Requirement 2.3\n",
    "for column in newdf:\n",
    "    if (column != \"Person ID\"):\n",
    "        print(str(column)+ \" Counts\\n\" +str(newdf[column].value_counts()) + \"\\n\")"
   ]
  },
  {
   "cell_type": "markdown",
   "metadata": {
    "deletable": true,
    "editable": true
   },
   "source": [
    "Plotting Graph Basic Requirements 3"
   ]
  },
  {
   "cell_type": "code",
   "execution_count": null,
   "metadata": {
    "collapsed": false,
    "deletable": true,
    "editable": true
   },
   "outputs": [],
   "source": [
    "# Number of Records per region\n",
    "plotting.plot_bar_group(\n",
    "        newdf,\n",
    "        'Region',\n",
    "        'Frequencies of Resident Regions in 2011 Census',\n",
    "        'Region',\n",
    "        'Frequency',\n",
    "    )\n",
    "\n",
    "plt.tight_layout()\n",
    "plt.show()"
   ]
  },
  {
   "cell_type": "code",
   "execution_count": null,
   "metadata": {
    "collapsed": false,
    "deletable": true,
    "editable": true
   },
   "outputs": [],
   "source": [
    "# Number of records per occupation\n",
    "plotting.plot_bar_group(\n",
    "        newdf,\n",
    "        'Occupation',\n",
    "        'Frequencies of Resident Occupations in 2011 Census',\n",
    "        'Occupation',\n",
    "        'Frequency',\n",
    "    )\n",
    "\n",
    "plt.tight_layout()\n",
    "plt.show()"
   ]
  },
  {
   "cell_type": "code",
   "execution_count": null,
   "metadata": {
    "collapsed": false,
    "deletable": true,
    "editable": true
   },
   "outputs": [],
   "source": [
    "#Pie Chart for Distrubition of the sample by age\n",
    "plotting.plot_pie_group(\n",
    "        newdf,\n",
    "        'Age',\n",
    "        'Proportions of Resident Ages in 2011 Census',\n",
    "    )\n",
    "\n",
    "plt.tight_layout()\n",
    "plt.show()"
   ]
  },
  {
   "cell_type": "code",
   "execution_count": null,
   "metadata": {
    "collapsed": false,
    "deletable": true,
    "editable": true
   },
   "outputs": [],
   "source": [
    "#Pie Chart for Distrubition of the sample by economic activity\n",
    "plotting.plot_pie_group(\n",
    "        newdf,\n",
    "        'Economic Activity',\n",
    "        'Proportions of Resident Economic Activity in 2011 Census',\n",
    "    )\n",
    "\n",
    "plt.tight_layout()\n",
    "plt.show()"
   ]
  },
  {
   "cell_type": "markdown",
   "metadata": {
    "deletable": true,
    "editable": true
   },
   "source": [
    "Easy Extension 1"
   ]
  },
  {
   "cell_type": "code",
   "execution_count": null,
   "metadata": {
    "collapsed": false,
    "deletable": true,
    "editable": true
   },
   "outputs": [],
   "source": [
    "#Easy Extension 1 part 1 Using crosstab\n",
    "dfeasy11 = pd.crosstab(newdf['Region'], newdf['Industry'])\n",
    "dfeasy11"
   ]
  },
  {
   "cell_type": "code",
   "execution_count": null,
   "metadata": {
    "collapsed": false,
    "deletable": true,
    "editable": true
   },
   "outputs": [],
   "source": [
    "#Easy Extension 1 part 2 using crosstab\n",
    "dfeasy12 = pd.crosstab(newdf['Occupation'], newdf['Approximated Social Grade'])\n",
    "dfeasy12"
   ]
  },
  {
   "cell_type": "code",
   "execution_count": null,
   "metadata": {
    "collapsed": false,
    "deletable": true,
    "editable": true
   },
   "outputs": [],
   "source": [
    "#Easy 1 part 1 using GroupBy\n",
    "easy11 = newdf.groupby(['Region','Industry'])['Person ID'].count()\n",
    "easy11 = pd.Series.to_frame(easy11)\n",
    "easy11.columns.values[0] = 'Counts'\n",
    "easy11"
   ]
  },
  {
   "cell_type": "code",
   "execution_count": null,
   "metadata": {
    "collapsed": false,
    "deletable": true,
    "editable": true
   },
   "outputs": [],
   "source": [
    "#Easy 1 part 2 using GroupBy\n",
    "easy12 = newdf.groupby(['Occupation','Approximated Social Grade'])['Person ID'].count()\n",
    "easy12 = pd.Series.to_frame(easy12)\n",
    "easy12.columns.values[0] = 'Counts'\n",
    "easy12"
   ]
  },
  {
   "cell_type": "markdown",
   "metadata": {
    "deletable": true,
    "editable": true
   },
   "source": [
    "Easy Extension 2 Parts 1 and 2 -Part 3 was filtered in the Dataset to begin with"
   ]
  },
  {
   "cell_type": "code",
   "execution_count": null,
   "metadata": {
    "collapsed": false,
    "deletable": true,
    "editable": true
   },
   "outputs": [],
   "source": [
    "#Filtering the Dataset to be economic code from 1-4\n",
    "ea = df[df[\"Economic Activity\"].isin(range(1, 5))]\n",
    "for field in ea:\n",
    "    ea[field] = ea[field].apply(lambda value: utils.data_translation(field,value))"
   ]
  },
  {
   "cell_type": "code",
   "execution_count": null,
   "metadata": {
    "collapsed": false,
    "deletable": true,
    "editable": true
   },
   "outputs": [],
   "source": [
    "# Easy 2 Part 1 using CrossTab\n",
    "easy21 = pd.crosstab(index = (ea)['Region'], columns = 'count')\n",
    "easy21 = easy21.sort_values(['count'],ascending = 0)\n",
    "easy21"
   ]
  },
  {
   "cell_type": "code",
   "execution_count": null,
   "metadata": {
    "collapsed": false,
    "deletable": true,
    "editable": true
   },
   "outputs": [],
   "source": [
    "# Easy 2 Part 2 using CrossTab\n",
    "easy22 = pd.crosstab(index = (ea)['Age'], columns = 'count')\n",
    "easy22 = easy22.sort_values(['count'],ascending = 0)\n",
    "easy22"
   ]
  },
  {
   "cell_type": "code",
   "execution_count": null,
   "metadata": {
    "collapsed": true,
    "deletable": true,
    "editable": true
   },
   "outputs": [],
   "source": []
  },
  {
   "cell_type": "code",
   "execution_count": null,
   "metadata": {
    "collapsed": true,
    "deletable": true,
    "editable": true
   },
   "outputs": [],
   "source": []
  },
  {
   "cell_type": "markdown",
   "metadata": {
    "deletable": true,
    "editable": true
   },
   "source": [
    "Here Follows Testing Code (ignore unless you notice snippets of code you want to use i.e ipywidgets): "
   ]
  },
  {
   "cell_type": "code",
   "execution_count": null,
   "metadata": {
    "collapsed": false,
    "deletable": true,
    "editable": true
   },
   "outputs": [],
   "source": [
    "newdf = df\n",
    "newdf"
   ]
  },
  {
   "cell_type": "code",
   "execution_count": null,
   "metadata": {
    "collapsed": false,
    "deletable": true,
    "editable": true
   },
   "outputs": [],
   "source": [
    "#for index, row in newdf.iterrows():\n",
    " #   newdf.set_value('Residence Type', index, 10)\n",
    "    #print(str(row['Residence Type']))\n",
    "#newdf\n",
    "newdf.loc[0,'Residence Type'] = 10"
   ]
  },
  {
   "cell_type": "code",
   "execution_count": null,
   "metadata": {
    "collapsed": false,
    "deletable": true,
    "editable": true
   },
   "outputs": [],
   "source": [
    "newdf"
   ]
  },
  {
   "cell_type": "code",
   "execution_count": null,
   "metadata": {
    "collapsed": false,
    "deletable": true,
    "editable": true
   },
   "outputs": [],
   "source": [
    "for column in newdf:\n",
    "    print(column)"
   ]
  },
  {
   "cell_type": "code",
   "execution_count": null,
   "metadata": {
    "collapsed": false,
    "deletable": true,
    "editable": true
   },
   "outputs": [],
   "source": [
    "for index, row in newdf.iterrows():\n",
    "    #print(str(row))"
   ]
  },
  {
   "cell_type": "code",
   "execution_count": null,
   "metadata": {
    "collapsed": false,
    "deletable": true,
    "editable": true
   },
   "outputs": [],
   "source": [
    "row = 0\n",
    "column = 'Residence Type'\n",
    "df.loc[row,column] = 10\n",
    "df"
   ]
  },
  {
   "cell_type": "code",
   "execution_count": null,
   "metadata": {
    "collapsed": false,
    "deletable": true,
    "editable": true
   },
   "outputs": [],
   "source": [
    "#funcname = lambda x: x = 10\n",
    "\n",
    "df[\"Residence Type\"].apply(lambda x: str(x).lower())\n",
    "\n",
    "# for column in df:\n",
    "#     print(column)\n",
    "#     if (column == 'Residence Type'):\n",
    "        \n",
    "df"
   ]
  },
  {
   "cell_type": "code",
   "execution_count": null,
   "metadata": {
    "collapsed": false,
    "deletable": true,
    "editable": true
   },
   "outputs": [],
   "source": [
    "easy11 = df.groupby(['Region','Industry'])['Person ID'].count()"
   ]
  },
  {
   "cell_type": "code",
   "execution_count": null,
   "metadata": {
    "collapsed": false,
    "deletable": true,
    "editable": true
   },
   "outputs": [],
   "source": [
    "easy11 = df"
   ]
  },
  {
   "cell_type": "code",
   "execution_count": null,
   "metadata": {
    "collapsed": false,
    "deletable": true,
    "editable": true
   },
   "outputs": [],
   "source": [
    "#easy11 = pd.Series.to_frame(easy11)\n",
    "#pd.crosstab(easy1['Region'], easy1['Industry'])\n",
    "easy11 = df.groupby('Region').agg({\"Industry\":})"
   ]
  },
  {
   "cell_type": "code",
   "execution_count": null,
   "metadata": {
    "collapsed": false,
    "deletable": true,
    "editable": true
   },
   "outputs": [],
   "source": [
    "easy11"
   ]
  },
  {
   "cell_type": "code",
   "execution_count": null,
   "metadata": {
    "collapsed": false,
    "deletable": true,
    "editable": true
   },
   "outputs": [],
   "source": [
    "easy11 = df.groupby(['Region','Industry'])['Person ID'].count()\n",
    "easy11 = pd.Series.to_frame(easy11)\n",
    "easy11.columns.values[0] = 'Counts'\n",
    "easy11"
   ]
  },
  {
   "cell_type": "code",
   "execution_count": null,
   "metadata": {
    "collapsed": false,
    "deletable": true,
    "editable": true
   },
   "outputs": [],
   "source": [
    "easy12 = df.groupby(['Occupation','Approximated Social Grade'])['Person ID'].count()\n",
    "easy12 = pd.Series.to_frame(easy12)\n",
    "easy12.columns.values[0] = 'Counts'\n",
    "easy12"
   ]
  },
  {
   "cell_type": "code",
   "execution_count": null,
   "metadata": {
    "collapsed": false,
    "deletable": true,
    "editable": true
   },
   "outputs": [],
   "source": [
    "pd.crosstab(df['Occupation'], df['Approximated Social Grade'])"
   ]
  },
  {
   "cell_type": "code",
   "execution_count": null,
   "metadata": {
    "collapsed": false,
    "deletable": true,
    "editable": true
   },
   "outputs": [],
   "source": [
    "pd.crosstab(df['Region'], df['Industry'])"
   ]
  },
  {
   "cell_type": "code",
   "execution_count": null,
   "metadata": {
    "collapsed": true,
    "deletable": true,
    "editable": true
   },
   "outputs": [],
   "source": [
    "from __future__ import print_function\n",
    "from ipywidgets import interact, interactive, fixed, interact_manual\n",
    "import ipywidgets as widgets"
   ]
  },
  {
   "cell_type": "code",
   "execution_count": null,
   "metadata": {
    "collapsed": true,
    "deletable": true,
    "editable": true
   },
   "outputs": [],
   "source": [
    "def f(x):\n",
    "    return x"
   ]
  },
  {
   "cell_type": "code",
   "execution_count": null,
   "metadata": {
    "collapsed": false,
    "deletable": true,
    "editable": true
   },
   "outputs": [],
   "source": [
    "interact(f, x=10)"
   ]
  },
  {
   "cell_type": "code",
   "execution_count": null,
   "metadata": {
    "collapsed": false,
    "deletable": true,
    "editable": true
   },
   "outputs": [],
   "source": [
    "interact(f, x=True)"
   ]
  },
  {
   "cell_type": "code",
   "execution_count": null,
   "metadata": {
    "collapsed": false,
    "deletable": true,
    "editable": true
   },
   "outputs": [],
   "source": [
    "interact(f, x=['one','two']);"
   ]
  },
  {
   "cell_type": "code",
   "execution_count": null,
   "metadata": {
    "collapsed": false,
    "deletable": true,
    "editable": true
   },
   "outputs": [],
   "source": [
    "print(1)"
   ]
  },
  {
   "cell_type": "code",
   "execution_count": null,
   "metadata": {
    "collapsed": false,
    "deletable": true,
    "editable": true
   },
   "outputs": [],
   "source": [
    "len(df)"
   ]
  },
  {
   "cell_type": "code",
   "execution_count": null,
   "metadata": {
    "collapsed": false,
    "deletable": true,
    "editable": true
   },
   "outputs": [],
   "source": [
    "ea = df[df[\"Economic Activity\"].isin(range(0, 5))]"
   ]
  },
  {
   "cell_type": "code",
   "execution_count": null,
   "metadata": {
    "collapsed": false,
    "deletable": true,
    "editable": true
   },
   "outputs": [],
   "source": [
    "easy21 = pd.crosstab(index = (ea)['Region'], columns = 'count')\n",
    "easy21"
   ]
  },
  {
   "cell_type": "code",
   "execution_count": null,
   "metadata": {
    "collapsed": false,
    "deletable": true,
    "editable": true
   },
   "outputs": [],
   "source": [
    "easy22 = pd.crosstab(index = (ea)['Age'], columns = 'count')\n",
    "easy22"
   ]
  },
  {
   "cell_type": "code",
   "execution_count": null,
   "metadata": {
    "collapsed": false,
    "deletable": true,
    "editable": true
   },
   "outputs": [],
   "source": [
    "#counting the number of records\n",
    "print(\"number of records = \" + str(df['Person ID'].count()))"
   ]
  },
  {
   "cell_type": "code",
   "execution_count": null,
   "metadata": {
    "collapsed": false,
    "deletable": true,
    "editable": true
   },
   "outputs": [],
   "source": [
    "df['Residence Type'].value_counts()"
   ]
  },
  {
   "cell_type": "code",
   "execution_count": null,
   "metadata": {
    "collapsed": true,
    "deletable": true,
    "editable": true
   },
   "outputs": [],
   "source": [
    "print(str(df.groupby('Economic Activity')))"
   ]
  }
 ],
 "metadata": {
  "anaconda-cloud": {},
  "kernelspec": {
   "display_name": "Python 3",
   "language": "python",
   "name": "python3"
  },
  "language_info": {
   "codemirror_mode": {
    "name": "ipython",
    "version": 3
   },
   "file_extension": ".py",
   "mimetype": "text/x-python",
   "name": "python",
   "nbconvert_exporter": "python",
   "pygments_lexer": "ipython3",
   "version": "3.6.0"
  }
 },
 "nbformat": 4,
 "nbformat_minor": 0
}
