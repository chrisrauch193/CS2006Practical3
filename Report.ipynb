{
 "cells": [
  {
   "cell_type": "markdown",
   "metadata": {
    "deletable": true,
    "editable": true
   },
   "source": [
    "This is the Import statements required for the data"
   ]
  },
  {
   "cell_type": "code",
   "execution_count": 7,
   "metadata": {
    "collapsed": true,
    "deletable": true,
    "editable": true
   },
   "outputs": [],
   "source": [
    "%matplotlib inline\n",
    "%config InlineBackend.figure_format = 'retina'\n",
    "import pandas as pd\n",
    "import matplotlib as mpl\n",
    "import matplotlib.pyplot as plt\n",
    "pd.Series.__unicode__ = pd.Series.to_string\n",
    "import numpy as np\n",
    "from __future__ import print_function\n",
    "from ipywidgets import interact, interactive, fixed, interact_manual\n",
    "import ipywidgets as widgets"
   ]
  },
  {
   "cell_type": "code",
   "execution_count": 8,
   "metadata": {
    "collapsed": false,
    "deletable": true,
    "editable": true
   },
   "outputs": [],
   "source": [
    "import plotting"
   ]
  },
  {
   "cell_type": "code",
   "execution_count": 9,
   "metadata": {
    "collapsed": true,
    "deletable": true,
    "editable": true
   },
   "outputs": [],
   "source": [
    "import copy"
   ]
  },
  {
   "cell_type": "code",
   "execution_count": 10,
   "metadata": {
    "collapsed": true
   },
   "outputs": [],
   "source": [
    "import getDataFrameExtended as getdata"
   ]
  },
  {
   "cell_type": "code",
   "execution_count": 11,
   "metadata": {
    "collapsed": true,
    "deletable": true,
    "editable": true
   },
   "outputs": [],
   "source": [
    "import utils"
   ]
  },
  {
   "cell_type": "code",
   "execution_count": 12,
   "metadata": {
    "collapsed": false,
    "deletable": true,
    "editable": true
   },
   "outputs": [],
   "source": [
    "df=pd.read_csv(\"./census2011.csv\")"
   ]
  },
  {
   "cell_type": "code",
   "execution_count": 13,
   "metadata": {
    "collapsed": true,
    "deletable": true,
    "editable": true
   },
   "outputs": [],
   "source": [
    "newdf = copy.deepcopy(df)\n",
    "for field in newdf:\n",
    "    newdf[field] = newdf[field].apply(lambda value: utils.data_translation(field,value))"
   ]
  },
  {
   "cell_type": "markdown",
   "metadata": {
    "deletable": true,
    "editable": true
   },
   "source": [
    "Basic Requirement Number 2"
   ]
  },
  {
   "cell_type": "code",
   "execution_count": null,
   "metadata": {
    "collapsed": false,
    "deletable": true,
    "editable": true
   },
   "outputs": [],
   "source": [
    "#Basic Requirement 2.1\n",
    "print(\"The number of records is \" + str(len(df)))"
   ]
  },
  {
   "cell_type": "code",
   "execution_count": null,
   "metadata": {
    "collapsed": false,
    "deletable": true,
    "editable": true
   },
   "outputs": [],
   "source": [
    "#Basic Requirement 2.2\n",
    "print(\"All Data Types:\\n\" + str(df.dtypes))"
   ]
  },
  {
   "cell_type": "code",
   "execution_count": null,
   "metadata": {
    "collapsed": false,
    "deletable": true,
    "editable": true,
    "scrolled": true
   },
   "outputs": [],
   "source": [
    "#Basic Requirement 2.3\n",
    "for column in newdf:\n",
    "    if (column != \"Person ID\"):\n",
    "        print(str(column)+ \" Counts\\n\" +str(newdf[column].value_counts()) + \"\\n\")"
   ]
  },
  {
   "cell_type": "markdown",
   "metadata": {
    "deletable": true,
    "editable": true
   },
   "source": [
    "Plotting Graph Basic Requirements 3"
   ]
  },
  {
   "cell_type": "code",
   "execution_count": null,
   "metadata": {
    "collapsed": false,
    "deletable": true,
    "editable": true
   },
   "outputs": [],
   "source": [
    "# Number of Records per region\n",
    "plotting.plot_bar_group(\n",
    "        newdf,\n",
    "        'Region',\n",
    "        'Frequencies of Resident Regions in 2011 Census',\n",
    "        'Region',\n",
    "        'Frequency',\n",
    "    )\n",
    "\n",
    "plt.tight_layout()\n",
    "plt.show()"
   ]
  },
  {
   "cell_type": "code",
   "execution_count": null,
   "metadata": {
    "collapsed": false,
    "deletable": true,
    "editable": true
   },
   "outputs": [],
   "source": [
    "# Number of records per occupation\n",
    "plotting.plot_bar_group(\n",
    "        newdf,\n",
    "        'Occupation',\n",
    "        'Frequencies of Resident Occupations in 2011 Census',\n",
    "        'Occupation',\n",
    "        'Frequency',\n",
    "    )\n",
    "\n",
    "plt.tight_layout()\n",
    "plt.show()"
   ]
  },
  {
   "cell_type": "code",
   "execution_count": null,
   "metadata": {
    "collapsed": false,
    "deletable": true,
    "editable": true
   },
   "outputs": [],
   "source": [
    "#Pie Chart for Distrubition of the sample by age\n",
    "plotting.plot_pie_group(\n",
    "        newdf,\n",
    "        'Age',\n",
    "        'Proportions of Resident Ages in 2011 Census',\n",
    "    )\n",
    "\n",
    "plt.tight_layout()\n",
    "plt.show()"
   ]
  },
  {
   "cell_type": "code",
   "execution_count": null,
   "metadata": {
    "collapsed": false,
    "deletable": true,
    "editable": true
   },
   "outputs": [],
   "source": [
    "#Pie Chart for Distrubition of the sample by economic activity\n",
    "plotting.plot_pie_group(\n",
    "        newdf,\n",
    "        'Economic Activity',\n",
    "        'Proportions of Resident Economic Activity in 2011 Census',\n",
    "    )\n",
    "\n",
    "plt.tight_layout()\n",
    "plt.show()"
   ]
  },
  {
   "cell_type": "markdown",
   "metadata": {
    "deletable": true,
    "editable": true
   },
   "source": [
    "Easy Extension 1"
   ]
  },
  {
   "cell_type": "code",
   "execution_count": null,
   "metadata": {
    "collapsed": false,
    "deletable": true,
    "editable": true
   },
   "outputs": [],
   "source": [
    "#Easy Extension 1 part 1 Using crosstab\n",
    "dfeasy11 = pd.crosstab(newdf['Region'], newdf['Industry'])\n",
    "dfeasy11"
   ]
  },
  {
   "cell_type": "code",
   "execution_count": null,
   "metadata": {
    "collapsed": false,
    "deletable": true,
    "editable": true
   },
   "outputs": [],
   "source": [
    "#Easy Extension 1 part 2 using crosstab\n",
    "dfeasy12 = pd.crosstab(newdf['Occupation'], newdf['Approximated Social Grade'])\n",
    "dfeasy12"
   ]
  },
  {
   "cell_type": "code",
   "execution_count": null,
   "metadata": {
    "collapsed": false,
    "deletable": true,
    "editable": true
   },
   "outputs": [],
   "source": [
    "#Easy 1 part 1 using GroupBy\n",
    "easy11 = newdf.groupby(['Region','Industry'])['Person ID'].count()\n",
    "easy11 = pd.Series.to_frame(easy11)\n",
    "easy11.columns.values[0] = 'Counts'\n",
    "easy11"
   ]
  },
  {
   "cell_type": "code",
   "execution_count": null,
   "metadata": {
    "collapsed": false,
    "deletable": true,
    "editable": true
   },
   "outputs": [],
   "source": [
    "#Easy 1 part 2 using GroupBy\n",
    "easy12 = newdf.groupby(['Occupation','Approximated Social Grade'])['Person ID'].count()\n",
    "easy12 = pd.Series.to_frame(easy12)\n",
    "easy12.columns.values[0] = 'Counts'\n",
    "easy12"
   ]
  },
  {
   "cell_type": "markdown",
   "metadata": {
    "deletable": true,
    "editable": true
   },
   "source": [
    "Easy Extension 2 Parts 1 and 2 -Part 3 was filtered in the Dataset to begin with"
   ]
  },
  {
   "cell_type": "code",
   "execution_count": null,
   "metadata": {
    "collapsed": false,
    "deletable": true,
    "editable": true
   },
   "outputs": [],
   "source": [
    "#Filtering the Dataset to be economic code from 1-4\n",
    "ea = df[df[\"Economic Activity\"].isin(range(1, 5))]\n",
    "for field in ea:\n",
    "    ea[field] = ea[field].apply(lambda value: utils.data_translation(field,value))"
   ]
  },
  {
   "cell_type": "code",
   "execution_count": null,
   "metadata": {
    "collapsed": false,
    "deletable": true,
    "editable": true
   },
   "outputs": [],
   "source": [
    "# Easy 2 Part 1 using CrossTab\n",
    "easy21 = pd.crosstab(index = (ea)['Region'], columns = 'count')\n",
    "easy21 = easy21.sort_values(['count'],ascending = 0)\n",
    "easy21"
   ]
  },
  {
   "cell_type": "code",
   "execution_count": null,
   "metadata": {
    "collapsed": false,
    "deletable": true,
    "editable": true
   },
   "outputs": [],
   "source": [
    "# Easy 2 Part 2 using CrossTab\n",
    "easy22 = pd.crosstab(index = (ea)['Age'], columns = 'count')\n",
    "easy22 = easy22.sort_values(['count'],ascending = 0)\n",
    "easy22"
   ]
  },
  {
   "cell_type": "code",
   "execution_count": null,
   "metadata": {
    "collapsed": true,
    "deletable": true,
    "editable": true
   },
   "outputs": [],
   "source": []
  },
  {
   "cell_type": "markdown",
   "metadata": {},
   "source": [
    "ipywidgets "
   ]
  },
  {
   "cell_type": "code",
   "execution_count": 70,
   "metadata": {
    "collapsed": false
   },
   "outputs": [
    {
     "data": {
      "text/plain": [
       "<function __main__.industryfunc>"
      ]
     },
     "execution_count": 70,
     "metadata": {},
     "output_type": "execute_result"
    },
    {
     "data": {
      "image/png": "[encoded data removed]",
      "text/plain": [
       "<matplotlib.figure.Figure at 0x11a36b4e0>"
      ]
     },
     "metadata": {
      "image/png": {
       "height": 908,
       "width": 999
      }
     },
     "output_type": "display_data"
    }
   ],
   "source": [
    "def industryfunc(Region,Age):\n",
    "    temp = newdf[(newdf['Region'] == Region) & (newdf['Age'] == Age)]\n",
    "    name = \"Industry count of ages \" + Age +\" in \" + Region\n",
    "    plt.figure(figsize=(10, 10))\n",
    "    plotting.plot_bar_group_count(\n",
    "        temp, \n",
    "        'Industry', \n",
    "        name,\n",
    "        wrap_chars = 20\n",
    "    )\n",
    "regionvalues = newdf.Region.unique()\n",
    "regionvalues = regionvalues.tolist()\n",
    "\n",
    "agevalues = newdf.Age.unique()\n",
    "agevalues = agevalues.tolist()\n",
    "\n",
    "interact(industryfunc, Region=regionvalues,Age=(agevalues))"
   ]
  },
  {
   "cell_type": "markdown",
   "metadata": {},
   "source": [
    "Extension analysis of the dataset"
   ]
  },
  {
   "cell_type": "code",
   "execution_count": 72,
   "metadata": {
    "collapsed": true
   },
   "outputs": [],
   "source": [
    "IPLData = getdata.getData()"
   ]
  },
  {
   "cell_type": "code",
   "execution_count": 73,
   "metadata": {
    "collapsed": false
   },
   "outputs": [
    {
     "data": {
      "text/html": [
       "<div>\n",
       "<table border=\"1\" class=\"dataframe\">\n",
       "  <thead>\n",
       "    <tr style=\"text-align: right;\">\n",
       "      <th></th>\n",
       "      <th>Match Number</th>\n",
       "      <th>Winner</th>\n",
       "      <th>Venue</th>\n",
       "      <th>Innings</th>\n",
       "      <th>Bowling Team</th>\n",
       "      <th>Ball No.</th>\n",
       "      <th>Batting Team</th>\n",
       "      <th>Striker</th>\n",
       "      <th>Non - Striker</th>\n",
       "      <th>Bowler</th>\n",
       "      <th>Runs</th>\n",
       "      <th>Extras</th>\n",
       "      <th>How Out</th>\n",
       "      <th>Batsman Out</th>\n",
       "    </tr>\n",
       "  </thead>\n",
       "  <tbody>\n",
       "    <tr>\n",
       "      <th>0</th>\n",
       "      <td>1</td>\n",
       "      <td>Rising Pune Supergiants</td>\n",
       "      <td>Wankhede Stadium</td>\n",
       "      <td>1</td>\n",
       "      <td>Rising Pune Supergiants</td>\n",
       "      <td>0.1</td>\n",
       "      <td>Mumbai Indians</td>\n",
       "      <td>LMP Simmons</td>\n",
       "      <td>RG Sharma</td>\n",
       "      <td>RP Singh</td>\n",
       "      <td>1</td>\n",
       "      <td>0</td>\n",
       "      <td>-</td>\n",
       "      <td>-</td>\n",
       "    </tr>\n",
       "    <tr>\n",
       "      <th>1</th>\n",
       "      <td>1</td>\n",
       "      <td>Rising Pune Supergiants</td>\n",
       "      <td>Wankhede Stadium</td>\n",
       "      <td>1</td>\n",
       "      <td>Rising Pune Supergiants</td>\n",
       "      <td>0.2</td>\n",
       "      <td>Mumbai Indians</td>\n",
       "      <td>RG Sharma</td>\n",
       "      <td>LMP Simmons</td>\n",
       "      <td>RP Singh</td>\n",
       "      <td>0</td>\n",
       "      <td>0</td>\n",
       "      <td>-</td>\n",
       "      <td>-</td>\n",
       "    </tr>\n",
       "    <tr>\n",
       "      <th>2</th>\n",
       "      <td>1</td>\n",
       "      <td>Rising Pune Supergiants</td>\n",
       "      <td>Wankhede Stadium</td>\n",
       "      <td>1</td>\n",
       "      <td>Rising Pune Supergiants</td>\n",
       "      <td>0.3</td>\n",
       "      <td>Mumbai Indians</td>\n",
       "      <td>RG Sharma</td>\n",
       "      <td>LMP Simmons</td>\n",
       "      <td>RP Singh</td>\n",
       "      <td>2</td>\n",
       "      <td>0</td>\n",
       "      <td>-</td>\n",
       "      <td>-</td>\n",
       "    </tr>\n",
       "    <tr>\n",
       "      <th>3</th>\n",
       "      <td>1</td>\n",
       "      <td>Rising Pune Supergiants</td>\n",
       "      <td>Wankhede Stadium</td>\n",
       "      <td>1</td>\n",
       "      <td>Rising Pune Supergiants</td>\n",
       "      <td>0.4</td>\n",
       "      <td>Mumbai Indians</td>\n",
       "      <td>RG Sharma</td>\n",
       "      <td>LMP Simmons</td>\n",
       "      <td>RP Singh</td>\n",
       "      <td>4</td>\n",
       "      <td>0</td>\n",
       "      <td>-</td>\n",
       "      <td>-</td>\n",
       "    </tr>\n",
       "    <tr>\n",
       "      <th>4</th>\n",
       "      <td>1</td>\n",
       "      <td>Rising Pune Supergiants</td>\n",
       "      <td>Wankhede Stadium</td>\n",
       "      <td>1</td>\n",
       "      <td>Rising Pune Supergiants</td>\n",
       "      <td>0.5</td>\n",
       "      <td>Mumbai Indians</td>\n",
       "      <td>RG Sharma</td>\n",
       "      <td>LMP Simmons</td>\n",
       "      <td>RP Singh</td>\n",
       "      <td>1</td>\n",
       "      <td>0</td>\n",
       "      <td>-</td>\n",
       "      <td>-</td>\n",
       "    </tr>\n",
       "    <tr>\n",
       "      <th>5</th>\n",
       "      <td>1</td>\n",
       "      <td>Rising Pune Supergiants</td>\n",
       "      <td>Wankhede Stadium</td>\n",
       "      <td>1</td>\n",
       "      <td>Rising Pune Supergiants</td>\n",
       "      <td>0.6</td>\n",
       "      <td>Mumbai Indians</td>\n",
       "      <td>LMP Simmons</td>\n",
       "      <td>RG Sharma</td>\n",
       "      <td>RP Singh</td>\n",
       "      <td>0</td>\n",
       "      <td>0</td>\n",
       "      <td>-</td>\n",
       "      <td>-</td>\n",
       "    </tr>\n",
       "    <tr>\n",
       "      <th>6</th>\n",
       "      <td>1</td>\n",
       "      <td>Rising Pune Supergiants</td>\n",
       "      <td>Wankhede Stadium</td>\n",
       "      <td>1</td>\n",
       "      <td>Rising Pune Supergiants</td>\n",
       "      <td>1.1</td>\n",
       "      <td>Mumbai Indians</td>\n",
       "      <td>RG Sharma</td>\n",
       "      <td>LMP Simmons</td>\n",
       "      <td>I Sharma</td>\n",
       "      <td>0</td>\n",
       "      <td>0</td>\n",
       "      <td>lbw</td>\n",
       "      <td>RG Sharma</td>\n",
       "    </tr>\n",
       "    <tr>\n",
       "      <th>7</th>\n",
       "      <td>1</td>\n",
       "      <td>Rising Pune Supergiants</td>\n",
       "      <td>Wankhede Stadium</td>\n",
       "      <td>1</td>\n",
       "      <td>Rising Pune Supergiants</td>\n",
       "      <td>1.2</td>\n",
       "      <td>Mumbai Indians</td>\n",
       "      <td>HH Pandya</td>\n",
       "      <td>LMP Simmons</td>\n",
       "      <td>I Sharma</td>\n",
       "      <td>0</td>\n",
       "      <td>3</td>\n",
       "      <td>-</td>\n",
       "      <td>-</td>\n",
       "    </tr>\n",
       "    <tr>\n",
       "      <th>8</th>\n",
       "      <td>1</td>\n",
       "      <td>Rising Pune Supergiants</td>\n",
       "      <td>Wankhede Stadium</td>\n",
       "      <td>1</td>\n",
       "      <td>Rising Pune Supergiants</td>\n",
       "      <td>1.3</td>\n",
       "      <td>Mumbai Indians</td>\n",
       "      <td>HH Pandya</td>\n",
       "      <td>LMP Simmons</td>\n",
       "      <td>I Sharma</td>\n",
       "      <td>0</td>\n",
       "      <td>0</td>\n",
       "      <td>-</td>\n",
       "      <td>-</td>\n",
       "    </tr>\n",
       "    <tr>\n",
       "      <th>9</th>\n",
       "      <td>1</td>\n",
       "      <td>Rising Pune Supergiants</td>\n",
       "      <td>Wankhede Stadium</td>\n",
       "      <td>1</td>\n",
       "      <td>Rising Pune Supergiants</td>\n",
       "      <td>1.4</td>\n",
       "      <td>Mumbai Indians</td>\n",
       "      <td>HH Pandya</td>\n",
       "      <td>LMP Simmons</td>\n",
       "      <td>I Sharma</td>\n",
       "      <td>0</td>\n",
       "      <td>0</td>\n",
       "      <td>-</td>\n",
       "      <td>-</td>\n",
       "    </tr>\n",
       "    <tr>\n",
       "      <th>10</th>\n",
       "      <td>1</td>\n",
       "      <td>Rising Pune Supergiants</td>\n",
       "      <td>Wankhede Stadium</td>\n",
       "      <td>1</td>\n",
       "      <td>Rising Pune Supergiants</td>\n",
       "      <td>1.5</td>\n",
       "      <td>Mumbai Indians</td>\n",
       "      <td>HH Pandya</td>\n",
       "      <td>LMP Simmons</td>\n",
       "      <td>I Sharma</td>\n",
       "      <td>0</td>\n",
       "      <td>0</td>\n",
       "      <td>-</td>\n",
       "      <td>-</td>\n",
       "    </tr>\n",
       "    <tr>\n",
       "      <th>11</th>\n",
       "      <td>1</td>\n",
       "      <td>Rising Pune Supergiants</td>\n",
       "      <td>Wankhede Stadium</td>\n",
       "      <td>1</td>\n",
       "      <td>Rising Pune Supergiants</td>\n",
       "      <td>1.6</td>\n",
       "      <td>Mumbai Indians</td>\n",
       "      <td>HH Pandya</td>\n",
       "      <td>LMP Simmons</td>\n",
       "      <td>I Sharma</td>\n",
       "      <td>0</td>\n",
       "      <td>1</td>\n",
       "      <td>-</td>\n",
       "      <td>-</td>\n",
       "    </tr>\n",
       "    <tr>\n",
       "      <th>12</th>\n",
       "      <td>1</td>\n",
       "      <td>Rising Pune Supergiants</td>\n",
       "      <td>Wankhede Stadium</td>\n",
       "      <td>1</td>\n",
       "      <td>Rising Pune Supergiants</td>\n",
       "      <td>1.7</td>\n",
       "      <td>Mumbai Indians</td>\n",
       "      <td>HH Pandya</td>\n",
       "      <td>LMP Simmons</td>\n",
       "      <td>I Sharma</td>\n",
       "      <td>0</td>\n",
       "      <td>0</td>\n",
       "      <td>-</td>\n",
       "      <td>-</td>\n",
       "    </tr>\n",
       "    <tr>\n",
       "      <th>13</th>\n",
       "      <td>1</td>\n",
       "      <td>Rising Pune Supergiants</td>\n",
       "      <td>Wankhede Stadium</td>\n",
       "      <td>1</td>\n",
       "      <td>Rising Pune Supergiants</td>\n",
       "      <td>1.8</td>\n",
       "      <td>Mumbai Indians</td>\n",
       "      <td>HH Pandya</td>\n",
       "      <td>LMP Simmons</td>\n",
       "      <td>I Sharma</td>\n",
       "      <td>0</td>\n",
       "      <td>0</td>\n",
       "      <td>-</td>\n",
       "      <td>-</td>\n",
       "    </tr>\n",
       "    <tr>\n",
       "      <th>14</th>\n",
       "      <td>1</td>\n",
       "      <td>Rising Pune Supergiants</td>\n",
       "      <td>Wankhede Stadium</td>\n",
       "      <td>1</td>\n",
       "      <td>Rising Pune Supergiants</td>\n",
       "      <td>2.1</td>\n",
       "      <td>Mumbai Indians</td>\n",
       "      <td>LMP Simmons</td>\n",
       "      <td>HH Pandya</td>\n",
       "      <td>RP Singh</td>\n",
       "      <td>0</td>\n",
       "      <td>0</td>\n",
       "      <td>-</td>\n",
       "      <td>-</td>\n",
       "    </tr>\n",
       "    <tr>\n",
       "      <th>15</th>\n",
       "      <td>1</td>\n",
       "      <td>Rising Pune Supergiants</td>\n",
       "      <td>Wankhede Stadium</td>\n",
       "      <td>1</td>\n",
       "      <td>Rising Pune Supergiants</td>\n",
       "      <td>2.2</td>\n",
       "      <td>Mumbai Indians</td>\n",
       "      <td>LMP Simmons</td>\n",
       "      <td>HH Pandya</td>\n",
       "      <td>RP Singh</td>\n",
       "      <td>6</td>\n",
       "      <td>0</td>\n",
       "      <td>-</td>\n",
       "      <td>-</td>\n",
       "    </tr>\n",
       "    <tr>\n",
       "      <th>16</th>\n",
       "      <td>1</td>\n",
       "      <td>Rising Pune Supergiants</td>\n",
       "      <td>Wankhede Stadium</td>\n",
       "      <td>1</td>\n",
       "      <td>Rising Pune Supergiants</td>\n",
       "      <td>2.3</td>\n",
       "      <td>Mumbai Indians</td>\n",
       "      <td>LMP Simmons</td>\n",
       "      <td>HH Pandya</td>\n",
       "      <td>RP Singh</td>\n",
       "      <td>1</td>\n",
       "      <td>0</td>\n",
       "      <td>-</td>\n",
       "      <td>-</td>\n",
       "    </tr>\n",
       "    <tr>\n",
       "      <th>17</th>\n",
       "      <td>1</td>\n",
       "      <td>Rising Pune Supergiants</td>\n",
       "      <td>Wankhede Stadium</td>\n",
       "      <td>1</td>\n",
       "      <td>Rising Pune Supergiants</td>\n",
       "      <td>2.4</td>\n",
       "      <td>Mumbai Indians</td>\n",
       "      <td>HH Pandya</td>\n",
       "      <td>LMP Simmons</td>\n",
       "      <td>RP Singh</td>\n",
       "      <td>1</td>\n",
       "      <td>0</td>\n",
       "      <td>-</td>\n",
       "      <td>-</td>\n",
       "    </tr>\n",
       "    <tr>\n",
       "      <th>18</th>\n",
       "      <td>1</td>\n",
       "      <td>Rising Pune Supergiants</td>\n",
       "      <td>Wankhede Stadium</td>\n",
       "      <td>1</td>\n",
       "      <td>Rising Pune Supergiants</td>\n",
       "      <td>2.5</td>\n",
       "      <td>Mumbai Indians</td>\n",
       "      <td>LMP Simmons</td>\n",
       "      <td>HH Pandya</td>\n",
       "      <td>RP Singh</td>\n",
       "      <td>0</td>\n",
       "      <td>0</td>\n",
       "      <td>-</td>\n",
       "      <td>-</td>\n",
       "    </tr>\n",
       "    <tr>\n",
       "      <th>19</th>\n",
       "      <td>1</td>\n",
       "      <td>Rising Pune Supergiants</td>\n",
       "      <td>Wankhede Stadium</td>\n",
       "      <td>1</td>\n",
       "      <td>Rising Pune Supergiants</td>\n",
       "      <td>2.6</td>\n",
       "      <td>Mumbai Indians</td>\n",
       "      <td>LMP Simmons</td>\n",
       "      <td>HH Pandya</td>\n",
       "      <td>RP Singh</td>\n",
       "      <td>0</td>\n",
       "      <td>0</td>\n",
       "      <td>-</td>\n",
       "      <td>-</td>\n",
       "    </tr>\n",
       "    <tr>\n",
       "      <th>20</th>\n",
       "      <td>1</td>\n",
       "      <td>Rising Pune Supergiants</td>\n",
       "      <td>Wankhede Stadium</td>\n",
       "      <td>1</td>\n",
       "      <td>Rising Pune Supergiants</td>\n",
       "      <td>3.1</td>\n",
       "      <td>Mumbai Indians</td>\n",
       "      <td>HH Pandya</td>\n",
       "      <td>LMP Simmons</td>\n",
       "      <td>I Sharma</td>\n",
       "      <td>4</td>\n",
       "      <td>0</td>\n",
       "      <td>-</td>\n",
       "      <td>-</td>\n",
       "    </tr>\n",
       "    <tr>\n",
       "      <th>21</th>\n",
       "      <td>1</td>\n",
       "      <td>Rising Pune Supergiants</td>\n",
       "      <td>Wankhede Stadium</td>\n",
       "      <td>1</td>\n",
       "      <td>Rising Pune Supergiants</td>\n",
       "      <td>3.2</td>\n",
       "      <td>Mumbai Indians</td>\n",
       "      <td>HH Pandya</td>\n",
       "      <td>LMP Simmons</td>\n",
       "      <td>I Sharma</td>\n",
       "      <td>4</td>\n",
       "      <td>0</td>\n",
       "      <td>-</td>\n",
       "      <td>-</td>\n",
       "    </tr>\n",
       "    <tr>\n",
       "      <th>22</th>\n",
       "      <td>1</td>\n",
       "      <td>Rising Pune Supergiants</td>\n",
       "      <td>Wankhede Stadium</td>\n",
       "      <td>1</td>\n",
       "      <td>Rising Pune Supergiants</td>\n",
       "      <td>3.3</td>\n",
       "      <td>Mumbai Indians</td>\n",
       "      <td>HH Pandya</td>\n",
       "      <td>LMP Simmons</td>\n",
       "      <td>I Sharma</td>\n",
       "      <td>0</td>\n",
       "      <td>0</td>\n",
       "      <td>-</td>\n",
       "      <td>-</td>\n",
       "    </tr>\n",
       "    <tr>\n",
       "      <th>23</th>\n",
       "      <td>1</td>\n",
       "      <td>Rising Pune Supergiants</td>\n",
       "      <td>Wankhede Stadium</td>\n",
       "      <td>1</td>\n",
       "      <td>Rising Pune Supergiants</td>\n",
       "      <td>3.4</td>\n",
       "      <td>Mumbai Indians</td>\n",
       "      <td>HH Pandya</td>\n",
       "      <td>LMP Simmons</td>\n",
       "      <td>I Sharma</td>\n",
       "      <td>0</td>\n",
       "      <td>1</td>\n",
       "      <td>-</td>\n",
       "      <td>-</td>\n",
       "    </tr>\n",
       "    <tr>\n",
       "      <th>24</th>\n",
       "      <td>1</td>\n",
       "      <td>Rising Pune Supergiants</td>\n",
       "      <td>Wankhede Stadium</td>\n",
       "      <td>1</td>\n",
       "      <td>Rising Pune Supergiants</td>\n",
       "      <td>3.5</td>\n",
       "      <td>Mumbai Indians</td>\n",
       "      <td>LMP Simmons</td>\n",
       "      <td>HH Pandya</td>\n",
       "      <td>I Sharma</td>\n",
       "      <td>0</td>\n",
       "      <td>0</td>\n",
       "      <td>bowled</td>\n",
       "      <td>LMP Simmons</td>\n",
       "    </tr>\n",
       "    <tr>\n",
       "      <th>25</th>\n",
       "      <td>1</td>\n",
       "      <td>Rising Pune Supergiants</td>\n",
       "      <td>Wankhede Stadium</td>\n",
       "      <td>1</td>\n",
       "      <td>Rising Pune Supergiants</td>\n",
       "      <td>3.6</td>\n",
       "      <td>Mumbai Indians</td>\n",
       "      <td>JC Buttler</td>\n",
       "      <td>HH Pandya</td>\n",
       "      <td>I Sharma</td>\n",
       "      <td>0</td>\n",
       "      <td>0</td>\n",
       "      <td>-</td>\n",
       "      <td>-</td>\n",
       "    </tr>\n",
       "    <tr>\n",
       "      <th>26</th>\n",
       "      <td>1</td>\n",
       "      <td>Rising Pune Supergiants</td>\n",
       "      <td>Wankhede Stadium</td>\n",
       "      <td>1</td>\n",
       "      <td>Rising Pune Supergiants</td>\n",
       "      <td>4.1</td>\n",
       "      <td>Mumbai Indians</td>\n",
       "      <td>HH Pandya</td>\n",
       "      <td>JC Buttler</td>\n",
       "      <td>MR Marsh</td>\n",
       "      <td>0</td>\n",
       "      <td>0</td>\n",
       "      <td>caught</td>\n",
       "      <td>HH Pandya</td>\n",
       "    </tr>\n",
       "    <tr>\n",
       "      <th>27</th>\n",
       "      <td>1</td>\n",
       "      <td>Rising Pune Supergiants</td>\n",
       "      <td>Wankhede Stadium</td>\n",
       "      <td>1</td>\n",
       "      <td>Rising Pune Supergiants</td>\n",
       "      <td>4.2</td>\n",
       "      <td>Mumbai Indians</td>\n",
       "      <td>AT Rayudu</td>\n",
       "      <td>JC Buttler</td>\n",
       "      <td>MR Marsh</td>\n",
       "      <td>0</td>\n",
       "      <td>0</td>\n",
       "      <td>-</td>\n",
       "      <td>-</td>\n",
       "    </tr>\n",
       "    <tr>\n",
       "      <th>28</th>\n",
       "      <td>1</td>\n",
       "      <td>Rising Pune Supergiants</td>\n",
       "      <td>Wankhede Stadium</td>\n",
       "      <td>1</td>\n",
       "      <td>Rising Pune Supergiants</td>\n",
       "      <td>4.3</td>\n",
       "      <td>Mumbai Indians</td>\n",
       "      <td>AT Rayudu</td>\n",
       "      <td>JC Buttler</td>\n",
       "      <td>MR Marsh</td>\n",
       "      <td>0</td>\n",
       "      <td>0</td>\n",
       "      <td>-</td>\n",
       "      <td>-</td>\n",
       "    </tr>\n",
       "    <tr>\n",
       "      <th>29</th>\n",
       "      <td>1</td>\n",
       "      <td>Rising Pune Supergiants</td>\n",
       "      <td>Wankhede Stadium</td>\n",
       "      <td>1</td>\n",
       "      <td>Rising Pune Supergiants</td>\n",
       "      <td>4.4</td>\n",
       "      <td>Mumbai Indians</td>\n",
       "      <td>AT Rayudu</td>\n",
       "      <td>JC Buttler</td>\n",
       "      <td>MR Marsh</td>\n",
       "      <td>0</td>\n",
       "      <td>0</td>\n",
       "      <td>-</td>\n",
       "      <td>-</td>\n",
       "    </tr>\n",
       "    <tr>\n",
       "      <th>...</th>\n",
       "      <td>...</td>\n",
       "      <td>...</td>\n",
       "      <td>...</td>\n",
       "      <td>...</td>\n",
       "      <td>...</td>\n",
       "      <td>...</td>\n",
       "      <td>...</td>\n",
       "      <td>...</td>\n",
       "      <td>...</td>\n",
       "      <td>...</td>\n",
       "      <td>...</td>\n",
       "      <td>...</td>\n",
       "      <td>...</td>\n",
       "      <td>...</td>\n",
       "    </tr>\n",
       "    <tr>\n",
       "      <th>2048</th>\n",
       "      <td>9</td>\n",
       "      <td>Gujarat Lions</td>\n",
       "      <td>Wankhede Stadium</td>\n",
       "      <td>2</td>\n",
       "      <td>Mumbai Indians</td>\n",
       "      <td>15.2</td>\n",
       "      <td>Gujarat Lions</td>\n",
       "      <td>AD Nath</td>\n",
       "      <td>AJ Finch</td>\n",
       "      <td>Harbhajan Singh</td>\n",
       "      <td>0</td>\n",
       "      <td>0</td>\n",
       "      <td>-</td>\n",
       "      <td>-</td>\n",
       "    </tr>\n",
       "    <tr>\n",
       "      <th>2049</th>\n",
       "      <td>9</td>\n",
       "      <td>Gujarat Lions</td>\n",
       "      <td>Wankhede Stadium</td>\n",
       "      <td>2</td>\n",
       "      <td>Mumbai Indians</td>\n",
       "      <td>15.3</td>\n",
       "      <td>Gujarat Lions</td>\n",
       "      <td>AD Nath</td>\n",
       "      <td>AJ Finch</td>\n",
       "      <td>Harbhajan Singh</td>\n",
       "      <td>1</td>\n",
       "      <td>0</td>\n",
       "      <td>-</td>\n",
       "      <td>-</td>\n",
       "    </tr>\n",
       "    <tr>\n",
       "      <th>2050</th>\n",
       "      <td>9</td>\n",
       "      <td>Gujarat Lions</td>\n",
       "      <td>Wankhede Stadium</td>\n",
       "      <td>2</td>\n",
       "      <td>Mumbai Indians</td>\n",
       "      <td>15.4</td>\n",
       "      <td>Gujarat Lions</td>\n",
       "      <td>AJ Finch</td>\n",
       "      <td>AD Nath</td>\n",
       "      <td>Harbhajan Singh</td>\n",
       "      <td>0</td>\n",
       "      <td>0</td>\n",
       "      <td>-</td>\n",
       "      <td>-</td>\n",
       "    </tr>\n",
       "    <tr>\n",
       "      <th>2051</th>\n",
       "      <td>9</td>\n",
       "      <td>Gujarat Lions</td>\n",
       "      <td>Wankhede Stadium</td>\n",
       "      <td>2</td>\n",
       "      <td>Mumbai Indians</td>\n",
       "      <td>15.5</td>\n",
       "      <td>Gujarat Lions</td>\n",
       "      <td>AJ Finch</td>\n",
       "      <td>AD Nath</td>\n",
       "      <td>Harbhajan Singh</td>\n",
       "      <td>2</td>\n",
       "      <td>0</td>\n",
       "      <td>-</td>\n",
       "      <td>-</td>\n",
       "    </tr>\n",
       "    <tr>\n",
       "      <th>2052</th>\n",
       "      <td>9</td>\n",
       "      <td>Gujarat Lions</td>\n",
       "      <td>Wankhede Stadium</td>\n",
       "      <td>2</td>\n",
       "      <td>Mumbai Indians</td>\n",
       "      <td>15.6</td>\n",
       "      <td>Gujarat Lions</td>\n",
       "      <td>AJ Finch</td>\n",
       "      <td>AD Nath</td>\n",
       "      <td>Harbhajan Singh</td>\n",
       "      <td>6</td>\n",
       "      <td>0</td>\n",
       "      <td>-</td>\n",
       "      <td>-</td>\n",
       "    </tr>\n",
       "    <tr>\n",
       "      <th>2053</th>\n",
       "      <td>9</td>\n",
       "      <td>Gujarat Lions</td>\n",
       "      <td>Wankhede Stadium</td>\n",
       "      <td>2</td>\n",
       "      <td>Mumbai Indians</td>\n",
       "      <td>16.1</td>\n",
       "      <td>Gujarat Lions</td>\n",
       "      <td>AD Nath</td>\n",
       "      <td>AJ Finch</td>\n",
       "      <td>MJ McClenaghan</td>\n",
       "      <td>0</td>\n",
       "      <td>0</td>\n",
       "      <td>caught</td>\n",
       "      <td>AD Nath</td>\n",
       "    </tr>\n",
       "    <tr>\n",
       "      <th>2054</th>\n",
       "      <td>9</td>\n",
       "      <td>Gujarat Lions</td>\n",
       "      <td>Wankhede Stadium</td>\n",
       "      <td>2</td>\n",
       "      <td>Mumbai Indians</td>\n",
       "      <td>16.2</td>\n",
       "      <td>Gujarat Lions</td>\n",
       "      <td>AJ Finch</td>\n",
       "      <td>JP Faulkner</td>\n",
       "      <td>MJ McClenaghan</td>\n",
       "      <td>0</td>\n",
       "      <td>4</td>\n",
       "      <td>-</td>\n",
       "      <td>-</td>\n",
       "    </tr>\n",
       "    <tr>\n",
       "      <th>2055</th>\n",
       "      <td>9</td>\n",
       "      <td>Gujarat Lions</td>\n",
       "      <td>Wankhede Stadium</td>\n",
       "      <td>2</td>\n",
       "      <td>Mumbai Indians</td>\n",
       "      <td>16.3</td>\n",
       "      <td>Gujarat Lions</td>\n",
       "      <td>AJ Finch</td>\n",
       "      <td>JP Faulkner</td>\n",
       "      <td>MJ McClenaghan</td>\n",
       "      <td>1</td>\n",
       "      <td>0</td>\n",
       "      <td>-</td>\n",
       "      <td>-</td>\n",
       "    </tr>\n",
       "    <tr>\n",
       "      <th>2056</th>\n",
       "      <td>9</td>\n",
       "      <td>Gujarat Lions</td>\n",
       "      <td>Wankhede Stadium</td>\n",
       "      <td>2</td>\n",
       "      <td>Mumbai Indians</td>\n",
       "      <td>16.4</td>\n",
       "      <td>Gujarat Lions</td>\n",
       "      <td>JP Faulkner</td>\n",
       "      <td>AJ Finch</td>\n",
       "      <td>MJ McClenaghan</td>\n",
       "      <td>1</td>\n",
       "      <td>0</td>\n",
       "      <td>-</td>\n",
       "      <td>-</td>\n",
       "    </tr>\n",
       "    <tr>\n",
       "      <th>2057</th>\n",
       "      <td>9</td>\n",
       "      <td>Gujarat Lions</td>\n",
       "      <td>Wankhede Stadium</td>\n",
       "      <td>2</td>\n",
       "      <td>Mumbai Indians</td>\n",
       "      <td>16.5</td>\n",
       "      <td>Gujarat Lions</td>\n",
       "      <td>AJ Finch</td>\n",
       "      <td>JP Faulkner</td>\n",
       "      <td>MJ McClenaghan</td>\n",
       "      <td>4</td>\n",
       "      <td>0</td>\n",
       "      <td>-</td>\n",
       "      <td>-</td>\n",
       "    </tr>\n",
       "    <tr>\n",
       "      <th>2058</th>\n",
       "      <td>9</td>\n",
       "      <td>Gujarat Lions</td>\n",
       "      <td>Wankhede Stadium</td>\n",
       "      <td>2</td>\n",
       "      <td>Mumbai Indians</td>\n",
       "      <td>16.6</td>\n",
       "      <td>Gujarat Lions</td>\n",
       "      <td>AJ Finch</td>\n",
       "      <td>JP Faulkner</td>\n",
       "      <td>MJ McClenaghan</td>\n",
       "      <td>2</td>\n",
       "      <td>0</td>\n",
       "      <td>-</td>\n",
       "      <td>-</td>\n",
       "    </tr>\n",
       "    <tr>\n",
       "      <th>2059</th>\n",
       "      <td>9</td>\n",
       "      <td>Gujarat Lions</td>\n",
       "      <td>Wankhede Stadium</td>\n",
       "      <td>2</td>\n",
       "      <td>Mumbai Indians</td>\n",
       "      <td>17.1</td>\n",
       "      <td>Gujarat Lions</td>\n",
       "      <td>JP Faulkner</td>\n",
       "      <td>AJ Finch</td>\n",
       "      <td>JJ Bumrah</td>\n",
       "      <td>0</td>\n",
       "      <td>0</td>\n",
       "      <td>-</td>\n",
       "      <td>-</td>\n",
       "    </tr>\n",
       "    <tr>\n",
       "      <th>2060</th>\n",
       "      <td>9</td>\n",
       "      <td>Gujarat Lions</td>\n",
       "      <td>Wankhede Stadium</td>\n",
       "      <td>2</td>\n",
       "      <td>Mumbai Indians</td>\n",
       "      <td>17.2</td>\n",
       "      <td>Gujarat Lions</td>\n",
       "      <td>JP Faulkner</td>\n",
       "      <td>AJ Finch</td>\n",
       "      <td>JJ Bumrah</td>\n",
       "      <td>1</td>\n",
       "      <td>0</td>\n",
       "      <td>-</td>\n",
       "      <td>-</td>\n",
       "    </tr>\n",
       "    <tr>\n",
       "      <th>2061</th>\n",
       "      <td>9</td>\n",
       "      <td>Gujarat Lions</td>\n",
       "      <td>Wankhede Stadium</td>\n",
       "      <td>2</td>\n",
       "      <td>Mumbai Indians</td>\n",
       "      <td>17.3</td>\n",
       "      <td>Gujarat Lions</td>\n",
       "      <td>AJ Finch</td>\n",
       "      <td>JP Faulkner</td>\n",
       "      <td>JJ Bumrah</td>\n",
       "      <td>1</td>\n",
       "      <td>0</td>\n",
       "      <td>-</td>\n",
       "      <td>-</td>\n",
       "    </tr>\n",
       "    <tr>\n",
       "      <th>2062</th>\n",
       "      <td>9</td>\n",
       "      <td>Gujarat Lions</td>\n",
       "      <td>Wankhede Stadium</td>\n",
       "      <td>2</td>\n",
       "      <td>Mumbai Indians</td>\n",
       "      <td>17.4</td>\n",
       "      <td>Gujarat Lions</td>\n",
       "      <td>JP Faulkner</td>\n",
       "      <td>AJ Finch</td>\n",
       "      <td>JJ Bumrah</td>\n",
       "      <td>0</td>\n",
       "      <td>1</td>\n",
       "      <td>-</td>\n",
       "      <td>-</td>\n",
       "    </tr>\n",
       "    <tr>\n",
       "      <th>2063</th>\n",
       "      <td>9</td>\n",
       "      <td>Gujarat Lions</td>\n",
       "      <td>Wankhede Stadium</td>\n",
       "      <td>2</td>\n",
       "      <td>Mumbai Indians</td>\n",
       "      <td>17.5</td>\n",
       "      <td>Gujarat Lions</td>\n",
       "      <td>JP Faulkner</td>\n",
       "      <td>AJ Finch</td>\n",
       "      <td>JJ Bumrah</td>\n",
       "      <td>4</td>\n",
       "      <td>0</td>\n",
       "      <td>-</td>\n",
       "      <td>-</td>\n",
       "    </tr>\n",
       "    <tr>\n",
       "      <th>2064</th>\n",
       "      <td>9</td>\n",
       "      <td>Gujarat Lions</td>\n",
       "      <td>Wankhede Stadium</td>\n",
       "      <td>2</td>\n",
       "      <td>Mumbai Indians</td>\n",
       "      <td>17.6</td>\n",
       "      <td>Gujarat Lions</td>\n",
       "      <td>JP Faulkner</td>\n",
       "      <td>AJ Finch</td>\n",
       "      <td>JJ Bumrah</td>\n",
       "      <td>1</td>\n",
       "      <td>0</td>\n",
       "      <td>-</td>\n",
       "      <td>-</td>\n",
       "    </tr>\n",
       "    <tr>\n",
       "      <th>2065</th>\n",
       "      <td>9</td>\n",
       "      <td>Gujarat Lions</td>\n",
       "      <td>Wankhede Stadium</td>\n",
       "      <td>2</td>\n",
       "      <td>Mumbai Indians</td>\n",
       "      <td>17.7</td>\n",
       "      <td>Gujarat Lions</td>\n",
       "      <td>AJ Finch</td>\n",
       "      <td>JP Faulkner</td>\n",
       "      <td>JJ Bumrah</td>\n",
       "      <td>2</td>\n",
       "      <td>0</td>\n",
       "      <td>-</td>\n",
       "      <td>-</td>\n",
       "    </tr>\n",
       "    <tr>\n",
       "      <th>2066</th>\n",
       "      <td>9</td>\n",
       "      <td>Gujarat Lions</td>\n",
       "      <td>Wankhede Stadium</td>\n",
       "      <td>2</td>\n",
       "      <td>Mumbai Indians</td>\n",
       "      <td>18.1</td>\n",
       "      <td>Gujarat Lions</td>\n",
       "      <td>JP Faulkner</td>\n",
       "      <td>AJ Finch</td>\n",
       "      <td>MJ McClenaghan</td>\n",
       "      <td>0</td>\n",
       "      <td>0</td>\n",
       "      <td>-</td>\n",
       "      <td>-</td>\n",
       "    </tr>\n",
       "    <tr>\n",
       "      <th>2067</th>\n",
       "      <td>9</td>\n",
       "      <td>Gujarat Lions</td>\n",
       "      <td>Wankhede Stadium</td>\n",
       "      <td>2</td>\n",
       "      <td>Mumbai Indians</td>\n",
       "      <td>18.2</td>\n",
       "      <td>Gujarat Lions</td>\n",
       "      <td>JP Faulkner</td>\n",
       "      <td>AJ Finch</td>\n",
       "      <td>MJ McClenaghan</td>\n",
       "      <td>0</td>\n",
       "      <td>0</td>\n",
       "      <td>caught</td>\n",
       "      <td>JP Faulkner</td>\n",
       "    </tr>\n",
       "    <tr>\n",
       "      <th>2068</th>\n",
       "      <td>9</td>\n",
       "      <td>Gujarat Lions</td>\n",
       "      <td>Wankhede Stadium</td>\n",
       "      <td>2</td>\n",
       "      <td>Mumbai Indians</td>\n",
       "      <td>18.3</td>\n",
       "      <td>Gujarat Lions</td>\n",
       "      <td>P Kumar</td>\n",
       "      <td>AJ Finch</td>\n",
       "      <td>MJ McClenaghan</td>\n",
       "      <td>0</td>\n",
       "      <td>0</td>\n",
       "      <td>-</td>\n",
       "      <td>-</td>\n",
       "    </tr>\n",
       "    <tr>\n",
       "      <th>2069</th>\n",
       "      <td>9</td>\n",
       "      <td>Gujarat Lions</td>\n",
       "      <td>Wankhede Stadium</td>\n",
       "      <td>2</td>\n",
       "      <td>Mumbai Indians</td>\n",
       "      <td>18.4</td>\n",
       "      <td>Gujarat Lions</td>\n",
       "      <td>P Kumar</td>\n",
       "      <td>AJ Finch</td>\n",
       "      <td>MJ McClenaghan</td>\n",
       "      <td>0</td>\n",
       "      <td>0</td>\n",
       "      <td>caught</td>\n",
       "      <td>P Kumar</td>\n",
       "    </tr>\n",
       "    <tr>\n",
       "      <th>2070</th>\n",
       "      <td>9</td>\n",
       "      <td>Gujarat Lions</td>\n",
       "      <td>Wankhede Stadium</td>\n",
       "      <td>2</td>\n",
       "      <td>Mumbai Indians</td>\n",
       "      <td>18.5</td>\n",
       "      <td>Gujarat Lions</td>\n",
       "      <td>DS Kulkarni</td>\n",
       "      <td>AJ Finch</td>\n",
       "      <td>MJ McClenaghan</td>\n",
       "      <td>1</td>\n",
       "      <td>0</td>\n",
       "      <td>-</td>\n",
       "      <td>-</td>\n",
       "    </tr>\n",
       "    <tr>\n",
       "      <th>2071</th>\n",
       "      <td>9</td>\n",
       "      <td>Gujarat Lions</td>\n",
       "      <td>Wankhede Stadium</td>\n",
       "      <td>2</td>\n",
       "      <td>Mumbai Indians</td>\n",
       "      <td>18.6</td>\n",
       "      <td>Gujarat Lions</td>\n",
       "      <td>AJ Finch</td>\n",
       "      <td>DS Kulkarni</td>\n",
       "      <td>MJ McClenaghan</td>\n",
       "      <td>1</td>\n",
       "      <td>0</td>\n",
       "      <td>-</td>\n",
       "      <td>-</td>\n",
       "    </tr>\n",
       "    <tr>\n",
       "      <th>2072</th>\n",
       "      <td>9</td>\n",
       "      <td>Gujarat Lions</td>\n",
       "      <td>Wankhede Stadium</td>\n",
       "      <td>2</td>\n",
       "      <td>Mumbai Indians</td>\n",
       "      <td>19.1</td>\n",
       "      <td>Gujarat Lions</td>\n",
       "      <td>AJ Finch</td>\n",
       "      <td>DS Kulkarni</td>\n",
       "      <td>JJ Bumrah</td>\n",
       "      <td>2</td>\n",
       "      <td>0</td>\n",
       "      <td>-</td>\n",
       "      <td>-</td>\n",
       "    </tr>\n",
       "    <tr>\n",
       "      <th>2073</th>\n",
       "      <td>9</td>\n",
       "      <td>Gujarat Lions</td>\n",
       "      <td>Wankhede Stadium</td>\n",
       "      <td>2</td>\n",
       "      <td>Mumbai Indians</td>\n",
       "      <td>19.2</td>\n",
       "      <td>Gujarat Lions</td>\n",
       "      <td>AJ Finch</td>\n",
       "      <td>DS Kulkarni</td>\n",
       "      <td>JJ Bumrah</td>\n",
       "      <td>1</td>\n",
       "      <td>0</td>\n",
       "      <td>-</td>\n",
       "      <td>-</td>\n",
       "    </tr>\n",
       "    <tr>\n",
       "      <th>2074</th>\n",
       "      <td>9</td>\n",
       "      <td>Gujarat Lions</td>\n",
       "      <td>Wankhede Stadium</td>\n",
       "      <td>2</td>\n",
       "      <td>Mumbai Indians</td>\n",
       "      <td>19.3</td>\n",
       "      <td>Gujarat Lions</td>\n",
       "      <td>DS Kulkarni</td>\n",
       "      <td>AJ Finch</td>\n",
       "      <td>JJ Bumrah</td>\n",
       "      <td>4</td>\n",
       "      <td>0</td>\n",
       "      <td>-</td>\n",
       "      <td>-</td>\n",
       "    </tr>\n",
       "    <tr>\n",
       "      <th>2075</th>\n",
       "      <td>9</td>\n",
       "      <td>Gujarat Lions</td>\n",
       "      <td>Wankhede Stadium</td>\n",
       "      <td>2</td>\n",
       "      <td>Mumbai Indians</td>\n",
       "      <td>19.4</td>\n",
       "      <td>Gujarat Lions</td>\n",
       "      <td>DS Kulkarni</td>\n",
       "      <td>AJ Finch</td>\n",
       "      <td>JJ Bumrah</td>\n",
       "      <td>1</td>\n",
       "      <td>0</td>\n",
       "      <td>-</td>\n",
       "      <td>-</td>\n",
       "    </tr>\n",
       "    <tr>\n",
       "      <th>2076</th>\n",
       "      <td>9</td>\n",
       "      <td>Gujarat Lions</td>\n",
       "      <td>Wankhede Stadium</td>\n",
       "      <td>2</td>\n",
       "      <td>Mumbai Indians</td>\n",
       "      <td>19.5</td>\n",
       "      <td>Gujarat Lions</td>\n",
       "      <td>AJ Finch</td>\n",
       "      <td>DS Kulkarni</td>\n",
       "      <td>JJ Bumrah</td>\n",
       "      <td>2</td>\n",
       "      <td>0</td>\n",
       "      <td>-</td>\n",
       "      <td>-</td>\n",
       "    </tr>\n",
       "    <tr>\n",
       "      <th>2077</th>\n",
       "      <td>9</td>\n",
       "      <td>Gujarat Lions</td>\n",
       "      <td>Wankhede Stadium</td>\n",
       "      <td>2</td>\n",
       "      <td>Mumbai Indians</td>\n",
       "      <td>19.6</td>\n",
       "      <td>Gujarat Lions</td>\n",
       "      <td>AJ Finch</td>\n",
       "      <td>DS Kulkarni</td>\n",
       "      <td>JJ Bumrah</td>\n",
       "      <td>4</td>\n",
       "      <td>0</td>\n",
       "      <td>-</td>\n",
       "      <td>-</td>\n",
       "    </tr>\n",
       "  </tbody>\n",
       "</table>\n",
       "<p>13120 rows × 14 columns</p>\n",
       "</div>"
      ],
      "text/plain": [
       "      Match Number                   Winner             Venue  Innings  \\\n",
       "0                1  Rising Pune Supergiants  Wankhede Stadium        1   \n",
       "1                1  Rising Pune Supergiants  Wankhede Stadium        1   \n",
       "2                1  Rising Pune Supergiants  Wankhede Stadium        1   \n",
       "3                1  Rising Pune Supergiants  Wankhede Stadium        1   \n",
       "4                1  Rising Pune Supergiants  Wankhede Stadium        1   \n",
       "5                1  Rising Pune Supergiants  Wankhede Stadium        1   \n",
       "6                1  Rising Pune Supergiants  Wankhede Stadium        1   \n",
       "7                1  Rising Pune Supergiants  Wankhede Stadium        1   \n",
       "8                1  Rising Pune Supergiants  Wankhede Stadium        1   \n",
       "9                1  Rising Pune Supergiants  Wankhede Stadium        1   \n",
       "10               1  Rising Pune Supergiants  Wankhede Stadium        1   \n",
       "11               1  Rising Pune Supergiants  Wankhede Stadium        1   \n",
       "12               1  Rising Pune Supergiants  Wankhede Stadium        1   \n",
       "13               1  Rising Pune Supergiants  Wankhede Stadium        1   \n",
       "14               1  Rising Pune Supergiants  Wankhede Stadium        1   \n",
       "15               1  Rising Pune Supergiants  Wankhede Stadium        1   \n",
       "16               1  Rising Pune Supergiants  Wankhede Stadium        1   \n",
       "17               1  Rising Pune Supergiants  Wankhede Stadium        1   \n",
       "18               1  Rising Pune Supergiants  Wankhede Stadium        1   \n",
       "19               1  Rising Pune Supergiants  Wankhede Stadium        1   \n",
       "20               1  Rising Pune Supergiants  Wankhede Stadium        1   \n",
       "21               1  Rising Pune Supergiants  Wankhede Stadium        1   \n",
       "22               1  Rising Pune Supergiants  Wankhede Stadium        1   \n",
       "23               1  Rising Pune Supergiants  Wankhede Stadium        1   \n",
       "24               1  Rising Pune Supergiants  Wankhede Stadium        1   \n",
       "25               1  Rising Pune Supergiants  Wankhede Stadium        1   \n",
       "26               1  Rising Pune Supergiants  Wankhede Stadium        1   \n",
       "27               1  Rising Pune Supergiants  Wankhede Stadium        1   \n",
       "28               1  Rising Pune Supergiants  Wankhede Stadium        1   \n",
       "29               1  Rising Pune Supergiants  Wankhede Stadium        1   \n",
       "...            ...                      ...               ...      ...   \n",
       "2048             9            Gujarat Lions  Wankhede Stadium        2   \n",
       "2049             9            Gujarat Lions  Wankhede Stadium        2   \n",
       "2050             9            Gujarat Lions  Wankhede Stadium        2   \n",
       "2051             9            Gujarat Lions  Wankhede Stadium        2   \n",
       "2052             9            Gujarat Lions  Wankhede Stadium        2   \n",
       "2053             9            Gujarat Lions  Wankhede Stadium        2   \n",
       "2054             9            Gujarat Lions  Wankhede Stadium        2   \n",
       "2055             9            Gujarat Lions  Wankhede Stadium        2   \n",
       "2056             9            Gujarat Lions  Wankhede Stadium        2   \n",
       "2057             9            Gujarat Lions  Wankhede Stadium        2   \n",
       "2058             9            Gujarat Lions  Wankhede Stadium        2   \n",
       "2059             9            Gujarat Lions  Wankhede Stadium        2   \n",
       "2060             9            Gujarat Lions  Wankhede Stadium        2   \n",
       "2061             9            Gujarat Lions  Wankhede Stadium        2   \n",
       "2062             9            Gujarat Lions  Wankhede Stadium        2   \n",
       "2063             9            Gujarat Lions  Wankhede Stadium        2   \n",
       "2064             9            Gujarat Lions  Wankhede Stadium        2   \n",
       "2065             9            Gujarat Lions  Wankhede Stadium        2   \n",
       "2066             9            Gujarat Lions  Wankhede Stadium        2   \n",
       "2067             9            Gujarat Lions  Wankhede Stadium        2   \n",
       "2068             9            Gujarat Lions  Wankhede Stadium        2   \n",
       "2069             9            Gujarat Lions  Wankhede Stadium        2   \n",
       "2070             9            Gujarat Lions  Wankhede Stadium        2   \n",
       "2071             9            Gujarat Lions  Wankhede Stadium        2   \n",
       "2072             9            Gujarat Lions  Wankhede Stadium        2   \n",
       "2073             9            Gujarat Lions  Wankhede Stadium        2   \n",
       "2074             9            Gujarat Lions  Wankhede Stadium        2   \n",
       "2075             9            Gujarat Lions  Wankhede Stadium        2   \n",
       "2076             9            Gujarat Lions  Wankhede Stadium        2   \n",
       "2077             9            Gujarat Lions  Wankhede Stadium        2   \n",
       "\n",
       "                 Bowling Team  Ball No.    Batting Team      Striker  \\\n",
       "0     Rising Pune Supergiants       0.1  Mumbai Indians  LMP Simmons   \n",
       "1     Rising Pune Supergiants       0.2  Mumbai Indians    RG Sharma   \n",
       "2     Rising Pune Supergiants       0.3  Mumbai Indians    RG Sharma   \n",
       "3     Rising Pune Supergiants       0.4  Mumbai Indians    RG Sharma   \n",
       "4     Rising Pune Supergiants       0.5  Mumbai Indians    RG Sharma   \n",
       "5     Rising Pune Supergiants       0.6  Mumbai Indians  LMP Simmons   \n",
       "6     Rising Pune Supergiants       1.1  Mumbai Indians    RG Sharma   \n",
       "7     Rising Pune Supergiants       1.2  Mumbai Indians    HH Pandya   \n",
       "8     Rising Pune Supergiants       1.3  Mumbai Indians    HH Pandya   \n",
       "9     Rising Pune Supergiants       1.4  Mumbai Indians    HH Pandya   \n",
       "10    Rising Pune Supergiants       1.5  Mumbai Indians    HH Pandya   \n",
       "11    Rising Pune Supergiants       1.6  Mumbai Indians    HH Pandya   \n",
       "12    Rising Pune Supergiants       1.7  Mumbai Indians    HH Pandya   \n",
       "13    Rising Pune Supergiants       1.8  Mumbai Indians    HH Pandya   \n",
       "14    Rising Pune Supergiants       2.1  Mumbai Indians  LMP Simmons   \n",
       "15    Rising Pune Supergiants       2.2  Mumbai Indians  LMP Simmons   \n",
       "16    Rising Pune Supergiants       2.3  Mumbai Indians  LMP Simmons   \n",
       "17    Rising Pune Supergiants       2.4  Mumbai Indians    HH Pandya   \n",
       "18    Rising Pune Supergiants       2.5  Mumbai Indians  LMP Simmons   \n",
       "19    Rising Pune Supergiants       2.6  Mumbai Indians  LMP Simmons   \n",
       "20    Rising Pune Supergiants       3.1  Mumbai Indians    HH Pandya   \n",
       "21    Rising Pune Supergiants       3.2  Mumbai Indians    HH Pandya   \n",
       "22    Rising Pune Supergiants       3.3  Mumbai Indians    HH Pandya   \n",
       "23    Rising Pune Supergiants       3.4  Mumbai Indians    HH Pandya   \n",
       "24    Rising Pune Supergiants       3.5  Mumbai Indians  LMP Simmons   \n",
       "25    Rising Pune Supergiants       3.6  Mumbai Indians   JC Buttler   \n",
       "26    Rising Pune Supergiants       4.1  Mumbai Indians    HH Pandya   \n",
       "27    Rising Pune Supergiants       4.2  Mumbai Indians    AT Rayudu   \n",
       "28    Rising Pune Supergiants       4.3  Mumbai Indians    AT Rayudu   \n",
       "29    Rising Pune Supergiants       4.4  Mumbai Indians    AT Rayudu   \n",
       "...                       ...       ...             ...          ...   \n",
       "2048           Mumbai Indians      15.2   Gujarat Lions      AD Nath   \n",
       "2049           Mumbai Indians      15.3   Gujarat Lions      AD Nath   \n",
       "2050           Mumbai Indians      15.4   Gujarat Lions     AJ Finch   \n",
       "2051           Mumbai Indians      15.5   Gujarat Lions     AJ Finch   \n",
       "2052           Mumbai Indians      15.6   Gujarat Lions     AJ Finch   \n",
       "2053           Mumbai Indians      16.1   Gujarat Lions      AD Nath   \n",
       "2054           Mumbai Indians      16.2   Gujarat Lions     AJ Finch   \n",
       "2055           Mumbai Indians      16.3   Gujarat Lions     AJ Finch   \n",
       "2056           Mumbai Indians      16.4   Gujarat Lions  JP Faulkner   \n",
       "2057           Mumbai Indians      16.5   Gujarat Lions     AJ Finch   \n",
       "2058           Mumbai Indians      16.6   Gujarat Lions     AJ Finch   \n",
       "2059           Mumbai Indians      17.1   Gujarat Lions  JP Faulkner   \n",
       "2060           Mumbai Indians      17.2   Gujarat Lions  JP Faulkner   \n",
       "2061           Mumbai Indians      17.3   Gujarat Lions     AJ Finch   \n",
       "2062           Mumbai Indians      17.4   Gujarat Lions  JP Faulkner   \n",
       "2063           Mumbai Indians      17.5   Gujarat Lions  JP Faulkner   \n",
       "2064           Mumbai Indians      17.6   Gujarat Lions  JP Faulkner   \n",
       "2065           Mumbai Indians      17.7   Gujarat Lions     AJ Finch   \n",
       "2066           Mumbai Indians      18.1   Gujarat Lions  JP Faulkner   \n",
       "2067           Mumbai Indians      18.2   Gujarat Lions  JP Faulkner   \n",
       "2068           Mumbai Indians      18.3   Gujarat Lions      P Kumar   \n",
       "2069           Mumbai Indians      18.4   Gujarat Lions      P Kumar   \n",
       "2070           Mumbai Indians      18.5   Gujarat Lions  DS Kulkarni   \n",
       "2071           Mumbai Indians      18.6   Gujarat Lions     AJ Finch   \n",
       "2072           Mumbai Indians      19.1   Gujarat Lions     AJ Finch   \n",
       "2073           Mumbai Indians      19.2   Gujarat Lions     AJ Finch   \n",
       "2074           Mumbai Indians      19.3   Gujarat Lions  DS Kulkarni   \n",
       "2075           Mumbai Indians      19.4   Gujarat Lions  DS Kulkarni   \n",
       "2076           Mumbai Indians      19.5   Gujarat Lions     AJ Finch   \n",
       "2077           Mumbai Indians      19.6   Gujarat Lions     AJ Finch   \n",
       "\n",
       "     Non - Striker           Bowler  Runs  Extras How Out  Batsman Out  \n",
       "0        RG Sharma         RP Singh     1       0       -            -  \n",
       "1      LMP Simmons         RP Singh     0       0       -            -  \n",
       "2      LMP Simmons         RP Singh     2       0       -            -  \n",
       "3      LMP Simmons         RP Singh     4       0       -            -  \n",
       "4      LMP Simmons         RP Singh     1       0       -            -  \n",
       "5        RG Sharma         RP Singh     0       0       -            -  \n",
       "6      LMP Simmons         I Sharma     0       0     lbw    RG Sharma  \n",
       "7      LMP Simmons         I Sharma     0       3       -            -  \n",
       "8      LMP Simmons         I Sharma     0       0       -            -  \n",
       "9      LMP Simmons         I Sharma     0       0       -            -  \n",
       "10     LMP Simmons         I Sharma     0       0       -            -  \n",
       "11     LMP Simmons         I Sharma     0       1       -            -  \n",
       "12     LMP Simmons         I Sharma     0       0       -            -  \n",
       "13     LMP Simmons         I Sharma     0       0       -            -  \n",
       "14       HH Pandya         RP Singh     0       0       -            -  \n",
       "15       HH Pandya         RP Singh     6       0       -            -  \n",
       "16       HH Pandya         RP Singh     1       0       -            -  \n",
       "17     LMP Simmons         RP Singh     1       0       -            -  \n",
       "18       HH Pandya         RP Singh     0       0       -            -  \n",
       "19       HH Pandya         RP Singh     0       0       -            -  \n",
       "20     LMP Simmons         I Sharma     4       0       -            -  \n",
       "21     LMP Simmons         I Sharma     4       0       -            -  \n",
       "22     LMP Simmons         I Sharma     0       0       -            -  \n",
       "23     LMP Simmons         I Sharma     0       1       -            -  \n",
       "24       HH Pandya         I Sharma     0       0  bowled  LMP Simmons  \n",
       "25       HH Pandya         I Sharma     0       0       -            -  \n",
       "26      JC Buttler         MR Marsh     0       0  caught    HH Pandya  \n",
       "27      JC Buttler         MR Marsh     0       0       -            -  \n",
       "28      JC Buttler         MR Marsh     0       0       -            -  \n",
       "29      JC Buttler         MR Marsh     0       0       -            -  \n",
       "...            ...              ...   ...     ...     ...          ...  \n",
       "2048      AJ Finch  Harbhajan Singh     0       0       -            -  \n",
       "2049      AJ Finch  Harbhajan Singh     1       0       -            -  \n",
       "2050       AD Nath  Harbhajan Singh     0       0       -            -  \n",
       "2051       AD Nath  Harbhajan Singh     2       0       -            -  \n",
       "2052       AD Nath  Harbhajan Singh     6       0       -            -  \n",
       "2053      AJ Finch   MJ McClenaghan     0       0  caught      AD Nath  \n",
       "2054   JP Faulkner   MJ McClenaghan     0       4       -            -  \n",
       "2055   JP Faulkner   MJ McClenaghan     1       0       -            -  \n",
       "2056      AJ Finch   MJ McClenaghan     1       0       -            -  \n",
       "2057   JP Faulkner   MJ McClenaghan     4       0       -            -  \n",
       "2058   JP Faulkner   MJ McClenaghan     2       0       -            -  \n",
       "2059      AJ Finch        JJ Bumrah     0       0       -            -  \n",
       "2060      AJ Finch        JJ Bumrah     1       0       -            -  \n",
       "2061   JP Faulkner        JJ Bumrah     1       0       -            -  \n",
       "2062      AJ Finch        JJ Bumrah     0       1       -            -  \n",
       "2063      AJ Finch        JJ Bumrah     4       0       -            -  \n",
       "2064      AJ Finch        JJ Bumrah     1       0       -            -  \n",
       "2065   JP Faulkner        JJ Bumrah     2       0       -            -  \n",
       "2066      AJ Finch   MJ McClenaghan     0       0       -            -  \n",
       "2067      AJ Finch   MJ McClenaghan     0       0  caught  JP Faulkner  \n",
       "2068      AJ Finch   MJ McClenaghan     0       0       -            -  \n",
       "2069      AJ Finch   MJ McClenaghan     0       0  caught      P Kumar  \n",
       "2070      AJ Finch   MJ McClenaghan     1       0       -            -  \n",
       "2071   DS Kulkarni   MJ McClenaghan     1       0       -            -  \n",
       "2072   DS Kulkarni        JJ Bumrah     2       0       -            -  \n",
       "2073   DS Kulkarni        JJ Bumrah     1       0       -            -  \n",
       "2074      AJ Finch        JJ Bumrah     4       0       -            -  \n",
       "2075      AJ Finch        JJ Bumrah     1       0       -            -  \n",
       "2076   DS Kulkarni        JJ Bumrah     2       0       -            -  \n",
       "2077   DS Kulkarni        JJ Bumrah     4       0       -            -  \n",
       "\n",
       "[13120 rows x 14 columns]"
      ]
     },
     "execution_count": 73,
     "metadata": {},
     "output_type": "execute_result"
    }
   ],
   "source": [
    "IPLData"
   ]
  },
  {
   "cell_type": "code",
   "execution_count": null,
   "metadata": {
    "collapsed": true
   },
   "outputs": [],
   "source": [
    "#Number of each type of Runs by ball for each venue\n",
    "Total_Runs = IPLData['Runs'] + IPLData['Extras']\n",
    "Total_Runs = Total_Runs.rename('No. Of Runs on Ball')\n",
    "Total_Runs = pd.crosstab(IPLData['Venue'],Total_Runs)\n",
    "Total_Runs"
   ]
  },
  {
   "cell_type": "code",
   "execution_count": null,
   "metadata": {
    "collapsed": true
   },
   "outputs": [],
   "source": [
    "#Number of each type of Runs by ball for each ball\n",
    "totalRuns = IPLData['Runs'] + IPLData['Extras']\n",
    "totalRuns = totalRuns.rename('No. Of Runs on Ball')\n",
    "NumberRunsByBall = pd.crosstab(IPLData['Ball No.'],totalRuns)\n",
    "NumberRunsByBall"
   ]
  },
  {
   "cell_type": "code",
   "execution_count": null,
   "metadata": {
    "collapsed": true
   },
   "outputs": [],
   "source": [
    "# Runs by innings\n",
    "InningsRuns = IPLData.groupby(['Innings'])['Runs'].sum()\n",
    "InningsRuns = pd.Series.to_frame(InningsRuns)\n",
    "InningsRuns"
   ]
  },
  {
   "cell_type": "code",
   "execution_count": null,
   "metadata": {
    "collapsed": true
   },
   "outputs": [],
   "source": [
    "# Extras by innings\n",
    "InningsExtras = IPLData.groupby(['Innings'])['Extras'].sum()\n",
    "InningsExtras = pd.Series.to_frame(InningsExtras)\n",
    "InningsExtras"
   ]
  },
  {
   "cell_type": "code",
   "execution_count": null,
   "metadata": {
    "collapsed": true
   },
   "outputs": [],
   "source": [
    "# Type of Runs by Teams\n",
    "teamRuns = IPLData['Runs'] + IPLData['Extras']\n",
    "teamRuns = teamRuns.rename('Count of Run Type')\n",
    "teamsRunTypes = pd.crosstab(IPLData['Batting Team'], teamRuns)\n",
    "teamsRunTypes"
   ]
  },
  {
   "cell_type": "code",
   "execution_count": 86,
   "metadata": {
    "collapsed": false
   },
   "outputs": [
    {
     "data": {
      "text/html": [
       "<div>\n",
       "<table border=\"1\" class=\"dataframe\">\n",
       "  <thead>\n",
       "    <tr style=\"text-align: right;\">\n",
       "      <th></th>\n",
       "      <th>Bowler</th>\n",
       "      <th>Team</th>\n",
       "    </tr>\n",
       "  </thead>\n",
       "  <tbody>\n",
       "    <tr>\n",
       "      <th>YS Chahal</th>\n",
       "      <td>19</td>\n",
       "      <td>Royal Challengers Bangalore</td>\n",
       "    </tr>\n",
       "    <tr>\n",
       "      <th>B Kumar</th>\n",
       "      <td>18</td>\n",
       "      <td>Sunrisers Hyderabad</td>\n",
       "    </tr>\n",
       "    <tr>\n",
       "      <th>MJ McClenaghan</th>\n",
       "      <td>17</td>\n",
       "      <td>Mumbai Indians</td>\n",
       "    </tr>\n",
       "    <tr>\n",
       "      <th>Mustafizur Rahman</th>\n",
       "      <td>16</td>\n",
       "      <td>Sunrisers Hyderabad</td>\n",
       "    </tr>\n",
       "    <tr>\n",
       "      <th>SR Watson</th>\n",
       "      <td>16</td>\n",
       "      <td>Royal Challengers Bangalore</td>\n",
       "    </tr>\n",
       "    <tr>\n",
       "      <th>JJ Bumrah</th>\n",
       "      <td>15</td>\n",
       "      <td>Mumbai Indians</td>\n",
       "    </tr>\n",
       "    <tr>\n",
       "      <th>Sandeep Sharma</th>\n",
       "      <td>15</td>\n",
       "      <td>Kings XI Punjab</td>\n",
       "    </tr>\n",
       "    <tr>\n",
       "      <th>DJ Bravo</th>\n",
       "      <td>15</td>\n",
       "      <td>Gujarat Lions</td>\n",
       "    </tr>\n",
       "    <tr>\n",
       "      <th>AD Russell</th>\n",
       "      <td>15</td>\n",
       "      <td>Kolkata Knight Riders</td>\n",
       "    </tr>\n",
       "    <tr>\n",
       "      <th>DS Kulkarni</th>\n",
       "      <td>14</td>\n",
       "      <td>Gujarat Lions</td>\n",
       "    </tr>\n",
       "    <tr>\n",
       "      <th>AR Patel</th>\n",
       "      <td>13</td>\n",
       "      <td>Kings XI Punjab</td>\n",
       "    </tr>\n",
       "    <tr>\n",
       "      <th>CH Morris</th>\n",
       "      <td>13</td>\n",
       "      <td>Delhi Daredevils</td>\n",
       "    </tr>\n",
       "    <tr>\n",
       "      <th>A Mishra</th>\n",
       "      <td>13</td>\n",
       "      <td>Delhi Daredevils</td>\n",
       "    </tr>\n",
       "    <tr>\n",
       "      <th>MM Sharma</th>\n",
       "      <td>13</td>\n",
       "      <td>Kings XI Punjab</td>\n",
       "    </tr>\n",
       "    <tr>\n",
       "      <th>A Zampa</th>\n",
       "      <td>12</td>\n",
       "      <td>Rising Pune Supergiants</td>\n",
       "    </tr>\n",
       "    <tr>\n",
       "      <th>BB Sran</th>\n",
       "      <td>12</td>\n",
       "      <td>Sunrisers Hyderabad</td>\n",
       "    </tr>\n",
       "    <tr>\n",
       "      <th>AB Dinda</th>\n",
       "      <td>11</td>\n",
       "      <td>Rising Pune Supergiants</td>\n",
       "    </tr>\n",
       "    <tr>\n",
       "      <th>PP Chawla</th>\n",
       "      <td>11</td>\n",
       "      <td>Kolkata Knight Riders</td>\n",
       "    </tr>\n",
       "    <tr>\n",
       "      <th>SP Narine</th>\n",
       "      <td>11</td>\n",
       "      <td>Kolkata Knight Riders</td>\n",
       "    </tr>\n",
       "    <tr>\n",
       "      <th>UT Yadav</th>\n",
       "      <td>10</td>\n",
       "      <td>Kolkata Knight Riders</td>\n",
       "    </tr>\n",
       "    <tr>\n",
       "      <th>R Ashwin</th>\n",
       "      <td>10</td>\n",
       "      <td>Rising Pune Supergiants</td>\n",
       "    </tr>\n",
       "    <tr>\n",
       "      <th>Z Khan</th>\n",
       "      <td>10</td>\n",
       "      <td>Delhi Daredevils</td>\n",
       "    </tr>\n",
       "    <tr>\n",
       "      <th>MC Henriques</th>\n",
       "      <td>10</td>\n",
       "      <td>Sunrisers Hyderabad</td>\n",
       "    </tr>\n",
       "    <tr>\n",
       "      <th>S Aravind</th>\n",
       "      <td>9</td>\n",
       "      <td>Royal Challengers Bangalore</td>\n",
       "    </tr>\n",
       "    <tr>\n",
       "      <th>NLTC Perera</th>\n",
       "      <td>9</td>\n",
       "      <td>Rising Pune Supergiants</td>\n",
       "    </tr>\n",
       "    <tr>\n",
       "      <th>TG Southee</th>\n",
       "      <td>9</td>\n",
       "      <td>Mumbai Indians</td>\n",
       "    </tr>\n",
       "    <tr>\n",
       "      <th>Harbhajan Singh</th>\n",
       "      <td>9</td>\n",
       "      <td>Mumbai Indians</td>\n",
       "    </tr>\n",
       "    <tr>\n",
       "      <th>P Kumar</th>\n",
       "      <td>9</td>\n",
       "      <td>Gujarat Lions</td>\n",
       "    </tr>\n",
       "    <tr>\n",
       "      <th>A Nehra</th>\n",
       "      <td>9</td>\n",
       "      <td>Sunrisers Hyderabad</td>\n",
       "    </tr>\n",
       "    <tr>\n",
       "      <th>MP Stoinis</th>\n",
       "      <td>8</td>\n",
       "      <td>Kings XI Punjab</td>\n",
       "    </tr>\n",
       "    <tr>\n",
       "      <th>...</th>\n",
       "      <td>...</td>\n",
       "      <td>...</td>\n",
       "    </tr>\n",
       "    <tr>\n",
       "      <th>RP Singh</th>\n",
       "      <td>3</td>\n",
       "      <td>Rising Pune Supergiants</td>\n",
       "    </tr>\n",
       "    <tr>\n",
       "      <th>NM Coulter-Nile</th>\n",
       "      <td>3</td>\n",
       "      <td>Delhi Daredevils</td>\n",
       "    </tr>\n",
       "    <tr>\n",
       "      <th>AS Rajpoot</th>\n",
       "      <td>3</td>\n",
       "      <td>Kolkata Knight Riders</td>\n",
       "    </tr>\n",
       "    <tr>\n",
       "      <th>Kuldeep Yadav</th>\n",
       "      <td>3</td>\n",
       "      <td>Kolkata Knight Riders</td>\n",
       "    </tr>\n",
       "    <tr>\n",
       "      <th>R Vinay Kumar</th>\n",
       "      <td>3</td>\n",
       "      <td>Mumbai Indians</td>\n",
       "    </tr>\n",
       "    <tr>\n",
       "      <th>Gurkeerat Singh</th>\n",
       "      <td>2</td>\n",
       "      <td>Kings XI Punjab</td>\n",
       "    </tr>\n",
       "    <tr>\n",
       "      <th>CH Gayle</th>\n",
       "      <td>2</td>\n",
       "      <td>Royal Challengers Bangalore</td>\n",
       "    </tr>\n",
       "    <tr>\n",
       "      <th>JW Hastings</th>\n",
       "      <td>2</td>\n",
       "      <td>Kolkata Knight Riders</td>\n",
       "    </tr>\n",
       "    <tr>\n",
       "      <th>JP Duminy</th>\n",
       "      <td>2</td>\n",
       "      <td>Delhi Daredevils</td>\n",
       "    </tr>\n",
       "    <tr>\n",
       "      <th>KJ Abbott</th>\n",
       "      <td>2</td>\n",
       "      <td>Kings XI Punjab</td>\n",
       "    </tr>\n",
       "    <tr>\n",
       "      <th>JA Morkel</th>\n",
       "      <td>2</td>\n",
       "      <td>Rising Pune Supergiants</td>\n",
       "    </tr>\n",
       "    <tr>\n",
       "      <th>JP Faulkner</th>\n",
       "      <td>2</td>\n",
       "      <td>Gujarat Lions</td>\n",
       "    </tr>\n",
       "    <tr>\n",
       "      <th>SB Jakati</th>\n",
       "      <td>2</td>\n",
       "      <td>Gujarat Lions</td>\n",
       "    </tr>\n",
       "    <tr>\n",
       "      <th>J Yadav</th>\n",
       "      <td>2</td>\n",
       "      <td>Delhi Daredevils</td>\n",
       "    </tr>\n",
       "    <tr>\n",
       "      <th>VR Aaron</th>\n",
       "      <td>2</td>\n",
       "      <td>Royal Challengers Bangalore</td>\n",
       "    </tr>\n",
       "    <tr>\n",
       "      <th>SM Boland</th>\n",
       "      <td>2</td>\n",
       "      <td>Rising Pune Supergiants</td>\n",
       "    </tr>\n",
       "    <tr>\n",
       "      <th>Sachin Baby</th>\n",
       "      <td>2</td>\n",
       "      <td>Royal Challengers Bangalore</td>\n",
       "    </tr>\n",
       "    <tr>\n",
       "      <th>R Dhawan</th>\n",
       "      <td>2</td>\n",
       "      <td>Kings XI Punjab</td>\n",
       "    </tr>\n",
       "    <tr>\n",
       "      <th>S Nadeem</th>\n",
       "      <td>2</td>\n",
       "      <td>Delhi Daredevils</td>\n",
       "    </tr>\n",
       "    <tr>\n",
       "      <th>MG Johnson</th>\n",
       "      <td>2</td>\n",
       "      <td>Kings XI Punjab</td>\n",
       "    </tr>\n",
       "    <tr>\n",
       "      <th>P Negi</th>\n",
       "      <td>1</td>\n",
       "      <td>Delhi Daredevils</td>\n",
       "    </tr>\n",
       "    <tr>\n",
       "      <th>Parvez Rasool</th>\n",
       "      <td>1</td>\n",
       "      <td>Royal Challengers Bangalore</td>\n",
       "    </tr>\n",
       "    <tr>\n",
       "      <th>HV Patel</th>\n",
       "      <td>1</td>\n",
       "      <td>Royal Challengers Bangalore</td>\n",
       "    </tr>\n",
       "    <tr>\n",
       "      <th>Ankit Sharma</th>\n",
       "      <td>1</td>\n",
       "      <td>Rising Pune Supergiants</td>\n",
       "    </tr>\n",
       "    <tr>\n",
       "      <th>YK Pathan</th>\n",
       "      <td>1</td>\n",
       "      <td>Kolkata Knight Riders</td>\n",
       "    </tr>\n",
       "    <tr>\n",
       "      <th>AF Milne</th>\n",
       "      <td>1</td>\n",
       "      <td>Royal Challengers Bangalore</td>\n",
       "    </tr>\n",
       "    <tr>\n",
       "      <th>R Sathish</th>\n",
       "      <td>1</td>\n",
       "      <td>Kolkata Knight Riders</td>\n",
       "    </tr>\n",
       "    <tr>\n",
       "      <th>Bipul Sharma</th>\n",
       "      <td>1</td>\n",
       "      <td>Sunrisers Hyderabad</td>\n",
       "    </tr>\n",
       "    <tr>\n",
       "      <th>A Ashish Reddy</th>\n",
       "      <td>1</td>\n",
       "      <td>Sunrisers Hyderabad</td>\n",
       "    </tr>\n",
       "    <tr>\n",
       "      <th>STR Binny</th>\n",
       "      <td>1</td>\n",
       "      <td>Royal Challengers Bangalore</td>\n",
       "    </tr>\n",
       "  </tbody>\n",
       "</table>\n",
       "<p>83 rows × 2 columns</p>\n",
       "</div>"
      ],
      "text/plain": [
       "                   Bowler                         Team\n",
       "YS Chahal              19  Royal Challengers Bangalore\n",
       "B Kumar                18          Sunrisers Hyderabad\n",
       "MJ McClenaghan         17               Mumbai Indians\n",
       "Mustafizur Rahman      16          Sunrisers Hyderabad\n",
       "SR Watson              16  Royal Challengers Bangalore\n",
       "JJ Bumrah              15               Mumbai Indians\n",
       "Sandeep Sharma         15              Kings XI Punjab\n",
       "DJ Bravo               15                Gujarat Lions\n",
       "AD Russell             15        Kolkata Knight Riders\n",
       "DS Kulkarni            14                Gujarat Lions\n",
       "AR Patel               13              Kings XI Punjab\n",
       "CH Morris              13             Delhi Daredevils\n",
       "A Mishra               13             Delhi Daredevils\n",
       "MM Sharma              13              Kings XI Punjab\n",
       "A Zampa                12      Rising Pune Supergiants\n",
       "BB Sran                12          Sunrisers Hyderabad\n",
       "AB Dinda               11      Rising Pune Supergiants\n",
       "PP Chawla              11        Kolkata Knight Riders\n",
       "SP Narine              11        Kolkata Knight Riders\n",
       "UT Yadav               10        Kolkata Knight Riders\n",
       "R Ashwin               10      Rising Pune Supergiants\n",
       "Z Khan                 10             Delhi Daredevils\n",
       "MC Henriques           10          Sunrisers Hyderabad\n",
       "S Aravind               9  Royal Challengers Bangalore\n",
       "NLTC Perera             9      Rising Pune Supergiants\n",
       "TG Southee              9               Mumbai Indians\n",
       "Harbhajan Singh         9               Mumbai Indians\n",
       "P Kumar                 9                Gujarat Lions\n",
       "A Nehra                 9          Sunrisers Hyderabad\n",
       "MP Stoinis              8              Kings XI Punjab\n",
       "...                   ...                          ...\n",
       "RP Singh                3      Rising Pune Supergiants\n",
       "NM Coulter-Nile         3             Delhi Daredevils\n",
       "AS Rajpoot              3        Kolkata Knight Riders\n",
       "Kuldeep Yadav           3        Kolkata Knight Riders\n",
       "R Vinay Kumar           3               Mumbai Indians\n",
       "Gurkeerat Singh         2              Kings XI Punjab\n",
       "CH Gayle                2  Royal Challengers Bangalore\n",
       "JW Hastings             2        Kolkata Knight Riders\n",
       "JP Duminy               2             Delhi Daredevils\n",
       "KJ Abbott               2              Kings XI Punjab\n",
       "JA Morkel               2      Rising Pune Supergiants\n",
       "JP Faulkner             2                Gujarat Lions\n",
       "SB Jakati               2                Gujarat Lions\n",
       "J Yadav                 2             Delhi Daredevils\n",
       "VR Aaron                2  Royal Challengers Bangalore\n",
       "SM Boland               2      Rising Pune Supergiants\n",
       "Sachin Baby             2  Royal Challengers Bangalore\n",
       "R Dhawan                2              Kings XI Punjab\n",
       "S Nadeem                2             Delhi Daredevils\n",
       "MG Johnson              2              Kings XI Punjab\n",
       "P Negi                  1             Delhi Daredevils\n",
       "Parvez Rasool           1  Royal Challengers Bangalore\n",
       "HV Patel                1  Royal Challengers Bangalore\n",
       "Ankit Sharma            1      Rising Pune Supergiants\n",
       "YK Pathan               1        Kolkata Knight Riders\n",
       "AF Milne                1  Royal Challengers Bangalore\n",
       "R Sathish               1        Kolkata Knight Riders\n",
       "Bipul Sharma            1          Sunrisers Hyderabad\n",
       "A Ashish Reddy          1          Sunrisers Hyderabad\n",
       "STR Binny               1  Royal Challengers Bangalore\n",
       "\n",
       "[83 rows x 2 columns]"
      ]
     },
     "execution_count": 86,
     "metadata": {},
     "output_type": "execute_result"
    }
   ],
   "source": [
    "# Top Wicket Takers in the IPL\n",
    "def getBowlingTeam(row):\n",
    "    record = allBowlers[allBowlers['Bowler'] == row.name]\n",
    "    temp = record['Bowling Team']\n",
    "    temp = temp.values \n",
    "    return temp\n",
    "allBowlers = IPLData.drop_duplicates(subset = 'Bowler')\n",
    "allwickets = IPLData[((IPLData['How Out'] != '-') & (IPLData['How Out'] != 'run out'))]\n",
    "allwickets = allwickets['Bowler'].value_counts()\n",
    "allwickets = pd.Series.to_frame(allwickets)\n",
    "allwickets.insert(1,'Team',None)\n",
    "allwickets = allwickets.sort_values('Bowler',ascending = 0)\n",
    "allwickets['Team'] = allwickets.apply(getBowlingTeam, axis=1)\n",
    "allwickets"
   ]
  },
  {
   "cell_type": "code",
   "execution_count": 91,
   "metadata": {
    "collapsed": false
   },
   "outputs": [
    {
     "data": {
      "text/plain": [
       "['Bowler', 'Team']"
      ]
     },
     "execution_count": 91,
     "metadata": {},
     "output_type": "execute_result"
    }
   ],
   "source": [
    "list(allwickets.columns.values)"
   ]
  },
  {
   "cell_type": "code",
   "execution_count": 92,
   "metadata": {
    "collapsed": false
   },
   "outputs": [
    {
     "ename": "TypeError",
     "evalue": "plot_bar_group_count() missing 1 required positional argument: 'title'",
     "output_type": "error",
     "traceback": [
      "\u001b[0;31m---------------------------------------------------------------------------\u001b[0m",
      "\u001b[0;31mTypeError\u001b[0m                                 Traceback (most recent call last)",
      "\u001b[0;32m<ipython-input-92-72fde4cddfd2>\u001b[0m in \u001b[0;36mindustryfunc\u001b[0;34m(x)\u001b[0m\n\u001b[1;32m      8\u001b[0m         \u001b[0mteamNameWickets\u001b[0m\u001b[0;34m,\u001b[0m\u001b[0;34m\u001b[0m\u001b[0m\n\u001b[1;32m      9\u001b[0m         \u001b[0mname\u001b[0m\u001b[0;34m,\u001b[0m\u001b[0;34m\u001b[0m\u001b[0m\n\u001b[0;32m---> 10\u001b[0;31m         \u001b[0mwrap_chars\u001b[0m \u001b[0;34m=\u001b[0m \u001b[0;36m20\u001b[0m\u001b[0;34m\u001b[0m\u001b[0m\n\u001b[0m\u001b[1;32m     11\u001b[0m     )\n\u001b[1;32m     12\u001b[0m \u001b[0mwickets\u001b[0m \u001b[0;34m=\u001b[0m \u001b[0mallwickets\u001b[0m\u001b[0;34m.\u001b[0m\u001b[0mTeam\u001b[0m\u001b[0;34m.\u001b[0m\u001b[0munique\u001b[0m\u001b[0;34m(\u001b[0m\u001b[0;34m)\u001b[0m\u001b[0;34m\u001b[0m\u001b[0m\n",
      "\u001b[0;31mTypeError\u001b[0m: plot_bar_group_count() missing 1 required positional argument: 'title'"
     ]
    },
    {
     "data": {
      "text/plain": [
       "<function __main__.industryfunc>"
      ]
     },
     "execution_count": 92,
     "metadata": {},
     "output_type": "execute_result"
    },
    {
     "data": {
      "text/plain": [
       "<matplotlib.figure.Figure at 0x11a2f2b70>"
      ]
     },
     "metadata": {},
     "output_type": "display_data"
    }
   ],
   "source": [
    "def industryfunc(x):\n",
    "    teamNameWickets = allwickets[allwickets['Team'] == x]\n",
    "    name = \"Wickets in \" + x\n",
    "    plt.figure(figsize=(10, 10))\n",
    "    plotting.plot_bar_group_count(\n",
    "        teamNameWickets, \n",
    "        'Bowler', \n",
    "        name,\n",
    "        wrap_chars = 20\n",
    "    )\n",
    "wickets = allwickets.Team.unique()\n",
    "wickets = wickets.tolist()\n",
    "\n",
    "interact(industryfunc, x=wickets)"
   ]
  },
  {
   "cell_type": "code",
   "execution_count": null,
   "metadata": {
    "collapsed": true
   },
   "outputs": [],
   "source": [
    "# Top Run Scorers\n",
    "def getBattingTeam(row):\n",
    "    record = allBatsmen[allBatsmen['Striker'] == row.name]\n",
    "    temp = record['Batting Team']\n",
    "    temp = temp.values \n",
    "    return temp\n",
    "\n",
    "allBatsmen = IPLData.drop_duplicates(subset = 'Striker')\n",
    "allruns = IPLData.groupby(['Striker'])['Runs'].sum()\n",
    "allruns = pd.Series.to_frame(allruns)\n",
    "allruns.insert(1,'Team',None)\n",
    "allruns = allruns.sort_values('Runs',ascending =0)\n",
    "allruns['Team'] = allruns.apply(getBattingTeam, axis=1)\n",
    "allruns"
   ]
  },
  {
   "cell_type": "code",
   "execution_count": null,
   "metadata": {
    "collapsed": true
   },
   "outputs": [],
   "source": [
    "# Total Team Runs\n",
    "teamruns = IPLData.groupby(['Batting Team'])['Runs'].sum()\n",
    "teamruns = pd.Series.to_frame(teamruns)\n",
    "teamruns = teamruns.sort_values('Runs',ascending = 0)\n",
    "teamruns"
   ]
  },
  {
   "cell_type": "code",
   "execution_count": null,
   "metadata": {
    "collapsed": true
   },
   "outputs": [],
   "source": [
    "# Total Team Extras\n",
    "teamextras = IPLData.groupby(['Batting Team'])['Extras'].sum()\n",
    "teamextras = pd.Series.to_frame(teamextras)\n",
    "teamextras = teamextras.sort_values('Extras',ascending = 0)\n",
    "teamextras"
   ]
  },
  {
   "cell_type": "code",
   "execution_count": null,
   "metadata": {
    "collapsed": true
   },
   "outputs": [],
   "source": [
    "# Total Team Wickets\n",
    "teamwickets = IPLData[((IPLData['How Out'] != '-'))]\n",
    "teamwickets = teamwickets['Bowling Team'].value_counts()\n",
    "teamwickets = pd.Series.to_frame(teamwickets)\n",
    "teamwickets = teamwickets.sort_values('Bowling Team',ascending = 0)\n",
    "teamwickets"
   ]
  },
  {
   "cell_type": "code",
   "execution_count": null,
   "metadata": {
    "collapsed": true
   },
   "outputs": [],
   "source": [
    "#number of wins per team \n",
    "allwins = IPLData.drop_duplicates(subset = 'Match Number')\n",
    "teamwins = allwins['Winner'].value_counts()\n",
    "teamwins = pd.Series.to_frame(teamwins)\n",
    "teamwins['Winner'].rename('Wins')\n",
    "teamwins = teamwins.rename(columns = {'Batting Team':'Wins'})\n",
    "teamwins"
   ]
  },
  {
   "cell_type": "code",
   "execution_count": null,
   "metadata": {
    "collapsed": true,
    "deletable": true,
    "editable": true
   },
   "outputs": [],
   "source": [
    "#Wins By Batting First or second \n",
    "allwins = IPLData.drop_duplicates(subset = 'Match Number')\n",
    "winsBattingFirst = allwins[(allwins['Innings'] == 1 & (allwins['Winner'] == allwins['Batting Team'])) | (allwins['Innings'] == 2 & (allwins['Winner'] == allwins['Bowling Team']))]\n",
    "winsBattingFirst = winsBattingFirst['Winner'].value_counts()\n",
    "winsBattingFirst = pd.Series.to_frame(winsBattingFirst)\n",
    "winsBattingFirst['Won Batting Second'] = allwins['Winner'][(allwins['Innings'] == 1 & (allwins['Winner'] == allwins['Bowling Team'])) | (allwins['Innings'] == 2 & (allwins['Winner'] == allwins['Batting Team']))].value_counts()\n",
    "winsBattingFirst = winsBattingFirst.rename(columns = {'Winner':'Won Batting First'})\n",
    "winsBattingFirst"
   ]
  },
  {
   "cell_type": "markdown",
   "metadata": {
    "deletable": true,
    "editable": true
   },
   "source": [
    "Here Follows Testing Code (ignore unless you notice snippets of code you want to use i.e ipywidgets): "
   ]
  },
  {
   "cell_type": "code",
   "execution_count": null,
   "metadata": {
    "collapsed": false,
    "deletable": true,
    "editable": true
   },
   "outputs": [],
   "source": [
    "newdf = df\n",
    "newdf"
   ]
  },
  {
   "cell_type": "code",
   "execution_count": null,
   "metadata": {
    "collapsed": false,
    "deletable": true,
    "editable": true
   },
   "outputs": [],
   "source": [
    "#for index, row in newdf.iterrows():\n",
    " #   newdf.set_value('Residence Type', index, 10)\n",
    "    #print(str(row['Residence Type']))\n",
    "#newdf\n",
    "newdf.loc[0,'Residence Type'] = 10"
   ]
  },
  {
   "cell_type": "code",
   "execution_count": null,
   "metadata": {
    "collapsed": false,
    "deletable": true,
    "editable": true
   },
   "outputs": [],
   "source": [
    "newdf"
   ]
  },
  {
   "cell_type": "code",
   "execution_count": null,
   "metadata": {
    "collapsed": false,
    "deletable": true,
    "editable": true
   },
   "outputs": [],
   "source": [
    "for column in newdf:\n",
    "    print(column)"
   ]
  },
  {
   "cell_type": "code",
   "execution_count": null,
   "metadata": {
    "collapsed": false,
    "deletable": true,
    "editable": true
   },
   "outputs": [],
   "source": [
    "for index, row in newdf.iterrows():\n",
    "    #print(str(row))"
   ]
  },
  {
   "cell_type": "code",
   "execution_count": null,
   "metadata": {
    "collapsed": false,
    "deletable": true,
    "editable": true
   },
   "outputs": [],
   "source": [
    "row = 0\n",
    "column = 'Residence Type'\n",
    "df.loc[row,column] = 10\n",
    "df"
   ]
  },
  {
   "cell_type": "code",
   "execution_count": null,
   "metadata": {
    "collapsed": false,
    "deletable": true,
    "editable": true
   },
   "outputs": [],
   "source": [
    "#funcname = lambda x: x = 10\n",
    "\n",
    "df[\"Residence Type\"].apply(lambda x: str(x).lower())\n",
    "\n",
    "# for column in df:\n",
    "#     print(column)\n",
    "#     if (column == 'Residence Type'):\n",
    "        \n",
    "df"
   ]
  },
  {
   "cell_type": "code",
   "execution_count": null,
   "metadata": {
    "collapsed": false,
    "deletable": true,
    "editable": true
   },
   "outputs": [],
   "source": [
    "easy11 = df.groupby(['Region','Industry'])['Person ID'].count()"
   ]
  },
  {
   "cell_type": "code",
   "execution_count": null,
   "metadata": {
    "collapsed": false,
    "deletable": true,
    "editable": true
   },
   "outputs": [],
   "source": [
    "easy11 = df"
   ]
  },
  {
   "cell_type": "code",
   "execution_count": null,
   "metadata": {
    "collapsed": false,
    "deletable": true,
    "editable": true
   },
   "outputs": [],
   "source": [
    "#easy11 = pd.Series.to_frame(easy11)\n",
    "#pd.crosstab(easy1['Region'], easy1['Industry'])\n",
    "easy11 = df.groupby('Region').agg({\"Industry\":})"
   ]
  },
  {
   "cell_type": "code",
   "execution_count": null,
   "metadata": {
    "collapsed": false,
    "deletable": true,
    "editable": true
   },
   "outputs": [],
   "source": [
    "easy11"
   ]
  },
  {
   "cell_type": "code",
   "execution_count": null,
   "metadata": {
    "collapsed": false,
    "deletable": true,
    "editable": true
   },
   "outputs": [],
   "source": [
    "easy11 = df.groupby(['Region','Industry'])['Person ID'].count()\n",
    "easy11 = pd.Series.to_frame(easy11)\n",
    "easy11.columns.values[0] = 'Counts'\n",
    "easy11"
   ]
  },
  {
   "cell_type": "code",
   "execution_count": null,
   "metadata": {
    "collapsed": false,
    "deletable": true,
    "editable": true
   },
   "outputs": [],
   "source": [
    "easy12 = df.groupby(['Occupation','Approximated Social Grade'])['Person ID'].count()\n",
    "easy12 = pd.Series.to_frame(easy12)\n",
    "easy12.columns.values[0] = 'Counts'\n",
    "easy12"
   ]
  },
  {
   "cell_type": "code",
   "execution_count": null,
   "metadata": {
    "collapsed": false,
    "deletable": true,
    "editable": true
   },
   "outputs": [],
   "source": [
    "pd.crosstab(df['Occupation'], df['Approximated Social Grade'])"
   ]
  },
  {
   "cell_type": "code",
   "execution_count": null,
   "metadata": {
    "collapsed": false,
    "deletable": true,
    "editable": true
   },
   "outputs": [],
   "source": [
    "pd.crosstab(df['Region'], df['Industry'])"
   ]
  },
  {
   "cell_type": "code",
   "execution_count": 3,
   "metadata": {
    "collapsed": true,
    "deletable": true,
    "editable": true
   },
   "outputs": [],
   "source": [
    "from __future__ import print_function\n",
    "from ipywidgets import interact, interactive, fixed, interact_manual\n",
    "import ipywidgets as widgets"
   ]
  },
  {
   "cell_type": "code",
   "execution_count": 4,
   "metadata": {
    "collapsed": true,
    "deletable": true,
    "editable": true
   },
   "outputs": [],
   "source": [
    "def f(x):\n",
    "    return x"
   ]
  },
  {
   "cell_type": "code",
   "execution_count": 11,
   "metadata": {
    "collapsed": false,
    "deletable": true,
    "editable": true
   },
   "outputs": [
    {
     "data": {
      "text/plain": [
       "6"
      ]
     },
     "metadata": {},
     "output_type": "display_data"
    }
   ],
   "source": [
    "interact(f, x=10)"
   ]
  },
  {
   "cell_type": "code",
   "execution_count": 24,
   "metadata": {
    "collapsed": false
   },
   "outputs": [
    {
     "data": {
      "image/png": "[encoded data removed]",
      "text/plain": [
       "<matplotlib.figure.Figure at 0x119fcda90>"
      ]
     },
     "metadata": {
      "image/png": {
       "height": 826,
       "width": 1092
      }
     },
     "output_type": "display_data"
    }
   ],
   "source": [
    "plt.figure(figsize=(12, 9))\n",
    "plotting.plot_bar_group_count(\n",
    "    newdf,\n",
    "    'Region',\n",
    "    'Frequencies of Resident Regions in 2011 Census',\n",
    ")\n",
    "plt.show()"
   ]
  },
  {
   "cell_type": "code",
   "execution_count": 35,
   "metadata": {
    "collapsed": false
   },
   "outputs": [
    {
     "data": {
      "text/plain": [
       "<function __main__.f>"
      ]
     },
     "execution_count": 35,
     "metadata": {},
     "output_type": "execute_result"
    },
    {
     "data": {
      "image/png": "[encoded data removed]",
      "text/plain": [
       "<matplotlib.figure.Figure at 0x11b76f588>"
      ]
     },
     "metadata": {
      "image/png": {
       "height": 356,
       "width": 510
      }
     },
     "output_type": "display_data"
    }
   ],
   "source": [
    "def f(n):\n",
    "    plt.plot([0,1,2],[0,1,n])\n",
    "interact(f,n=(0,10))"
   ]
  },
  {
   "cell_type": "code",
   "execution_count": 5,
   "metadata": {
    "collapsed": false,
    "deletable": true,
    "editable": true
   },
   "outputs": [
    {
     "data": {
      "text/plain": [
       "True"
      ]
     },
     "metadata": {},
     "output_type": "display_data"
    },
    {
     "data": {
      "text/plain": [
       "<function __main__.f>"
      ]
     },
     "execution_count": 5,
     "metadata": {},
     "output_type": "execute_result"
    }
   ],
   "source": [
    "interact(f, x=True)"
   ]
  },
  {
   "cell_type": "code",
   "execution_count": 60,
   "metadata": {
    "collapsed": false,
    "deletable": true,
    "editable": true
   },
   "outputs": [
    {
     "data": {
      "image/png": "[encoded data removed]",
      "text/plain": [
       "<matplotlib.figure.Figure at 0x11b5c8588>"
      ]
     },
     "metadata": {
      "image/png": {
       "height": 908,
       "width": 1003
      }
     },
     "output_type": "display_data"
    }
   ],
   "source": [
    "def industryfunc(x,y):\n",
    "    temp = newdf[(newdf['Region'] == x) & (newdf['Age'] == y)]\n",
    "    name = \"Industry count of ages \" + y +\" in \" + x\n",
    "    plt.figure(figsize=(10, 10))\n",
    "    plotting.plot_bar_group_count(\n",
    "        temp, \n",
    "        'Industry', \n",
    "        name,\n",
    "        wrap_chars = 20\n",
    "    )\n",
    "regionvalues = newdf.Region.unique()\n",
    "regionvalues = regionvalues.tolist()\n",
    "\n",
    "agevalues = newdf.Age.unique()\n",
    "agevalues = agevalues.tolist()\n",
    "\n",
    "interact(industryfunc, x=regionvalues,y=(agevalues))"
   ]
  },
  {
   "cell_type": "code",
   "execution_count": null,
   "metadata": {
    "collapsed": false,
    "deletable": true,
    "editable": true
   },
   "outputs": [],
   "source": [
    "print(1)"
   ]
  },
  {
   "cell_type": "code",
   "execution_count": null,
   "metadata": {
    "collapsed": false,
    "deletable": true,
    "editable": true
   },
   "outputs": [],
   "source": [
    "len(df)"
   ]
  },
  {
   "cell_type": "code",
   "execution_count": null,
   "metadata": {
    "collapsed": false,
    "deletable": true,
    "editable": true
   },
   "outputs": [],
   "source": [
    "ea = df[df[\"Economic Activity\"].isin(range(0, 5))]"
   ]
  },
  {
   "cell_type": "code",
   "execution_count": null,
   "metadata": {
    "collapsed": false,
    "deletable": true,
    "editable": true
   },
   "outputs": [],
   "source": [
    "easy21 = pd.crosstab(index = (ea)['Region'], columns = 'count')\n",
    "easy21"
   ]
  },
  {
   "cell_type": "code",
   "execution_count": null,
   "metadata": {
    "collapsed": false,
    "deletable": true,
    "editable": true
   },
   "outputs": [],
   "source": [
    "easy22 = pd.crosstab(index = (ea)['Age'], columns = 'count')\n",
    "easy22"
   ]
  },
  {
   "cell_type": "code",
   "execution_count": null,
   "metadata": {
    "collapsed": false,
    "deletable": true,
    "editable": true
   },
   "outputs": [],
   "source": [
    "#counting the number of records\n",
    "print(\"number of records = \" + str(df['Person ID'].count()))"
   ]
  },
  {
   "cell_type": "code",
   "execution_count": null,
   "metadata": {
    "collapsed": false,
    "deletable": true,
    "editable": true
   },
   "outputs": [],
   "source": [
    "df['Residence Type'].value_counts()"
   ]
  },
  {
   "cell_type": "code",
   "execution_count": null,
   "metadata": {
    "collapsed": true,
    "deletable": true,
    "editable": true
   },
   "outputs": [],
   "source": [
    "print(str(df.groupby('Economic Activity')))"
   ]
  }
 ],
 "metadata": {
  "anaconda-cloud": {},
  "kernelspec": {
   "display_name": "Python [default]",
   "language": "python",
   "name": "python3"
  },
  "language_info": {
   "codemirror_mode": {
    "name": "ipython",
    "version": 3
   },
   "file_extension": ".py",
   "mimetype": "text/x-python",
   "name": "python",
   "nbconvert_exporter": "python",
   "pygments_lexer": "ipython3",
   "version": "3.5.2"
  },
  "widgets": {
   "state": {
    "07939c511df44819a13f6670e14f30c2": {
     "views": [
      {
       "cell_index": 28
      }
     ]
    },
    "3ce6972f1e574b92baeb6a60eb6607bb": {
     "views": [
      {
       "cell_index": 39
      }
     ]
    },
    "a6bfbe2fa15c4890b74e28812834f326": {
     "views": [
      {
       "cell_index": 64
      }
     ]
    },
    "e57f20fdf5e34af7b57d2bf6d7052869": {
     "views": [
      {
       "cell_index": 62
      }
     ]
    },
    "ef5b45c561364eeda3f1273a945ff977": {
     "views": [
      {
       "cell_index": 63
      }
     ]
    }
   },
   "version": "1.2.0"
  }
 },
 "nbformat": 4,
 "nbformat_minor": 0
}
