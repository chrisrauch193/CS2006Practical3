{
 "cells": [
  {
   "cell_type": "markdown",
   "metadata": {
    "deletable": true,
    "editable": true
   },
   "source": [
    "This is the Import statements required for the data"
   ]
  },
  {
   "cell_type": "code",
   "execution_count": null,
   "metadata": {
    "collapsed": true,
    "deletable": true,
    "editable": true
   },
   "outputs": [],
   "source": [
    "%matplotlib inline\n",
    "%config InlineBackend.figure_format = 'retina'\n",
    "import pandas as pd\n",
    "import matplotlib as mpl\n",
    "import matplotlib.pyplot as plt\n",
    "plt.style.use('ggplot')\n",
    "pd.Series.__unicode__ = pd.Series.to_string\n",
    "import numpy as np\n",
    "from __future__ import print_function\n",
    "from ipywidgets import interact, interactive, fixed, interact_manual\n",
    "import ipywidgets as widgets"
   ]
  },
  {
   "cell_type": "code",
   "execution_count": null,
   "metadata": {
    "collapsed": false,
    "deletable": true,
    "editable": true
   },
   "outputs": [],
   "source": [
    "import plotting"
   ]
  },
  {
   "cell_type": "code",
   "execution_count": null,
   "metadata": {
    "collapsed": true,
    "deletable": true,
    "editable": true
   },
   "outputs": [],
   "source": [
    "import copy"
   ]
  },
  {
   "cell_type": "code",
   "execution_count": null,
   "metadata": {
    "collapsed": true
   },
   "outputs": [],
   "source": [
    "import getDataFrameExtended as getdata"
   ]
  },
  {
   "cell_type": "code",
   "execution_count": null,
   "metadata": {
    "collapsed": true,
    "deletable": true,
    "editable": true
   },
   "outputs": [],
   "source": [
    "import utils"
   ]
  },
  {
   "cell_type": "code",
   "execution_count": null,
   "metadata": {
    "collapsed": false,
    "deletable": true,
    "editable": true
   },
   "outputs": [],
   "source": [
    "df=pd.read_csv(\"./census2011.csv\")"
   ]
  },
  {
   "cell_type": "code",
   "execution_count": null,
   "metadata": {
    "collapsed": true,
    "deletable": true,
    "editable": true
   },
   "outputs": [],
   "source": [
    "newdf = copy.deepcopy(df)\n",
    "for field in newdf:\n",
    "    newdf[field] = newdf[field].apply(lambda value: utils.data_translation(field,value))"
   ]
  },
  {
   "cell_type": "markdown",
   "metadata": {
    "deletable": true,
    "editable": true
   },
   "source": [
    "Basic Requirement Number 2"
   ]
  },
  {
   "cell_type": "code",
   "execution_count": null,
   "metadata": {
    "collapsed": false,
    "deletable": true,
    "editable": true
   },
   "outputs": [],
   "source": [
    "#Basic Requirement 2.1\n",
    "print(\"The number of records is \" + str(len(df)))"
   ]
  },
  {
   "cell_type": "code",
   "execution_count": null,
   "metadata": {
    "collapsed": false,
    "deletable": true,
    "editable": true
   },
   "outputs": [],
   "source": [
    "#Basic Requirement 2.2\n",
    "print(\"All Data Types:\\n\" + str(df.dtypes))"
   ]
  },
  {
   "cell_type": "code",
   "execution_count": null,
   "metadata": {
    "collapsed": false,
    "deletable": true,
    "editable": true,
    "scrolled": true
   },
   "outputs": [],
   "source": [
    "#Basic Requirement 2.3\n",
    "for column in newdf:\n",
    "    if (column != \"Person ID\"):\n",
    "        print(str(column)+ \" Counts\\n\" +str(newdf[column].value_counts()) + \"\\n\")"
   ]
  },
  {
   "cell_type": "markdown",
   "metadata": {
    "deletable": true,
    "editable": true
   },
   "source": [
    "Plotting Graph Basic Requirements 3"
   ]
  },
  {
   "cell_type": "code",
   "execution_count": null,
   "metadata": {
    "collapsed": false,
    "deletable": true,
    "editable": true
   },
   "outputs": [],
   "source": [
    "# Number of Records per region\n",
    "plt.figure(figsize=(12, 9))\n",
    "plotting.plot_bar_group_count(\n",
    "    newdf,\n",
    "    'Region',\n",
    "    'Frequencies of Resident Regions in 2011 Census',\n",
    ")\n",
    "plt.show()"
   ]
  },
  {
   "cell_type": "code",
   "execution_count": null,
   "metadata": {
    "collapsed": false,
    "deletable": true,
    "editable": true
   },
   "outputs": [],
   "source": [
    "# Number of records per occupation\n",
    "plt.figure(figsize=(15, 9))\n",
    "plotting.plot_bar_group_count(\n",
    "    newdf,\n",
    "    'Occupation',\n",
    "    'Frequencies of Resident Occupations in 2011 Census',\n",
    ")"
   ]
  },
  {
   "cell_type": "code",
   "execution_count": null,
   "metadata": {
    "collapsed": false,
    "deletable": true,
    "editable": true
   },
   "outputs": [],
   "source": [
    "#Pie Chart for Distrubition of the sample by age\n",
    "plt.figure(figsize=(12, 9))\n",
    "plotting.plot_pie_group_count(\n",
    "    newdf,\n",
    "    'Age',\n",
    "    'Proportions of Resident Ages in 2011 Census',\n",
    ")"
   ]
  },
  {
   "cell_type": "code",
   "execution_count": null,
   "metadata": {
    "collapsed": false,
    "deletable": true,
    "editable": true
   },
   "outputs": [],
   "source": [
    "#Pie Chart for Distrubition of the sample by economic activity\n",
    "plt.figure(figsize=(12, 9))\n",
    "plotting.plot_pie_group_count(\n",
    "    newdf,\n",
    "    'Economic Activity',\n",
    "    'Proportions of Resident Economic Activity in 2011 Census',\n",
    ")"
   ]
  },
  {
   "cell_type": "markdown",
   "metadata": {
    "deletable": true,
    "editable": true
   },
   "source": [
    "Easy Extension 1"
   ]
  },
  {
   "cell_type": "code",
   "execution_count": null,
   "metadata": {
    "collapsed": false,
    "deletable": true,
    "editable": true
   },
   "outputs": [],
   "source": [
    "#Easy Extension 1 part 1 Using crosstab\n",
    "dfeasy11 = pd.crosstab(newdf['Region'], newdf['Industry'])\n",
    "dfeasy11"
   ]
  },
  {
   "cell_type": "code",
   "execution_count": null,
   "metadata": {
    "collapsed": false,
    "deletable": true,
    "editable": true
   },
   "outputs": [],
   "source": [
    "#Easy Extension 1 part 2 using crosstab\n",
    "dfeasy12 = pd.crosstab(newdf['Occupation'], newdf['Approximated Social Grade'])\n",
    "dfeasy12"
   ]
  },
  {
   "cell_type": "code",
   "execution_count": null,
   "metadata": {
    "collapsed": false,
    "deletable": true,
    "editable": true
   },
   "outputs": [],
   "source": [
    "#Easy 1 part 1 using GroupBy\n",
    "easy11 = newdf.groupby(['Region','Industry'])['Person ID'].count()\n",
    "easy11 = pd.Series.to_frame(easy11)\n",
    "easy11.columns.values[0] = 'Counts'\n",
    "easy11"
   ]
  },
  {
   "cell_type": "code",
   "execution_count": null,
   "metadata": {
    "collapsed": false,
    "deletable": true,
    "editable": true
   },
   "outputs": [],
   "source": [
    "#Easy 1 part 2 using GroupBy\n",
    "easy12 = newdf.groupby(['Occupation','Approximated Social Grade'])['Person ID'].count()\n",
    "easy12 = pd.Series.to_frame(easy12)\n",
    "easy12.columns.values[0] = 'Counts'\n",
    "easy12"
   ]
  },
  {
   "cell_type": "markdown",
   "metadata": {
    "deletable": true,
    "editable": true
   },
   "source": [
    "Easy Extension 2 Parts 1 and 2 -Part 3 was filtered in the Dataset to begin with"
   ]
  },
  {
   "cell_type": "code",
   "execution_count": null,
   "metadata": {
    "collapsed": false,
    "deletable": true,
    "editable": true
   },
   "outputs": [],
   "source": [
    "#Filtering the Dataset to be economic code from 1-4\n",
    "ea = df[df[\"Economic Activity\"].isin(range(1, 5))]\n",
    "ea = copy.deepcopy(ea)\n",
    "utils.translate(ea)"
   ]
  },
  {
   "cell_type": "code",
   "execution_count": null,
   "metadata": {
    "collapsed": false,
    "deletable": true,
    "editable": true
   },
   "outputs": [],
   "source": [
    "# Easy 2 Part 1 using CrossTab\n",
    "easy21 = pd.crosstab(index = (ea)['Region'], columns = 'count')\n",
    "easy21 = easy21.sort_values(['count'],ascending = 0)\n",
    "easy21"
   ]
  },
  {
   "cell_type": "code",
   "execution_count": null,
   "metadata": {
    "collapsed": false,
    "deletable": true,
    "editable": true
   },
   "outputs": [],
   "source": [
    "# Easy 2 Part 2 using CrossTab\n",
    "easy22 = pd.crosstab(index = (ea)['Age'], columns = 'count')\n",
    "easy22 = easy22.sort_values(['count'],ascending = 0)\n",
    "easy22"
   ]
  },
  {
   "cell_type": "code",
   "execution_count": null,
   "metadata": {
    "collapsed": true,
    "deletable": true,
    "editable": true
   },
   "outputs": [],
   "source": []
  },
  {
   "cell_type": "markdown",
   "metadata": {},
   "source": [
    "ipywidgets "
   ]
  },
  {
   "cell_type": "code",
   "execution_count": null,
   "metadata": {
    "collapsed": false
   },
   "outputs": [],
   "source": [
    "def industryfunc(Region,Age):\n",
    "    temp = newdf[(newdf['Region'] == Region) & (newdf['Age'] == Age)]\n",
    "    name = \"Industry count of ages \" + Age +\" in \" + Region\n",
    "    plt.figure(figsize=(10, 10))\n",
    "    plotting.plot_bar_group_count(\n",
    "        temp, \n",
    "        'Industry', \n",
    "        name,\n",
    "        wrap_chars = 20\n",
    "    )\n",
    "regionvalues = newdf.Region.unique()\n",
    "regionvalues = regionvalues.tolist()\n",
    "\n",
    "agevalues = newdf.Age.unique()\n",
    "agevalues = agevalues.tolist()\n",
    "\n",
    "interact(industryfunc, Region=regionvalues,Age=(agevalues))"
   ]
  },
  {
   "cell_type": "markdown",
   "metadata": {},
   "source": [
    "Extension analysis of the dataset"
   ]
  },
  {
   "cell_type": "code",
   "execution_count": null,
   "metadata": {
    "collapsed": true
   },
   "outputs": [],
   "source": [
    "IPLData = getdata.getData()"
   ]
  },
  {
   "cell_type": "code",
   "execution_count": null,
   "metadata": {
    "collapsed": false
   },
   "outputs": [],
   "source": [
    "IPLData"
   ]
  },
  {
   "cell_type": "code",
   "execution_count": null,
   "metadata": {
    "collapsed": false
   },
   "outputs": [],
   "source": [
    "#Number of each type of Runs by ball for each venue\n",
    "numGameAtVenue = IPLData.drop_duplicates('Match Number')['Venue'].value_counts()\n",
    "numGameAtVenue\n",
    "def getNoGames(row):\n",
    "    venueCount = numGameAtVenue.index == row.name\n",
    "    venueCount = numGameAtVenue[list(venueCount).index(True)]\n",
    "    temp = (row / venueCount)\n",
    "    return temp.astype(int)\n",
    "\n",
    "Total_Runs = IPLData['Runs'] + IPLData['Extras']\n",
    "Total_Runs = Total_Runs.rename('No. Of Runs on Ball')\n",
    "Total_Runs = pd.crosstab(IPLData['Venue'],Total_Runs)\n",
    "Total_Runs = Total_Runs.apply(getNoGames,axis =1)\n",
    "del Total_Runs[7]\n",
    "Total_Runs"
   ]
  },
  {
   "cell_type": "code",
   "execution_count": null,
   "metadata": {
    "collapsed": false
   },
   "outputs": [],
   "source": [
    "def FrequencyOfRunsStadiumFunc(Balls_Per_Venue):\n",
    "    stadia = Total_Runs.loc[Balls_Per_Venue]\n",
    "    stadia = pd.DataFrame(stadia)\n",
    "    BallStadiumGraph = stadia.plot(kind =\"Barh\",legend = False,figsize=(8,5),title = \"Averge number of times all runs were made per game \\nat \"+ Balls_Per_Venue)\n",
    "    BallStadiumGraph.set_xlabel(\"Average Number of Occurrences per Game\")\n",
    "    BallStadiumGraph.set_ylabel(\"Runs\")\n",
    "    \n",
    "stadiaRuns = list(Total_Runs.index)\n",
    "interact(FrequencyOfRunsStadiumFunc, Balls_Per_Venue=stadiaRuns)"
   ]
  },
  {
   "cell_type": "code",
   "execution_count": null,
   "metadata": {
    "collapsed": false
   },
   "outputs": [],
   "source": [
    "def stadiumFunc(Runs_Per_Ball_Per_Game):\n",
    "    stadiumsBall = Total_Runs[int(Runs_Per_Ball_Per_Game)]\n",
    "    stadiumsBallGraph = stadiumsBall.plot(kind =\"Barh\",figsize=(10,7),title = \"Averge number of times \" + Runs_Per_Ball_Per_Game + \" runs were made per game in every stadium\")\n",
    "    stadiumsBallGraph.set_xlabel(\"Average Occurrence per Game\")\n",
    "    stadiumsBallGraph.set_ylabel(\"Stadium\")\n",
    "    \n",
    "stadiaRuns = list(Total_Runs.columns.values)\n",
    "interact(stadiumFunc, Runs_Per_Ball_Per_Game=stadiaRuns)"
   ]
  },
  {
   "cell_type": "code",
   "execution_count": null,
   "metadata": {
    "collapsed": false
   },
   "outputs": [],
   "source": [
    "#Number of each type of Runs by ball for each ball\n",
    "totalRuns = IPLData['Runs'] + IPLData['Extras']\n",
    "totalRuns = totalRuns.rename('No. Of Runs on Ball')\n",
    "NumberRunsByBall = pd.crosstab(IPLData['Ball No.'],totalRuns)\n",
    "NumberRunsByBall"
   ]
  },
  {
   "cell_type": "code",
   "execution_count": null,
   "metadata": {
    "collapsed": false
   },
   "outputs": [],
   "source": [
    "def OverNum(Over_Number):\n",
    "    OverRuns = NumberRunsByBall[(NumberRunsByBall.index < Over_Number) & (NumberRunsByBall.index>(Over_Number-1))]\n",
    "    del OverRuns[7]\n",
    "    OverRunsGraph = OverRuns.plot(kind =\"Barh\",figsize=(12,12),title = \"Frequency of Run Type for each Ball in Over Number \"+ str(Over_Number))\n",
    "    OverRunsGraph.set_xlabel(\"Average Occurrence per Game\")\n",
    "    OverRunsGraph.set_ylabel(\"Balls in Over \"+ str(Over_Number))\n",
    "    OverRunsGraph.legend([\"Dot Ball\",\"One Run\",\"Two Runs\",\"Three Runs\", \"Four Runs\", \"Five Runs\",\"Six Runs\"],loc='center left', bbox_to_anchor=(1.0, 0.5))\n",
    "    OverRunsGraph\n",
    "interact(OverNum, Over_Number=(1,20))"
   ]
  },
  {
   "cell_type": "code",
   "execution_count": null,
   "metadata": {
    "collapsed": false
   },
   "outputs": [],
   "source": [
    "# Runs by innings\n",
    "InningsRuns = IPLData.groupby(['Innings'])['Runs'].sum()\n",
    "InningsRuns = pd.Series.to_frame(InningsRuns)\n",
    "InningsRuns"
   ]
  },
  {
   "cell_type": "code",
   "execution_count": null,
   "metadata": {
    "collapsed": false
   },
   "outputs": [],
   "source": [
    "InningRunsGraph = InningsRuns.plot(kind = \"Barh\",legend = False, figsize=(8,3),title = \"Total Runs per Innings\")\n",
    "InningRunsGraph.set_xlabel(\"Innings Number\")\n",
    "InningRunsGraph.set_ylabel(\"Runs\")\n",
    "InningRunsGraph"
   ]
  },
  {
   "cell_type": "code",
   "execution_count": null,
   "metadata": {
    "collapsed": false
   },
   "outputs": [],
   "source": [
    "# Extras by innings\n",
    "InningsExtras = IPLData.groupby(['Innings'])['Extras'].sum()\n",
    "InningsExtras = pd.Series.to_frame(InningsExtras)\n",
    "InningsExtras"
   ]
  },
  {
   "cell_type": "code",
   "execution_count": null,
   "metadata": {
    "collapsed": false
   },
   "outputs": [],
   "source": [
    "InningExtrasGraph = InningsExtras.plot(kind = \"Barh\",legend = False, figsize=(8,3),title = \"Total Extras per Innings\")\n",
    "InningExtrasGraph.set_xlabel(\"Innings Number\")\n",
    "InningExtrasGraph.set_ylabel(\"Extras\")\n",
    "InningExtrasGraph"
   ]
  },
  {
   "cell_type": "code",
   "execution_count": null,
   "metadata": {
    "collapsed": false
   },
   "outputs": [],
   "source": [
    "# Type of Runs by Teams\n",
    "teamRuns = IPLData['Runs'] + IPLData['Extras']\n",
    "teamRuns = teamRuns.rename('Count of Run Type')\n",
    "teamsRunTypes = pd.crosstab(IPLData['Batting Team'], teamRuns)\n",
    "teamsRunTypes"
   ]
  },
  {
   "cell_type": "code",
   "execution_count": null,
   "metadata": {
    "collapsed": false
   },
   "outputs": [],
   "source": [
    "def frequencyRunTypeFunc(TeamName):\n",
    "    teamRunsFrequency = teamsRunTypes.loc[TeamName]\n",
    "    teamRunsFrequency = pd.DataFrame(teamRunsFrequency)\n",
    "    TeamRunsFrequencyGraph = teamRunsFrequency.plot(kind =\"Barh\",legend = False,figsize=(8,5),title = \"Averge number of times all runs were made by \\n \"+ TeamName)\n",
    "    TeamRunsFrequencyGraph.set_xlabel(\"Total Occurrences\")\n",
    "    TeamRunsFrequencyGraph.set_ylabel(\"Runs\")\n",
    "    \n",
    "teamNames = list(teamsRunTypes.index)\n",
    "interact(frequencyRunTypeFunc, TeamName=teamNames)"
   ]
  },
  {
   "cell_type": "code",
   "execution_count": null,
   "metadata": {
    "collapsed": false
   },
   "outputs": [],
   "source": [
    "def runTypeFunc(RunType):\n",
    "    teamRunTypes = teamsRunTypes[int(RunType)]\n",
    "    teamRunTypesGraph = teamRunTypes.plot(kind =\"Barh\",figsize=(12,7),title = \"Number of times \" + RunType + \" was scored by each team\")\n",
    "    teamRunTypesGraph.set_xlabel(\"Total Occurrences\")\n",
    "    teamRunTypesGraph.set_ylabel(\"Team\")\n",
    "    \n",
    "TeamRunsTypesList = list(teamsRunTypes.columns.values)\n",
    "interact(runTypeFunc, RunType=TeamRunsTypesList)"
   ]
  },
  {
   "cell_type": "code",
   "execution_count": null,
   "metadata": {
    "collapsed": false
   },
   "outputs": [],
   "source": [
    "# Top Wicket Takers in the IPL\n",
    "def getBowlingTeam(row):\n",
    "    record = allBowlers[allBowlers['Bowler'] == row.name]\n",
    "    temp = record['Bowling Team']\n",
    "    temp = temp.values \n",
    "    return temp\n",
    "allBowlers = IPLData.drop_duplicates(subset = 'Bowler')\n",
    "bowlerswickets = IPLData[((IPLData['How Out'] != '-') & (IPLData['How Out'] != 'run out'))]\n",
    "allwickets = bowlerswickets['Bowler'].value_counts()\n",
    "allwickets = pd.Series.to_frame(allwickets)\n",
    "allwickets.insert(1,'Team',None)\n",
    "allwickets = allwickets.sort_values('Bowler',ascending = 0)\n",
    "allwickets['Team'] = allwickets.apply(getBowlingTeam, axis=1)\n",
    "allwickets"
   ]
  },
  {
   "cell_type": "code",
   "execution_count": null,
   "metadata": {
    "collapsed": false
   },
   "outputs": [],
   "source": [
    "def bowlingfunc(Team):\n",
    "    teamNameWickets = bowlerswickets[bowlerswickets['Bowling Team'] == Team]\n",
    "    name = \"Total Wickets in \" + Team\n",
    "    plt.figure(figsize=(10, 7))\n",
    "    plotting.plot_bar_group_count(\n",
    "        teamNameWickets, \n",
    "        'Bowler', \n",
    "        name,\n",
    "        wrap_chars = 20\n",
    "    )\n",
    "wickets = allwickets.Team.unique()\n",
    "wickets = wickets.tolist()\n",
    "\n",
    "interact(bowlingfunc, Team=wickets)"
   ]
  },
  {
   "cell_type": "code",
   "execution_count": null,
   "metadata": {
    "collapsed": false
   },
   "outputs": [],
   "source": [
    "# Top Run Scorers\n",
    "def getBattingTeam(row):\n",
    "    record = allBatsmen[allBatsmen['Striker'] == row.name]\n",
    "    temp = record['Batting Team']\n",
    "    temp = temp.values \n",
    "    return temp\n",
    "\n",
    "allBatsmen = IPLData.drop_duplicates(subset = 'Striker')\n",
    "allruns = IPLData.groupby(['Striker'])['Runs'].sum()\n",
    "allruns = pd.Series.to_frame(allruns)\n",
    "allruns = allruns\n",
    "allruns.insert(1,'Team',None)\n",
    "allruns = allruns.sort_values('Runs',ascending =0)\n",
    "allruns['Team'] = allruns.apply(getBattingTeam, axis=1)\n",
    "allruns"
   ]
  },
  {
   "cell_type": "code",
   "execution_count": null,
   "metadata": {
    "collapsed": false
   },
   "outputs": [],
   "source": [
    "def industryfunc(Team):\n",
    "    teamNameRuns = allruns[allruns['Team'] == Team]\n",
    "    temp = teamNameRuns.plot(kind = \"Barh\",figsize=(7,7),sort_columns = True,title =(\"Highest Run Scorers for \" + Team),legend = False)\n",
    "    temp.set_xlabel(\"Number of Runs Scored\")\n",
    "    temp.set_ylabel(\"Bastmen Name\")\n",
    "    temp\n",
    "    \n",
    "runs = allruns.Team.unique()\n",
    "runs = runs.tolist()\n",
    "\n",
    "interact(industryfunc, Team=runs)"
   ]
  },
  {
   "cell_type": "code",
   "execution_count": null,
   "metadata": {
    "collapsed": false
   },
   "outputs": [],
   "source": [
    "# Total Team Runs\n",
    "teamruns = IPLData.groupby(['Batting Team'])['Runs'].sum()\n",
    "teamruns = pd.Series.to_frame(teamruns)\n",
    "teamruns = teamruns.sort_values('Runs',ascending = 0)\n",
    "teamruns"
   ]
  },
  {
   "cell_type": "code",
   "execution_count": null,
   "metadata": {
    "collapsed": false
   },
   "outputs": [],
   "source": [
    "teamRunsGraph = teamruns.plot(kind = \"barh\",legend = False,title = \"Total Number of Runs by Team\",figsize=(7,4))\n",
    "teamRunsGraph.set_xlabel(\"Number of Runs\")\n",
    "teamRunsGraph.set_ylabel(\"Team\")\n",
    "teamRunsGraph"
   ]
  },
  {
   "cell_type": "code",
   "execution_count": null,
   "metadata": {
    "collapsed": false
   },
   "outputs": [],
   "source": [
    "# Total Team Extras\n",
    "teamextras = IPLData.groupby(['Batting Team'])['Extras'].sum()\n",
    "teamextras = pd.Series.to_frame(teamextras)\n",
    "teamextras = teamextras.sort_values('Extras',ascending = 0)\n",
    "teamextras"
   ]
  },
  {
   "cell_type": "code",
   "execution_count": null,
   "metadata": {
    "collapsed": false
   },
   "outputs": [],
   "source": [
    "teamExtrasGraph = teamextras.plot(kind = \"barh\",legend = False,title = \"Total Number of Extras by Team\",figsize=(7,4))\n",
    "teamExtrasGraph.set_xlabel(\"Number of Extras\")\n",
    "teamExtrasGraph.set_ylabel(\"Team\")\n",
    "teamExtrasGraph"
   ]
  },
  {
   "cell_type": "code",
   "execution_count": null,
   "metadata": {
    "collapsed": false
   },
   "outputs": [],
   "source": [
    "# Total Team Wickets\n",
    "teamwickets = IPLData[((IPLData['How Out'] != '-'))]\n",
    "teamwickets = teamwickets['Bowling Team'].value_counts()\n",
    "teamwickets = pd.Series.to_frame(teamwickets)\n",
    "teamwickets = teamwickets.sort_values('Bowling Team',ascending = 0)\n",
    "teamwickets"
   ]
  },
  {
   "cell_type": "code",
   "execution_count": null,
   "metadata": {
    "collapsed": false
   },
   "outputs": [],
   "source": [
    "teamWicketsGraph = teamwickets.plot(kind = \"barh\",legend = False,title = \"Total Number of Wickets by Team\",figsize=(7,5))\n",
    "teamWicketsGraph.set_xlabel(\"Number of Wickets\")\n",
    "teamWicketsGraph.set_ylabel(\"Team\")\n",
    "teamWicketsGraph"
   ]
  },
  {
   "cell_type": "code",
   "execution_count": null,
   "metadata": {
    "collapsed": false
   },
   "outputs": [],
   "source": [
    "#number of wins per team \n",
    "allwins = IPLData.drop_duplicates(subset = 'Match Number')\n",
    "teamwins = allwins['Winner'].value_counts()\n",
    "teamwins = teamwins.rename('Wins')\n",
    "teamwins = pd.Series.to_frame(teamwins)\n",
    "teamwins = teamwins.rename(columns = {'Batting Team':'Wins'})\n",
    "teamwins"
   ]
  },
  {
   "cell_type": "code",
   "execution_count": null,
   "metadata": {
    "collapsed": false
   },
   "outputs": [],
   "source": [
    "teamWinsGraph = teamwins.plot(kind = \"Barh\",legend = False, title = \"Total Number of Wins by team\",figsize=(8,5))\n",
    "teamWinsGraph.set_xlabel(\"Number of Wins\")\n",
    "teamWinsGraph.set_ylabel(\"Team\")"
   ]
  },
  {
   "cell_type": "code",
   "execution_count": null,
   "metadata": {
    "collapsed": false,
    "deletable": true,
    "editable": true
   },
   "outputs": [],
   "source": [
    "#Wins By Batting First or second \n",
    "allwins = IPLData.drop_duplicates(subset = 'Match Number')\n",
    "winsBatting = allwins[(allwins['Innings'] == 1 & (allwins['Winner'] == allwins['Batting Team'])) | (allwins['Innings'] == 2 & (allwins['Winner'] == allwins['Bowling Team']))]\n",
    "winsBatting = winsBatting['Winner'].value_counts()\n",
    "winsBatting = pd.Series.to_frame(winsBatting)\n",
    "winsBatting['Won Batting Second'] = allwins['Winner'][(allwins['Innings'] == 1 & (allwins['Winner'] == allwins['Bowling Team'])) | (allwins['Innings'] == 2 & (allwins['Winner'] == allwins['Batting Team']))].value_counts()\n",
    "winsBatting = winsBatting.rename(columns = {'Winner':'Won Batting First'})\n",
    "winsBatting"
   ]
  },
  {
   "cell_type": "code",
   "execution_count": null,
   "metadata": {
    "collapsed": false
   },
   "outputs": [],
   "source": [
    "winsBattingGraph = winsBatting.plot(kind = \"Barh\",legend = False,figsize=(10,8), title = \"Number of wins by Batting First Vs Batting Second\")\n",
    "winsBattingGraph.set_xlabel(\"Number of Wins\")\n",
    "winsBattingGraph.set_ylabel(\"Team\")\n",
    "winsBattingGraph.legend([\"Batting First Wins\",\"Batting Second Wins\"],loc='center left', bbox_to_anchor=(1.0, 0.5))\n",
    "winsBattingGraph"
   ]
  },
  {
   "cell_type": "markdown",
   "metadata": {
    "deletable": true,
    "editable": true
   },
   "source": [
    "Here Follows Testing Code (ignore unless you notice snippets of code you want to use i.e ipywidgets): "
   ]
  },
  {
   "cell_type": "code",
   "execution_count": null,
   "metadata": {
    "collapsed": false,
    "deletable": true,
    "editable": true
   },
   "outputs": [],
   "source": [
    "newdf = df\n",
    "newdf"
   ]
  },
  {
   "cell_type": "code",
   "execution_count": null,
   "metadata": {
    "collapsed": false,
    "deletable": true,
    "editable": true
   },
   "outputs": [],
   "source": [
    "#for index, row in newdf.iterrows():\n",
    " #   newdf.set_value('Residence Type', index, 10)\n",
    "    #print(str(row['Residence Type']))\n",
    "#newdf\n",
    "newdf.loc[0,'Residence Type'] = 10"
   ]
  },
  {
   "cell_type": "code",
   "execution_count": null,
   "metadata": {
    "collapsed": false,
    "deletable": true,
    "editable": true
   },
   "outputs": [],
   "source": [
    "newdf"
   ]
  },
  {
   "cell_type": "code",
   "execution_count": null,
   "metadata": {
    "collapsed": false,
    "deletable": true,
    "editable": true
   },
   "outputs": [],
   "source": [
    "for column in newdf:\n",
    "    print(column)"
   ]
  },
  {
   "cell_type": "code",
   "execution_count": null,
   "metadata": {
    "collapsed": false,
    "deletable": true,
    "editable": true
   },
   "outputs": [],
   "source": [
    "for index, row in newdf.iterrows():\n",
    "    #print(str(row))"
   ]
  },
  {
   "cell_type": "code",
   "execution_count": null,
   "metadata": {
    "collapsed": false,
    "deletable": true,
    "editable": true
   },
   "outputs": [],
   "source": [
    "row = 0\n",
    "column = 'Residence Type'\n",
    "df.loc[row,column] = 10\n",
    "df"
   ]
  },
  {
   "cell_type": "code",
   "execution_count": null,
   "metadata": {
    "collapsed": false,
    "deletable": true,
    "editable": true
   },
   "outputs": [],
   "source": [
    "#funcname = lambda x: x = 10\n",
    "\n",
    "df[\"Residence Type\"].apply(lambda x: str(x).lower())\n",
    "\n",
    "# for column in df:\n",
    "#     print(column)\n",
    "#     if (column == 'Residence Type'):\n",
    "        \n",
    "df"
   ]
  },
  {
   "cell_type": "code",
   "execution_count": null,
   "metadata": {
    "collapsed": false,
    "deletable": true,
    "editable": true
   },
   "outputs": [],
   "source": [
    "easy11 = df.groupby(['Region','Industry'])['Person ID'].count()"
   ]
  },
  {
   "cell_type": "code",
   "execution_count": null,
   "metadata": {
    "collapsed": false,
    "deletable": true,
    "editable": true
   },
   "outputs": [],
   "source": [
    "easy11 = df"
   ]
  },
  {
   "cell_type": "code",
   "execution_count": null,
   "metadata": {
    "collapsed": false,
    "deletable": true,
    "editable": true
   },
   "outputs": [],
   "source": [
    "#easy11 = pd.Series.to_frame(easy11)\n",
    "#pd.crosstab(easy1['Region'], easy1['Industry'])\n",
    "easy11 = df.groupby('Region').agg({\"Industry\":})"
   ]
  },
  {
   "cell_type": "code",
   "execution_count": null,
   "metadata": {
    "collapsed": false,
    "deletable": true,
    "editable": true
   },
   "outputs": [],
   "source": [
    "easy11"
   ]
  },
  {
   "cell_type": "code",
   "execution_count": null,
   "metadata": {
    "collapsed": false,
    "deletable": true,
    "editable": true
   },
   "outputs": [],
   "source": [
    "easy11 = df.groupby(['Region','Industry'])['Person ID'].count()\n",
    "easy11 = pd.Series.to_frame(easy11)\n",
    "easy11.columns.values[0] = 'Counts'\n",
    "easy11"
   ]
  },
  {
   "cell_type": "code",
   "execution_count": null,
   "metadata": {
    "collapsed": false,
    "deletable": true,
    "editable": true
   },
   "outputs": [],
   "source": [
    "easy12 = df.groupby(['Occupation','Approximated Social Grade'])['Person ID'].count()\n",
    "easy12 = pd.Series.to_frame(easy12)\n",
    "easy12.columns.values[0] = 'Counts'\n",
    "easy12"
   ]
  },
  {
   "cell_type": "code",
   "execution_count": null,
   "metadata": {
    "collapsed": false,
    "deletable": true,
    "editable": true
   },
   "outputs": [],
   "source": [
    "pd.crosstab(df['Occupation'], df['Approximated Social Grade'])"
   ]
  },
  {
   "cell_type": "code",
   "execution_count": null,
   "metadata": {
    "collapsed": false,
    "deletable": true,
    "editable": true
   },
   "outputs": [],
   "source": [
    "pd.crosstab(df['Region'], df['Industry'])"
   ]
  },
  {
   "cell_type": "code",
   "execution_count": null,
   "metadata": {
    "collapsed": true,
    "deletable": true,
    "editable": true
   },
   "outputs": [],
   "source": [
    "from __future__ import print_function\n",
    "from ipywidgets import interact, interactive, fixed, interact_manual\n",
    "import ipywidgets as widgets"
   ]
  },
  {
   "cell_type": "code",
   "execution_count": null,
   "metadata": {
    "collapsed": true,
    "deletable": true,
    "editable": true
   },
   "outputs": [],
   "source": [
    "def f(x):\n",
    "    return x"
   ]
  },
  {
   "cell_type": "code",
   "execution_count": null,
   "metadata": {
    "collapsed": false,
    "deletable": true,
    "editable": true
   },
   "outputs": [],
   "source": [
    "interact(f, x=10)"
   ]
  },
  {
   "cell_type": "code",
   "execution_count": null,
   "metadata": {
    "collapsed": false
   },
   "outputs": [],
   "source": [
    "plt.figure(figsize=(12, 9))\n",
    "plotting.plot_bar_group_count(\n",
    "    newdf,\n",
    "    'Region',\n",
    "    'Frequencies of Resident Regions in 2011 Census',\n",
    ")\n",
    "plt.show()"
   ]
  },
  {
   "cell_type": "code",
   "execution_count": null,
   "metadata": {
    "collapsed": false
   },
   "outputs": [],
   "source": [
    "def f(n):\n",
    "    plt.plot([0,1,2],[0,1,n])\n",
    "interact(f,n=(0,10))"
   ]
  },
  {
   "cell_type": "code",
   "execution_count": null,
   "metadata": {
    "collapsed": false,
    "deletable": true,
    "editable": true
   },
   "outputs": [],
   "source": [
    "interact(f, x=True)"
   ]
  },
  {
   "cell_type": "code",
   "execution_count": null,
   "metadata": {
    "collapsed": false,
    "deletable": true,
    "editable": true
   },
   "outputs": [],
   "source": [
    "def industryfunc(x,y):\n",
    "    temp = newdf[(newdf['Region'] == x) & (newdf['Age'] == y)]\n",
    "    name = \"Industry count of ages \" + y +\" in \" + x\n",
    "    plt.figure(figsize=(10, 10))\n",
    "    plotting.plot_bar_group_count(\n",
    "        temp, \n",
    "        'Industry', \n",
    "        name,\n",
    "        wrap_chars = 20\n",
    "    )\n",
    "regionvalues = newdf.Region.unique()\n",
    "regionvalues = regionvalues.tolist()\n",
    "\n",
    "agevalues = newdf.Age.unique()\n",
    "agevalues = agevalues.tolist()\n",
    "\n",
    "interact(industryfunc, x=regionvalues,y=(agevalues))"
   ]
  },
  {
   "cell_type": "code",
   "execution_count": null,
   "metadata": {
    "collapsed": false,
    "deletable": true,
    "editable": true
   },
   "outputs": [],
   "source": [
    "print(1)"
   ]
  },
  {
   "cell_type": "code",
   "execution_count": null,
   "metadata": {
    "collapsed": false,
    "deletable": true,
    "editable": true
   },
   "outputs": [],
   "source": [
    "len(df)"
   ]
  },
  {
   "cell_type": "code",
   "execution_count": null,
   "metadata": {
    "collapsed": false,
    "deletable": true,
    "editable": true
   },
   "outputs": [],
   "source": [
    "ea = df[df[\"Economic Activity\"].isin(range(0, 5))]"
   ]
  },
  {
   "cell_type": "code",
   "execution_count": null,
   "metadata": {
    "collapsed": false,
    "deletable": true,
    "editable": true
   },
   "outputs": [],
   "source": [
    "easy21 = pd.crosstab(index = (ea)['Region'], columns = 'count')\n",
    "easy21"
   ]
  },
  {
   "cell_type": "code",
   "execution_count": null,
   "metadata": {
    "collapsed": false,
    "deletable": true,
    "editable": true
   },
   "outputs": [],
   "source": [
    "easy22 = pd.crosstab(index = (ea)['Age'], columns = 'count')\n",
    "easy22"
   ]
  },
  {
   "cell_type": "code",
   "execution_count": null,
   "metadata": {
    "collapsed": false,
    "deletable": true,
    "editable": true
   },
   "outputs": [],
   "source": [
    "#counting the number of records\n",
    "print(\"number of records = \" + str(df['Person ID'].count()))"
   ]
  },
  {
   "cell_type": "code",
   "execution_count": null,
   "metadata": {
    "collapsed": false,
    "deletable": true,
    "editable": true
   },
   "outputs": [],
   "source": [
    "df['Residence Type'].value_counts()"
   ]
  },
  {
   "cell_type": "code",
   "execution_count": null,
   "metadata": {
    "collapsed": true,
    "deletable": true,
    "editable": true
   },
   "outputs": [],
   "source": [
    "print(str(df.groupby('Economic Activity')))"
   ]
  }
 ],
 "metadata": {
  "anaconda-cloud": {},
  "kernelspec": {
   "display_name": "Python [default]",
   "language": "python",
   "name": "python3"
  },
  "language_info": {
   "codemirror_mode": {
    "name": "ipython",
    "version": 3
   },
   "file_extension": ".py",
   "mimetype": "text/x-python",
   "name": "python",
   "nbconvert_exporter": "python",
   "pygments_lexer": "ipython3",
   "version": "3.5.2"
  },
  "widgets": {
   "state": {
    "3d8c2ca5ff374bac80edd7af744a2de3": {
     "views": [
      {
       "cell_index": 36
      }
     ]
    },
    "5a3b018c53614ade8b4da605e1bb6ae1": {
     "views": [
      {
       "cell_index": 33
      }
     ]
    },
    "75dc8be5e5144fa0b8757b684124385b": {
     "views": [
      {
       "cell_index": 34
      }
     ]
    },
    "782da826b33e4ffb81285ec6bf41867b": {
     "views": [
      {
       "cell_index": 28
      }
     ]
    },
    "a42f9416a2644ee790ed98b78d637519": {
     "views": [
      {
       "cell_index": 43
      }
     ]
    },
    "b4a2b1e62a704a788b83a1d288bd751e": {
     "views": [
      {
       "cell_index": 43
      }
     ]
    },
    "be7fe54cda6b4eb6b8db624894209202": {
     "views": [
      {
       "cell_index": 42
      }
     ]
    },
    "ed4247c875dc4e9190f674ab20dab8f5": {
     "views": [
      {
       "cell_index": 45
      }
     ]
    }
   },
   "version": "1.2.0"
  }
 },
 "nbformat": 4,
 "nbformat_minor": 0
}
