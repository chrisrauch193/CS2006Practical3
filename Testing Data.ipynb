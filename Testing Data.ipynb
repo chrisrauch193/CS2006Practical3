{
 "cells": [
  {
   "cell_type": "code",
   "execution_count": null,
   "metadata": {
    "collapsed": true
   },
   "outputs": [],
   "source": [
    "import getDataFrameExtended as getdata"
   ]
  },
  {
   "cell_type": "code",
   "execution_count": null,
   "metadata": {
    "collapsed": false
   },
   "outputs": [],
   "source": [
    "getdata.getData()"
   ]
  },
  {
   "cell_type": "code",
   "execution_count": null,
   "metadata": {
    "collapsed": false
   },
   "outputs": [],
   "source": [
    "import pandas as pd\n",
    "import numpy as np\n",
    "import os\n",
    "import csv"
   ]
  },
  {
   "cell_type": "code",
   "execution_count": null,
   "metadata": {
    "collapsed": false
   },
   "outputs": [],
   "source": [
    "path = './TestingFiles/'\n",
    "filelist = os.listdir(path) \n",
    "frame = pd.DataFrame()\n",
    "Venue =0\n",
    "matchno = 0;\n",
    "for file in filelist:\n",
    "    with open(path+file,\"r\") as f:\n",
    "        csvObj = csv.reader(f)\n",
    "        csvObj = list(csvObj)\n",
    "        matchno = csvObj[7][2]\n",
    "        venue = csvObj[8][2]\n",
    "    df=pd.read_csv(path + file,skiprows =20,names = [\"Type\", \"Innings\", \"Ball No.\", \"Batting Team\", \"Striker\", \"Non - Striker\", \"Bowler\", \"Runs\", \"Extras\", \"How Out\", \"Batsman Out\"])\n",
    "    df.insert(0, 'Match Number', matchno)\n",
    "    df.insert(1,'Venue',venue)\n",
    "    del df['Type']\n",
    "    frame = pd.concat([frame,df], ignore_index=True)\n",
    "frame = frame.replace(np.nan, '-', regex=True)\n",
    "frame"
   ]
  },
  {
   "cell_type": "code",
   "execution_count": null,
   "metadata": {
    "collapsed": true
   },
   "outputs": [],
   "source": []
  },
  {
   "cell_type": "code",
   "execution_count": null,
   "metadata": {
    "collapsed": false
   },
   "outputs": [],
   "source": []
  },
  {
   "cell_type": "code",
   "execution_count": null,
   "metadata": {
    "collapsed": true
   },
   "outputs": [],
   "source": []
  }
 ],
 "metadata": {
  "anaconda-cloud": {},
  "kernelspec": {
   "display_name": "Python [default]",
   "language": "python",
   "name": "python3"
  },
  "language_info": {
   "codemirror_mode": {
    "name": "ipython",
    "version": 3
   },
   "file_extension": ".py",
   "mimetype": "text/x-python",
   "name": "python",
   "nbconvert_exporter": "python",
   "pygments_lexer": "ipython3",
   "version": "3.5.2"
  }
 },
 "nbformat": 4,
 "nbformat_minor": 1
}
